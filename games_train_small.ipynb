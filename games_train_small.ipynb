{
 "cells": [
  {
   "cell_type": "code",
   "id": "initial_id",
   "metadata": {
    "collapsed": true,
    "ExecuteTime": {
     "end_time": "2024-11-03T20:40:59.663704Z",
     "start_time": "2024-11-03T20:40:59.660270Z"
    }
   },
   "source": [
    "import torch\n",
    "from torch import nn\n",
    "\n",
    "from data_loading import load_dataset_1d\n",
    "\n",
    "from core import train, test"
   ],
   "outputs": [],
   "execution_count": 34
  },
  {
   "metadata": {
    "ExecuteTime": {
     "end_time": "2024-11-03T20:40:59.678221Z",
     "start_time": "2024-11-03T20:40:59.663704Z"
    }
   },
   "cell_type": "code",
   "source": "BATCH_SIZE = 64",
   "id": "c4e57db20592e918",
   "outputs": [],
   "execution_count": 35
  },
  {
   "metadata": {
    "ExecuteTime": {
     "end_time": "2024-11-03T20:41:57.961947Z",
     "start_time": "2024-11-03T20:40:59.679224Z"
    }
   },
   "cell_type": "code",
   "source": [
    "dataset = load_dataset_1d('games_dataset.csv', BATCH_SIZE)\n",
    "len(dataset)"
   ],
   "id": "8e97fb789fb2cd08",
   "outputs": [
    {
     "data": {
      "text/plain": [
       "9117"
      ]
     },
     "execution_count": 36,
     "metadata": {},
     "output_type": "execute_result"
    }
   ],
   "execution_count": 36
  },
  {
   "metadata": {
    "ExecuteTime": {
     "end_time": "2024-11-03T20:41:57.965058Z",
     "start_time": "2024-11-03T20:41:57.961947Z"
    }
   },
   "cell_type": "code",
   "source": "dataset[0][0].shape",
   "id": "5500893dfd3f5e97",
   "outputs": [
    {
     "data": {
      "text/plain": [
       "torch.Size([64, 512])"
      ]
     },
     "execution_count": 37,
     "metadata": {},
     "output_type": "execute_result"
    }
   ],
   "execution_count": 37
  },
  {
   "metadata": {
    "ExecuteTime": {
     "end_time": "2024-11-03T20:41:57.970709Z",
     "start_time": "2024-11-03T20:41:57.965058Z"
    }
   },
   "cell_type": "code",
   "source": "DATASET_SIZE = 8000",
   "id": "f5a087b84350d9c6",
   "outputs": [],
   "execution_count": 38
  },
  {
   "metadata": {
    "ExecuteTime": {
     "end_time": "2024-11-03T20:41:57.978268Z",
     "start_time": "2024-11-03T20:41:57.970709Z"
    }
   },
   "cell_type": "code",
   "source": [
    "train_dataset = dataset[:DATASET_SIZE]\n",
    "test_dataset = dataset[DATASET_SIZE:]\n",
    "len(train_dataset),len(test_dataset)"
   ],
   "id": "f7cf8457fd6e36a1",
   "outputs": [
    {
     "data": {
      "text/plain": [
       "(8000, 1117)"
      ]
     },
     "execution_count": 39,
     "metadata": {},
     "output_type": "execute_result"
    }
   ],
   "execution_count": 39
  },
  {
   "metadata": {
    "ExecuteTime": {
     "end_time": "2024-11-03T20:42:02.612997Z",
     "start_time": "2024-11-03T20:41:57.978268Z"
    }
   },
   "cell_type": "code",
   "source": [
    "validation_dataset = load_dataset_1d('puzzle_dataset.csv', BATCH_SIZE)\n",
    "len(validation_dataset)"
   ],
   "id": "171421ee173075d9",
   "outputs": [
    {
     "data": {
      "text/plain": [
       "727"
      ]
     },
     "execution_count": 40,
     "metadata": {},
     "output_type": "execute_result"
    }
   ],
   "execution_count": 40
  },
  {
   "metadata": {
    "ExecuteTime": {
     "end_time": "2024-11-03T20:42:02.616873Z",
     "start_time": "2024-11-03T20:42:02.613999Z"
    }
   },
   "cell_type": "code",
   "source": [
    "def accuracy(out, truth):\n",
    "    return torch.abs(truth - out)"
   ],
   "id": "86644199c105ea3e",
   "outputs": [],
   "execution_count": 41
  },
  {
   "metadata": {
    "ExecuteTime": {
     "end_time": "2024-11-03T20:42:02.625683Z",
     "start_time": "2024-11-03T20:42:02.616873Z"
    }
   },
   "cell_type": "code",
   "source": [
    "class Model(nn.Module):\n",
    "    def __init__(self, *args, **kwargs):\n",
    "        super(Model, self).__init__()\n",
    "        self.classifier = nn.Sequential(*args, **kwargs)\n",
    "\n",
    "    def forward(self, X):\n",
    "        return self.classifier.forward(X)\n",
    "\n",
    "x1=2**10\n",
    "x2=2**5\n",
    "x3=2**3\n",
    "\n",
    "model = Model(nn.Linear(512,x1),\n",
    "              nn.ReLU(),\n",
    "              nn.Linear(x1,x2),\n",
    "              nn.ReLU(),\n",
    "              nn.Linear(x2,x3),\n",
    "              nn.ReLU(),\n",
    "              nn.Linear(x3,1)\n",
    "              )"
   ],
   "id": "40d5321f8631f8a8",
   "outputs": [],
   "execution_count": 42
  },
  {
   "metadata": {
    "ExecuteTime": {
     "end_time": "2024-11-03T21:03:40.565606Z",
     "start_time": "2024-11-03T20:42:02.626685Z"
    }
   },
   "cell_type": "code",
   "source": [
    "train(train_dataset,\n",
    "      BATCH_SIZE,\n",
    "      model,\n",
    "      nn.MSELoss(),\n",
    "      torch.optim.SGD(model.classifier.parameters(), lr=0.02),\n",
    "      accuracy,\n",
    "      500)"
   ],
   "id": "86e2b6dcc72b0656",
   "outputs": [
    {
     "name": "stdout",
     "output_type": "stream",
     "text": [
      "Dataset size: 8000\n",
      "Epoch [1/200], train_loss: 5.879448705345392, train_accuracy: 1.7779126019477844, time: 6.929s\n",
      "Epoch [2/200], train_loss: 3.649482143178582, train_accuracy: 1.3867391659244894, time: 6.234s\n",
      "Epoch [3/200], train_loss: 2.7160354040861128, train_accuracy: 1.1928198103308678, time: 5.868s\n",
      "Epoch [4/200], train_loss: 2.210546361260116, train_accuracy: 1.076112511008978, time: 5.856s\n",
      "Epoch [5/200], train_loss: 1.8848249880373478, train_accuracy: 0.9942407237738371, time: 5.882s\n",
      "Epoch [6/200], train_loss: 1.6625629074797035, train_accuracy: 0.9343729684948922, time: 6.339s\n",
      "Epoch [7/200], train_loss: 1.4993363173529506, train_accuracy: 0.8875179653987288, time: 6.635s\n",
      "Epoch [8/200], train_loss: 1.3680359908789397, train_accuracy: 0.8492243732586503, time: 6.547s\n",
      "Epoch [9/200], train_loss: 1.2677803937532008, train_accuracy: 0.8182686973512173, time: 8.104s\n",
      "Epoch [10/200], train_loss: 1.180795012138784, train_accuracy: 0.7904159463234246, time: 7.715s\n",
      "Epoch [11/200], train_loss: 1.104170169364661, train_accuracy: 0.7652043103203178, time: 8.147s\n",
      "Epoch [12/200], train_loss: 1.040453525017947, train_accuracy: 0.7442812053896487, time: 7.41s\n",
      "Epoch [13/200], train_loss: 0.9921620613224804, train_accuracy: 0.7273803423717617, time: 5.858s\n",
      "Epoch [14/200], train_loss: 0.9449571530036628, train_accuracy: 0.7105586860589683, time: 5.866s\n",
      "Epoch [15/200], train_loss: 0.9007807312756777, train_accuracy: 0.6946813985668123, time: 5.791s\n",
      "Epoch [16/200], train_loss: 0.8639280010312795, train_accuracy: 0.6810518696010113, time: 6.25s\n",
      "Epoch [17/200], train_loss: 0.8331966624967754, train_accuracy: 0.668799093592912, time: 7.111s\n",
      "Epoch [18/200], train_loss: 0.8006221786811948, train_accuracy: 0.6563091450594366, time: 7.157s\n",
      "Epoch [19/200], train_loss: 0.771570021867752, train_accuracy: 0.6454670535176993, time: 6.894s\n",
      "Epoch [20/200], train_loss: 0.7479343985132874, train_accuracy: 0.6357445965856313, time: 7.234s\n",
      "Epoch [21/200], train_loss: 0.7215896171666681, train_accuracy: 0.6251937877945601, time: 7.231s\n",
      "Epoch [22/200], train_loss: 0.7016899883560836, train_accuracy: 0.6165429158732295, time: 6.719s\n",
      "Epoch [23/200], train_loss: 0.6780016042739153, train_accuracy: 0.6067294918783009, time: 6.9s\n",
      "Epoch [24/200], train_loss: 0.6583350006304681, train_accuracy: 0.5982652754075826, time: 6.833s\n",
      "Epoch [25/200], train_loss: 0.6373175928071141, train_accuracy: 0.5892365339323878, time: 7.016s\n",
      "Epoch [26/200], train_loss: 0.6291873764824122, train_accuracy: 0.5849499909318984, time: 5.927s\n",
      "Epoch [27/200], train_loss: 0.6136753178313374, train_accuracy: 0.5782092814818025, time: 6.366s\n",
      "Epoch [28/200], train_loss: 0.59623361784406, train_accuracy: 0.5702582402862608, time: 5.994s\n",
      "Epoch [29/200], train_loss: 0.5827867469005287, train_accuracy: 0.5639673787727952, time: 6.454s\n",
      "Epoch [30/200], train_loss: 0.569912364302203, train_accuracy: 0.5578452695459127, time: 6.364s\n",
      "Epoch [31/200], train_loss: 0.5534844947867096, train_accuracy: 0.5500024359375238, time: 6.305s\n",
      "Epoch [32/200], train_loss: 0.5433970484565943, train_accuracy: 0.5450048179402948, time: 6.967s\n",
      "Epoch [33/200], train_loss: 0.5342098703477531, train_accuracy: 0.5406171895712614, time: 6.712s\n",
      "Epoch [34/200], train_loss: 0.5240963108111173, train_accuracy: 0.5358044293969869, time: 6.802s\n",
      "Epoch [35/200], train_loss: 0.5128265155516565, train_accuracy: 0.5300950749218464, time: 7.196s\n",
      "Epoch [36/200], train_loss: 0.5041540902964771, train_accuracy: 0.5255903920158744, time: 6.646s\n",
      "Epoch [37/200], train_loss: 0.4946374515295029, train_accuracy: 0.5208535627834499, time: 7.441s\n",
      "Epoch [38/200], train_loss: 0.48996350448206066, train_accuracy: 0.5182644183598458, time: 6.461s\n",
      "Epoch [39/200], train_loss: 0.48138938857242464, train_accuracy: 0.5139553905725479, time: 6.581s\n",
      "Epoch [40/200], train_loss: 0.4741297367643565, train_accuracy: 0.5101362130977214, time: 6.692s\n",
      "Epoch [41/200], train_loss: 0.4650399577692151, train_accuracy: 0.5052204724662006, time: 6.369s\n",
      "Epoch [42/200], train_loss: 0.4577819648515433, train_accuracy: 0.5014272127039731, time: 6.055s\n",
      "Epoch [43/200], train_loss: 0.4505319538190961, train_accuracy: 0.49748589009046557, time: 6.222s\n",
      "Epoch [44/200], train_loss: 0.4423775560129434, train_accuracy: 0.4931946595273912, time: 5.961s\n",
      "Epoch [45/200], train_loss: 0.4355184650719166, train_accuracy: 0.48897387233003975, time: 5.907s\n",
      "Epoch [46/200], train_loss: 0.432141799274832, train_accuracy: 0.48721821536123755, time: 5.921s\n",
      "Epoch [47/200], train_loss: 0.4278107824623585, train_accuracy: 0.48473724368959664, time: 5.906s\n",
      "Epoch [48/200], train_loss: 0.42187207558006046, train_accuracy: 0.4818696528710425, time: 5.921s\n",
      "Epoch [49/200], train_loss: 0.4172787163555622, train_accuracy: 0.47887517055124046, time: 5.87s\n",
      "Epoch [50/200], train_loss: 0.4122399960178882, train_accuracy: 0.47608786483854054, time: 5.927s\n",
      "Epoch [51/200], train_loss: 0.40302709695883093, train_accuracy: 0.47076613051071764, time: 5.936s\n",
      "Epoch [52/200], train_loss: 0.39768001214042303, train_accuracy: 0.46759583047404885, time: 5.912s\n",
      "Epoch [53/200], train_loss: 0.39562054981477557, train_accuracy: 0.466270436860621, time: 5.863s\n",
      "Epoch [54/200], train_loss: 0.39101502822898326, train_accuracy: 0.463682773925364, time: 6.202s\n",
      "Epoch [55/200], train_loss: 0.38647212494537236, train_accuracy: 0.46086496822535994, time: 5.931s\n",
      "Epoch [56/200], train_loss: 0.3833714135754854, train_accuracy: 0.4591534245721996, time: 6.199s\n",
      "Epoch [57/200], train_loss: 0.3783325718604028, train_accuracy: 0.45611178400740027, time: 6.045s\n",
      "Epoch [58/200], train_loss: 0.3733484015148133, train_accuracy: 0.45307075563818217, time: 6.361s\n",
      "Epoch [59/200], train_loss: 0.36847213975898924, train_accuracy: 0.45026297445222735, time: 6.113s\n",
      "Epoch [60/200], train_loss: 0.36556740710698066, train_accuracy: 0.4484160806722939, time: 5.985s\n",
      "Epoch [61/200], train_loss: 0.3617611915394664, train_accuracy: 0.44585000317171214, time: 6.048s\n",
      "Epoch [62/200], train_loss: 0.35836059486772864, train_accuracy: 0.44394892526417973, time: 6.173s\n",
      "Epoch [63/200], train_loss: 0.3531841183267534, train_accuracy: 0.44061222646012904, time: 6.23s\n",
      "Epoch [64/200], train_loss: 0.35171617137640715, train_accuracy: 0.43966585779562595, time: 6.918s\n",
      "Epoch [65/200], train_loss: 0.3464221113231033, train_accuracy: 0.436169718567282, time: 7.574s\n",
      "Epoch [66/200], train_loss: 0.3446440674029291, train_accuracy: 0.4351834860704839, time: 7.704s\n",
      "Epoch [67/200], train_loss: 0.3414697079928592, train_accuracy: 0.43271704084053636, time: 7.48s\n",
      "Epoch [68/200], train_loss: 0.3398241229467094, train_accuracy: 0.43196500892192125, time: 8.781s\n",
      "Epoch [69/200], train_loss: 0.3381779200555757, train_accuracy: 0.4310571157298982, time: 6.259s\n",
      "Epoch [70/200], train_loss: 0.3346540038958192, train_accuracy: 0.42840308606624605, time: 6.181s\n",
      "Epoch [71/200], train_loss: 0.3335675930883735, train_accuracy: 0.42804090555012225, time: 6.405s\n",
      "Epoch [72/200], train_loss: 0.3297098352210596, train_accuracy: 0.42539353047311307, time: 6.321s\n",
      "Epoch [73/200], train_loss: 0.32657213508430866, train_accuracy: 0.4232869170643389, time: 7.167s\n",
      "Epoch [74/200], train_loss: 0.3252407160103321, train_accuracy: 0.42236418067663906, time: 7.117s\n",
      "Epoch [75/200], train_loss: 0.3216840939819813, train_accuracy: 0.4200393062643707, time: 8.008s\n",
      "Epoch [76/200], train_loss: 0.3168334004804492, train_accuracy: 0.4169005914554, time: 7.402s\n",
      "Epoch [77/200], train_loss: 0.31268803849630056, train_accuracy: 0.414017427701503, time: 6.175s\n",
      "Epoch [78/200], train_loss: 0.3146929490454495, train_accuracy: 0.4152066675014794, time: 6.18s\n",
      "Epoch [79/200], train_loss: 0.312227610337548, train_accuracy: 0.41375108560174706, time: 6.158s\n",
      "Epoch [80/200], train_loss: 0.31369512267503885, train_accuracy: 0.4145001303739846, time: 6.408s\n",
      "Epoch [81/200], train_loss: 0.3066513770688325, train_accuracy: 0.4101621472463012, time: 6.399s\n",
      "Epoch [82/200], train_loss: 0.3041584304459393, train_accuracy: 0.40818502198904755, time: 7.689s\n",
      "Epoch [83/200], train_loss: 0.30252353529352694, train_accuracy: 0.4068135394528508, time: 7.878s\n",
      "Epoch [84/200], train_loss: 0.2985508143864572, train_accuracy: 0.4044018927104771, time: 7.663s\n",
      "Epoch [85/200], train_loss: 0.2975435134097934, train_accuracy: 0.4035393030233681, time: 6.914s\n",
      "Epoch [86/200], train_loss: 0.2956933916695416, train_accuracy: 0.40237159306928516, time: 7.299s\n",
      "Epoch [87/200], train_loss: 0.2924709877772257, train_accuracy: 0.39962665862217545, time: 7.169s\n",
      "Epoch [88/200], train_loss: 0.29100279955659064, train_accuracy: 0.398917733380571, time: 6.321s\n",
      "Epoch [89/200], train_loss: 0.2885525059811771, train_accuracy: 0.397234092798084, time: 6.396s\n",
      "Epoch [90/200], train_loss: 0.2874842265835032, train_accuracy: 0.39631125845760107, time: 6.344s\n",
      "Epoch [91/200], train_loss: 0.2854721638346091, train_accuracy: 0.39488358664512635, time: 6.4s\n",
      "Epoch [92/200], train_loss: 0.28374904181901367, train_accuracy: 0.3939060335345566, time: 6.084s\n",
      "Epoch [93/200], train_loss: 0.2826755050281063, train_accuracy: 0.39274696486070754, time: 6.037s\n",
      "Epoch [94/200], train_loss: 0.2824735342049971, train_accuracy: 0.39284637293592095, time: 6.121s\n",
      "Epoch [95/200], train_loss: 0.27807055878359827, train_accuracy: 0.38959415564499794, time: 6.905s\n",
      "Epoch [96/200], train_loss: 0.27786668804381043, train_accuracy: 0.38932714303210375, time: 6.347s\n",
      "Epoch [97/200], train_loss: 0.2771079960465431, train_accuracy: 0.38881559657678005, time: 6.833s\n",
      "Epoch [98/200], train_loss: 0.274245735748671, train_accuracy: 0.3868151074871421, time: 5.93s\n",
      "Epoch [99/200], train_loss: 0.27313534627109765, train_accuracy: 0.38585477325879036, time: 5.796s\n",
      "Epoch [100/200], train_loss: 0.2689102973844856, train_accuracy: 0.38296340446546673, time: 5.775s\n",
      "Epoch [101/200], train_loss: 0.26773141803685574, train_accuracy: 0.3818528484925628, time: 5.725s\n",
      "Epoch [102/200], train_loss: 0.26616978920437395, train_accuracy: 0.3807039660103619, time: 5.732s\n",
      "Epoch [103/200], train_loss: 0.26567447406146677, train_accuracy: 0.3803326125647873, time: 6.06s\n",
      "Epoch [104/200], train_loss: 0.2643034008583054, train_accuracy: 0.37933079148083926, time: 6.565s\n",
      "Epoch [105/200], train_loss: 0.26328367851860823, train_accuracy: 0.3784158103018999, time: 6.159s\n",
      "Epoch [106/200], train_loss: 0.2619007326774299, train_accuracy: 0.3775393118560314, time: 5.812s\n",
      "Epoch [107/200], train_loss: 0.26166222808603196, train_accuracy: 0.3773131423611194, time: 5.759s\n",
      "Epoch [108/200], train_loss: 0.2590076497895643, train_accuracy: 0.37518517194129525, time: 5.686s\n",
      "Epoch [109/200], train_loss: 0.2564280248414725, train_accuracy: 0.3731606931909919, time: 5.727s\n",
      "Epoch [110/200], train_loss: 0.2549062189925462, train_accuracy: 0.3721901936866343, time: 5.704s\n",
      "Epoch [111/200], train_loss: 0.25268691493105144, train_accuracy: 0.37013788947835563, time: 5.721s\n",
      "Epoch [112/200], train_loss: 0.2526147097684443, train_accuracy: 0.37016471177525817, time: 6.02s\n",
      "Epoch [113/200], train_loss: 0.2520649023167789, train_accuracy: 0.3697458020672202, time: 6.18s\n",
      "Epoch [114/200], train_loss: 0.25228891673218456, train_accuracy: 0.37001789377070965, time: 5.873s\n",
      "Epoch [115/200], train_loss: 0.25085975515376774, train_accuracy: 0.36908361383341254, time: 6.029s\n",
      "Epoch [116/200], train_loss: 0.24966972518805414, train_accuracy: 0.36786539944261315, time: 5.981s\n",
      "Epoch [117/200], train_loss: 0.24912008658330886, train_accuracy: 0.36761574136838315, time: 6.021s\n",
      "Epoch [118/200], train_loss: 0.24743677901662886, train_accuracy: 0.3662564194351435, time: 6.362s\n",
      "Epoch [119/200], train_loss: 0.24484960321709515, train_accuracy: 0.3642260773535818, time: 6.435s\n",
      "Epoch [120/200], train_loss: 0.24468164518568664, train_accuracy: 0.3641278873551637, time: 8.152s\n",
      "Epoch [121/200], train_loss: 0.243220192566514, train_accuracy: 0.3630138753969222, time: 7.53s\n",
      "Epoch [122/200], train_loss: 0.24157716111373156, train_accuracy: 0.36166187906451525, time: 8.185s\n",
      "Epoch [123/200], train_loss: 0.2397206440065056, train_accuracy: 0.36019329880177975, time: 7.594s\n",
      "Epoch [124/200], train_loss: 0.23919633959047495, train_accuracy: 0.35961578192189336, time: 6.449s\n",
      "Epoch [125/200], train_loss: 0.23744914770126344, train_accuracy: 0.3583402472157031, time: 6.602s\n",
      "Epoch [126/200], train_loss: 0.23703028759080916, train_accuracy: 0.35781496722251177, time: 6.101s\n",
      "Epoch [127/200], train_loss: 0.23622545311134308, train_accuracy: 0.35733813982643187, time: 6.189s\n",
      "Epoch [128/200], train_loss: 0.23552666797116398, train_accuracy: 0.3567305245399475, time: 5.825s\n",
      "Epoch [129/200], train_loss: 0.23402457514125855, train_accuracy: 0.3555728310830891, time: 5.763s\n",
      "Epoch [130/200], train_loss: 0.2332354068113491, train_accuracy: 0.35500618624687197, time: 7.375s\n",
      "Epoch [131/200], train_loss: 0.23263155521638693, train_accuracy: 0.35446474169194697, time: 8.148s\n",
      "Epoch [132/200], train_loss: 0.23194811627548187, train_accuracy: 0.35381801924295725, time: 7.994s\n",
      "Epoch [133/200], train_loss: 0.23202259938325734, train_accuracy: 0.3539112363569438, time: 8.124s\n",
      "Epoch [134/200], train_loss: 0.22985214866511525, train_accuracy: 0.3522216099984944, time: 7.927s\n",
      "Epoch [135/200], train_loss: 0.2307505691172555, train_accuracy: 0.35311104664951565, time: 7.912s\n",
      "Epoch [136/200], train_loss: 0.228027598163113, train_accuracy: 0.3507388117481023, time: 8.0s\n",
      "Epoch [137/200], train_loss: 0.22670925723202526, train_accuracy: 0.34966520994156597, time: 7.242s\n",
      "Epoch [138/200], train_loss: 0.22678381904773415, train_accuracy: 0.34973404598608615, time: 7.157s\n",
      "Epoch [139/200], train_loss: 0.2260628328518942, train_accuracy: 0.3488882833700627, time: 7.106s\n",
      "Epoch [140/200], train_loss: 0.2237801756700501, train_accuracy: 0.3471695827078074, time: 7.519s\n",
      "Epoch [141/200], train_loss: 0.22322411219775676, train_accuracy: 0.34651056230068206, time: 7.05s\n",
      "Epoch [142/200], train_loss: 0.22167589080799371, train_accuracy: 0.34538665996678175, time: 6.853s\n",
      "Epoch [143/200], train_loss: 0.2222339881407097, train_accuracy: 0.34586181032285096, time: 8.035s\n",
      "Epoch [144/200], train_loss: 0.22113177394773811, train_accuracy: 0.3450595189929008, time: 6.74s\n",
      "Epoch [145/200], train_loss: 0.22123994874674827, train_accuracy: 0.345019870525226, time: 5.846s\n",
      "Epoch [146/200], train_loss: 0.22003907532524317, train_accuracy: 0.34405151010118423, time: 6.394s\n",
      "Epoch [147/200], train_loss: 0.21804976119752972, train_accuracy: 0.3423690621536225, time: 6.279s\n",
      "Epoch [148/200], train_loss: 0.2170461755990982, train_accuracy: 0.3413404832594097, time: 6.537s\n",
      "Epoch [149/200], train_loss: 0.21575283941067755, train_accuracy: 0.3402762262672186, time: 6.4s\n",
      "Epoch [150/200], train_loss: 0.21596572436019779, train_accuracy: 0.34049095296859744, time: 6.163s\n",
      "Epoch [151/200], train_loss: 0.21592730502784252, train_accuracy: 0.3405174430347979, time: 5.953s\n",
      "Epoch [152/200], train_loss: 0.21675573021452874, train_accuracy: 0.34106674551777544, time: 6.145s\n",
      "Epoch [153/200], train_loss: 0.21803847001306711, train_accuracy: 0.34217307715676726, time: 6.159s\n",
      "Epoch [154/200], train_loss: 0.21553099427372216, train_accuracy: 0.34041422935947774, time: 6.285s\n",
      "Epoch [155/200], train_loss: 0.21427584822010248, train_accuracy: 0.3393064348399639, time: 6.279s\n",
      "Epoch [156/200], train_loss: 0.2115293251145631, train_accuracy: 0.3368403498902917, time: 6.315s\n",
      "Epoch [157/200], train_loss: 0.21071918397955597, train_accuracy: 0.33603147375397385, time: 6.018s\n",
      "Epoch [158/200], train_loss: 0.2105340096540749, train_accuracy: 0.33585084245726465, time: 5.961s\n",
      "Epoch [159/200], train_loss: 0.210490221795626, train_accuracy: 0.3358593462407589, time: 5.996s\n",
      "Epoch [160/200], train_loss: 0.2094595528272912, train_accuracy: 0.3349769046846777, time: 5.948s\n",
      "Epoch [161/200], train_loss: 0.20915498457662762, train_accuracy: 0.3347378437072039, time: 5.977s\n",
      "Epoch [162/200], train_loss: 0.20897360568959267, train_accuracy: 0.3343972222208977, time: 5.984s\n",
      "Epoch [163/200], train_loss: 0.20742770324274898, train_accuracy: 0.3331102881599218, time: 6.653s\n",
      "Epoch [164/200], train_loss: 0.20783748653903603, train_accuracy: 0.3335789671782404, time: 6.329s\n",
      "Epoch [165/200], train_loss: 0.2061197249609977, train_accuracy: 0.3319188356511295, time: 6.294s\n",
      "Epoch [166/200], train_loss: 0.2041705079404637, train_accuracy: 0.33015785861946645, time: 6.27s\n",
      "Epoch [167/200], train_loss: 0.20220883328747005, train_accuracy: 0.32838699853420256, time: 6.205s\n",
      "Epoch [168/200], train_loss: 0.20227745420951396, train_accuracy: 0.3285532543491572, time: 6.006s\n",
      "Epoch [169/200], train_loss: 0.20222582033090294, train_accuracy: 0.3284336759056896, time: 5.925s\n",
      "Epoch [170/200], train_loss: 0.20202491124160588, train_accuracy: 0.32843746163882315, time: 5.879s\n",
      "Epoch [171/200], train_loss: 0.20203670091740786, train_accuracy: 0.32828994575329123, time: 5.862s\n",
      "Epoch [172/200], train_loss: 0.20190804997552186, train_accuracy: 0.3283222174625844, time: 5.883s\n",
      "Epoch [173/200], train_loss: 0.20036063130386172, train_accuracy: 0.32704875591769816, time: 5.894s\n",
      "Epoch [174/200], train_loss: 0.19973390994686632, train_accuracy: 0.32630728564411404, time: 5.919s\n",
      "Epoch [175/200], train_loss: 0.20033026719745248, train_accuracy: 0.3269537287671119, time: 5.909s\n",
      "Epoch [176/200], train_loss: 0.20038900193758308, train_accuracy: 0.32695222696103154, time: 5.955s\n",
      "Epoch [177/200], train_loss: 0.19991769145615398, train_accuracy: 0.32673028207942845, time: 7.078s\n",
      "Epoch [178/200], train_loss: 0.199368712159805, train_accuracy: 0.326182202802971, time: 7.286s\n",
      "Epoch [179/200], train_loss: 0.198258657685481, train_accuracy: 0.3251097425185144, time: 5.943s\n",
      "Epoch [180/200], train_loss: 0.1978805122161284, train_accuracy: 0.3247409600224346, time: 5.958s\n",
      "Epoch [181/200], train_loss: 0.195851890954189, train_accuracy: 0.32292487009614707, time: 5.88s\n",
      "Epoch [182/200], train_loss: 0.19510030822455884, train_accuracy: 0.3221297154054046, time: 5.884s\n",
      "Epoch [183/200], train_loss: 0.19427262817136942, train_accuracy: 0.3213293393980712, time: 5.919s\n",
      "Epoch [184/200], train_loss: 0.19532992436923086, train_accuracy: 0.32245697560720143, time: 5.957s\n",
      "Epoch [185/200], train_loss: 0.19455373945645987, train_accuracy: 0.3214610704351217, time: 5.915s\n",
      "Epoch [186/200], train_loss: 0.19412526561133564, train_accuracy: 0.32145564671419563, time: 5.91s\n",
      "Epoch [187/200], train_loss: 0.19421406338457017, train_accuracy: 0.3215540559925139, time: 5.917s\n",
      "Epoch [188/200], train_loss: 0.19327734406851232, train_accuracy: 0.32063897568546235, time: 5.874s\n",
      "Epoch [189/200], train_loss: 0.19118514043744653, train_accuracy: 0.31845141683146355, time: 5.905s\n",
      "Epoch [190/200], train_loss: 0.1909997501950711, train_accuracy: 0.3184349881764501, time: 5.87s\n",
      "Epoch [191/200], train_loss: 0.1914360834658146, train_accuracy: 0.3187642932329327, time: 5.904s\n",
      "Epoch [192/200], train_loss: 0.19038740359898657, train_accuracy: 0.31777089908905326, time: 5.895s\n",
      "Epoch [193/200], train_loss: 0.1894606667086482, train_accuracy: 0.31703460206836465, time: 6.791s\n",
      "Epoch [194/200], train_loss: 0.18925111355166882, train_accuracy: 0.316895729906857, time: 7.058s\n",
      "Epoch [195/200], train_loss: 0.1878433105070144, train_accuracy: 0.3153390865307301, time: 6.257s\n",
      "Epoch [196/200], train_loss: 0.18736347762681543, train_accuracy: 0.3148851652983576, time: 6.734s\n",
      "Epoch [197/200], train_loss: 0.18803416136093437, train_accuracy: 0.3155800493676215, time: 6.425s\n",
      "Epoch [198/200], train_loss: 0.18766581732966006, train_accuracy: 0.3154229899607599, time: 6.284s\n",
      "Epoch [199/200], train_loss: 0.1873634018180892, train_accuracy: 0.3150544648766518, time: 5.918s\n",
      "Epoch [200/200], train_loss: 0.18587906230101361, train_accuracy: 0.31367848664708436, time: 7.669s\n"
     ]
    }
   ],
   "execution_count": 43
  },
  {
   "metadata": {
    "ExecuteTime": {
     "end_time": "2024-11-03T21:03:40.857341Z",
     "start_time": "2024-11-03T21:03:40.566610Z"
    }
   },
   "cell_type": "code",
   "source": "test(test_dataset, BATCH_SIZE, model, nn.MSELoss(), accuracy)",
   "id": "dfc37b04d4ae7fea",
   "outputs": [
    {
     "name": "stdout",
     "output_type": "stream",
     "text": [
      "Dataset size: 1117\n",
      "test_loss: 2.458127800652035, test_accuracy: 1.0434147403404557, time: 0.289s\n"
     ]
    }
   ],
   "execution_count": 44
  },
  {
   "metadata": {
    "ExecuteTime": {
     "end_time": "2024-11-03T21:03:42.874201Z",
     "start_time": "2024-11-03T21:03:40.857341Z"
    }
   },
   "cell_type": "code",
   "source": "test(train_dataset, BATCH_SIZE, model, nn.MSELoss(), accuracy)",
   "id": "2bea0613ee7f39bc",
   "outputs": [
    {
     "name": "stdout",
     "output_type": "stream",
     "text": [
      "Dataset size: 8000\n",
      "test_loss: 0.40339428310841324, test_accuracy: 0.4606853594407439, time: 2.015s\n"
     ]
    }
   ],
   "execution_count": 45
  },
  {
   "metadata": {
    "ExecuteTime": {
     "end_time": "2024-11-03T21:03:43.049627Z",
     "start_time": "2024-11-03T21:03:42.874201Z"
    }
   },
   "cell_type": "code",
   "source": "test(validation_dataset, BATCH_SIZE, model, nn.MSELoss(), accuracy)",
   "id": "a2e5accf2b6cb263",
   "outputs": [
    {
     "name": "stdout",
     "output_type": "stream",
     "text": [
      "Dataset size: 727\n",
      "test_loss: 23.974502469027385, test_accuracy: 3.9960329030862045, time: 0.173s\n"
     ]
    }
   ],
   "execution_count": 46
  },
  {
   "metadata": {
    "ExecuteTime": {
     "end_time": "2024-11-03T21:10:17.705030Z",
     "start_time": "2024-11-03T21:10:17.685291Z"
    }
   },
   "cell_type": "code",
   "source": "torch.save(model.state_dict(),'model.pt')",
   "id": "40372181fbaea4e",
   "outputs": [],
   "execution_count": 48
  }
 ],
 "metadata": {
  "kernelspec": {
   "display_name": "Python 3",
   "language": "python",
   "name": "python3"
  },
  "language_info": {
   "codemirror_mode": {
    "name": "ipython",
    "version": 2
   },
   "file_extension": ".py",
   "mimetype": "text/x-python",
   "name": "python",
   "nbconvert_exporter": "python",
   "pygments_lexer": "ipython2",
   "version": "2.7.6"
  }
 },
 "nbformat": 4,
 "nbformat_minor": 5
}
