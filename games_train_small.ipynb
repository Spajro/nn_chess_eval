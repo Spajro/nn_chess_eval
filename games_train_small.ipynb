{
 "cells": [
  {
   "cell_type": "code",
   "id": "initial_id",
   "metadata": {
    "collapsed": true,
    "ExecuteTime": {
     "end_time": "2024-11-10T17:54:47.638579Z",
     "start_time": "2024-11-10T17:54:46.469339Z"
    }
   },
   "source": [
    "import torch\n",
    "from torch import nn\n",
    "\n",
    "from src.data_loading import load_dataset_1d\n",
    "\n",
    "from src.core import train, test"
   ],
   "outputs": [],
   "execution_count": 1
  },
  {
   "metadata": {
    "ExecuteTime": {
     "end_time": "2024-11-10T17:54:47.642502Z",
     "start_time": "2024-11-10T17:54:47.638579Z"
    }
   },
   "cell_type": "code",
   "source": "BATCH_SIZE = 64",
   "id": "c4e57db20592e918",
   "outputs": [],
   "execution_count": 2
  },
  {
   "metadata": {
    "ExecuteTime": {
     "end_time": "2024-11-10T17:56:56.862373Z",
     "start_time": "2024-11-10T17:54:47.642502Z"
    }
   },
   "cell_type": "code",
   "source": [
    "train_dataset = load_dataset_1d('train_dataset.csv', BATCH_SIZE)\n",
    "test_dataset = load_dataset_1d('test_dataset.csv', BATCH_SIZE)\n",
    "len(train_dataset), len(test_dataset)"
   ],
   "id": "8e97fb789fb2cd08",
   "outputs": [
    {
     "data": {
      "text/plain": [
       "(13149, 3287)"
      ]
     },
     "execution_count": 3,
     "metadata": {},
     "output_type": "execute_result"
    }
   ],
   "execution_count": 3
  },
  {
   "metadata": {
    "ExecuteTime": {
     "end_time": "2024-11-10T17:56:56.866376Z",
     "start_time": "2024-11-10T17:56:56.862373Z"
    }
   },
   "cell_type": "code",
   "source": "train_dataset[0][0].shape",
   "id": "3640ae392f8acc68",
   "outputs": [
    {
     "data": {
      "text/plain": [
       "torch.Size([64, 768])"
      ]
     },
     "execution_count": 4,
     "metadata": {},
     "output_type": "execute_result"
    }
   ],
   "execution_count": 4
  },
  {
   "metadata": {
    "ExecuteTime": {
     "end_time": "2024-11-10T17:56:56.879767Z",
     "start_time": "2024-11-10T17:56:56.866878Z"
    }
   },
   "cell_type": "code",
   "source": [
    "def accuracy(out, truth):\n",
    "    return torch.abs(truth - out)"
   ],
   "id": "86644199c105ea3e",
   "outputs": [],
   "execution_count": 5
  },
  {
   "metadata": {
    "ExecuteTime": {
     "end_time": "2024-11-10T17:57:15.723716Z",
     "start_time": "2024-11-10T17:57:15.717435Z"
    }
   },
   "cell_type": "code",
   "source": [
    "x0 = 768\n",
    "x1 = 2 ** 10\n",
    "x2 = 2 ** 5\n",
    "x3 = 2 ** 3\n",
    "\n",
    "\n",
    "class Model(nn.Module):\n",
    "    def __init__(self):\n",
    "        super(Model, self).__init__()\n",
    "        self.layer1 = nn.Linear(x0, x1)\n",
    "        self.layer2 = nn.Linear(x1, x2)\n",
    "        self.layer3 = nn.Linear(x2, x3)\n",
    "        self.layer4 = nn.Linear(x3, 1)\n",
    "        self.classifier = nn.Sequential(self.layer1,\n",
    "                                        nn.ReLU(),\n",
    "                                        self.layer2,\n",
    "                                        nn.ReLU(),\n",
    "                                        self.layer3,\n",
    "                                        nn.ReLU(),\n",
    "                                        self.layer4)\n",
    "\n",
    "    def forward(self, X):\n",
    "        return self.classifier.forward(X)\n",
    "\n",
    "\n",
    "model = Model()\n",
    "optimizer = torch.optim.SGD(model.classifier.parameters(), lr=0.05),"
   ],
   "id": "40d5321f8631f8a8",
   "outputs": [],
   "execution_count": 10
  },
  {
   "metadata": {
    "ExecuteTime": {
     "end_time": "2024-11-10T18:15:48.356011Z",
     "start_time": "2024-11-10T17:57:16.159490Z"
    }
   },
   "cell_type": "code",
   "source": [
    "train(train_dataset,\n",
    "      BATCH_SIZE,\n",
    "      model,\n",
    "      nn.MSELoss(),\n",
    "      optimizer,\n",
    "      accuracy,\n",
    "      100)"
   ],
   "id": "86e2b6dcc72b0656",
   "outputs": [
    {
     "name": "stdout",
     "output_type": "stream",
     "text": [
      "Dataset size: 13149\n",
      "Epoch [1/100], train_loss: 8.473548752933919, train_accuracy: 2.3368464524469066, time: 10.742s\n",
      "Epoch [2/100], train_loss: 6.5725913282328845, train_accuracy: 1.9981716491938708, time: 10.949s\n",
      "Epoch [3/100], train_loss: 5.714405312620829, train_accuracy: 1.8226621955671694, time: 10.439s\n",
      "Epoch [4/100], train_loss: 5.082206896211958, train_accuracy: 1.693927256963454, time: 10.607s\n",
      "Epoch [5/100], train_loss: 4.576684761885065, train_accuracy: 1.5914553842333137, time: 10.295s\n",
      "Epoch [6/100], train_loss: 4.154466583303774, train_accuracy: 1.5052508849301296, time: 10.233s\n",
      "Epoch [7/100], train_loss: 3.816964927522191, train_accuracy: 1.4360176189851104, time: 10.518s\n",
      "Epoch [8/100], train_loss: 3.5360835215394255, train_accuracy: 1.377606214910544, time: 10.139s\n",
      "Epoch [9/100], train_loss: 3.2975786343592004, train_accuracy: 1.327489771678136, time: 10.336s\n",
      "Epoch [10/100], train_loss: 3.096678844680622, train_accuracy: 1.2850384445179188, time: 10.583s\n",
      "Epoch [11/100], train_loss: 2.926281855708157, train_accuracy: 1.2486799189968067, time: 11.0s\n",
      "Epoch [12/100], train_loss: 2.7757291431771147, train_accuracy: 1.2156441080696239, time: 10.595s\n",
      "Epoch [13/100], train_loss: 2.6350531536133555, train_accuracy: 1.1844359266321889, time: 10.865s\n",
      "Epoch [14/100], train_loss: 2.521173829293104, train_accuracy: 1.1590013309788527, time: 10.569s\n",
      "Epoch [15/100], train_loss: 2.4124077752349278, train_accuracy: 1.1339572402259426, time: 10.311s\n",
      "Epoch [16/100], train_loss: 2.3173950274449915, train_accuracy: 1.1119118725104844, time: 10.304s\n",
      "Epoch [17/100], train_loss: 2.226388574618878, train_accuracy: 1.0901629042671663, time: 10.488s\n",
      "Epoch [18/100], train_loss: 2.1369737555558386, train_accuracy: 1.0685456585309308, time: 10.459s\n",
      "Epoch [19/100], train_loss: 2.063496335115856, train_accuracy: 1.0509346800119181, time: 10.653s\n",
      "Epoch [20/100], train_loss: 2.002292975213321, train_accuracy: 1.0362764596213805, time: 10.387s\n",
      "Epoch [21/100], train_loss: 1.940326463469934, train_accuracy: 1.0202289548144339, time: 10.235s\n",
      "Epoch [22/100], train_loss: 1.874203391007683, train_accuracy: 1.0038442122581768, time: 12.757s\n",
      "Epoch [23/100], train_loss: 1.8174310432104877, train_accuracy: 0.9900009164099223, time: 12.387s\n",
      "Epoch [24/100], train_loss: 1.7576264874641774, train_accuracy: 0.9744961280855936, time: 11.523s\n",
      "Epoch [25/100], train_loss: 1.714438631422339, train_accuracy: 0.9627682420588943, time: 10.16s\n",
      "Epoch [26/100], train_loss: 1.6662868620102935, train_accuracy: 0.9500429806931227, time: 10.125s\n",
      "Epoch [27/100], train_loss: 1.6221517139953827, train_accuracy: 0.937788719137827, time: 10.141s\n",
      "Epoch [28/100], train_loss: 1.5831190335341703, train_accuracy: 0.9271744326979808, time: 10.097s\n",
      "Epoch [29/100], train_loss: 1.5492513507516206, train_accuracy: 0.9174066616361227, time: 11.287s\n",
      "Epoch [30/100], train_loss: 1.5133720510123265, train_accuracy: 0.9080731750817451, time: 10.849s\n",
      "Epoch [31/100], train_loss: 1.4778855418930472, train_accuracy: 0.8975081986275469, time: 10.149s\n",
      "Epoch [32/100], train_loss: 1.4502527977551913, train_accuracy: 0.889152826809758, time: 10.044s\n",
      "Epoch [33/100], train_loss: 1.4243150052666003, train_accuracy: 0.8816608247924498, time: 10.885s\n",
      "Epoch [34/100], train_loss: 1.3918865778634952, train_accuracy: 0.8725039887150863, time: 10.979s\n",
      "Epoch [35/100], train_loss: 1.3699627000597985, train_accuracy: 0.8659077952665851, time: 11.007s\n",
      "Epoch [36/100], train_loss: 1.345196221060912, train_accuracy: 0.8582195578097246, time: 10.408s\n",
      "Epoch [37/100], train_loss: 1.3223240822995603, train_accuracy: 0.8513810026554094, time: 11.063s\n",
      "Epoch [38/100], train_loss: 1.2991939193509416, train_accuracy: 0.84447374230048, time: 10.908s\n",
      "Epoch [39/100], train_loss: 1.2749980799425997, train_accuracy: 0.8364793387522071, time: 10.085s\n",
      "Epoch [40/100], train_loss: 1.253482910195397, train_accuracy: 0.8298902604999502, time: 10.481s\n",
      "Epoch [41/100], train_loss: 1.2302483548020327, train_accuracy: 0.822384034647163, time: 10.851s\n",
      "Epoch [42/100], train_loss: 1.215876489802906, train_accuracy: 0.8178580352376827, time: 11.747s\n",
      "Epoch [43/100], train_loss: 1.1954054265196707, train_accuracy: 0.8111821346268816, time: 10.807s\n",
      "Epoch [44/100], train_loss: 1.1717130060938976, train_accuracy: 0.8033366653708707, time: 12.427s\n",
      "Epoch [45/100], train_loss: 1.1590097305035625, train_accuracy: 0.799107101847259, time: 12.299s\n",
      "Epoch [46/100], train_loss: 1.1468044307007246, train_accuracy: 0.7950727599198777, time: 12.035s\n",
      "Epoch [47/100], train_loss: 1.1359865281421229, train_accuracy: 0.7917777450399822, time: 11.483s\n",
      "Epoch [48/100], train_loss: 1.1216893892286757, train_accuracy: 0.7867235991766955, time: 10.74s\n",
      "Epoch [49/100], train_loss: 1.098630993581469, train_accuracy: 0.7792225637511343, time: 11.271s\n",
      "Epoch [50/100], train_loss: 1.0876361578328952, train_accuracy: 0.7746330692687591, time: 10.975s\n",
      "Epoch [51/100], train_loss: 1.075050033249867, train_accuracy: 0.7703817170993014, time: 10.13s\n",
      "Epoch [52/100], train_loss: 1.0597588085332237, train_accuracy: 0.7648559894541097, time: 10.016s\n",
      "Epoch [53/100], train_loss: 1.054861880452998, train_accuracy: 0.7633988501178112, time: 10.146s\n",
      "Epoch [54/100], train_loss: 1.0375889299944676, train_accuracy: 0.7573174054232448, time: 10.349s\n",
      "Epoch [55/100], train_loss: 1.0244600590426385, train_accuracy: 0.7528284860320015, time: 11.736s\n",
      "Epoch [56/100], train_loss: 1.0128444579900722, train_accuracy: 0.7484576217243722, time: 12.291s\n",
      "Epoch [57/100], train_loss: 1.0047145256461985, train_accuracy: 0.7455205482664702, time: 11.963s\n",
      "Epoch [58/100], train_loss: 0.9943948941263774, train_accuracy: 0.7416488263387446, time: 10.124s\n",
      "Epoch [59/100], train_loss: 0.9816585305580413, train_accuracy: 0.7373178659627552, time: 10.279s\n",
      "Epoch [60/100], train_loss: 0.9700565073111908, train_accuracy: 0.732674925125491, time: 11.462s\n",
      "Epoch [61/100], train_loss: 0.9623833061833011, train_accuracy: 0.7297749482857355, time: 11.518s\n",
      "Epoch [62/100], train_loss: 0.9531807503085398, train_accuracy: 0.7265235078802615, time: 11.39s\n",
      "Epoch [63/100], train_loss: 0.9459503395052969, train_accuracy: 0.723289400982815, time: 11.106s\n",
      "Epoch [64/100], train_loss: 0.9389239232370958, train_accuracy: 0.720732110427336, time: 11.477s\n",
      "Epoch [65/100], train_loss: 0.9267652740368998, train_accuracy: 0.7164664540792003, time: 11.003s\n",
      "Epoch [66/100], train_loss: 0.9165180167509799, train_accuracy: 0.7125584370229205, time: 11.415s\n",
      "Epoch [67/100], train_loss: 0.909673140485329, train_accuracy: 0.7096506433597, time: 11.54s\n",
      "Epoch [68/100], train_loss: 0.90762275197187, train_accuracy: 0.7090224800263805, time: 11.783s\n",
      "Epoch [69/100], train_loss: 0.9000449442951405, train_accuracy: 0.7062495157391193, time: 11.887s\n",
      "Epoch [70/100], train_loss: 0.8886915248050845, train_accuracy: 0.7016608843523084, time: 11.835s\n",
      "Epoch [71/100], train_loss: 0.8840186226067864, train_accuracy: 0.6998567423427755, time: 12.533s\n",
      "Epoch [72/100], train_loss: 0.8740849263274232, train_accuracy: 0.6958478193213635, time: 11.846s\n",
      "Epoch [73/100], train_loss: 0.8683902309669616, train_accuracy: 0.6932826771877757, time: 10.846s\n",
      "Epoch [74/100], train_loss: 0.8620098662409041, train_accuracy: 0.6911058289958131, time: 10.319s\n",
      "Epoch [75/100], train_loss: 0.8577469925829119, train_accuracy: 0.6892496332672396, time: 10.212s\n",
      "Epoch [76/100], train_loss: 0.8477607351109523, train_accuracy: 0.6850705632955658, time: 10.51s\n",
      "Epoch [77/100], train_loss: 0.8426684318173384, train_accuracy: 0.6827298251179491, time: 10.678s\n",
      "Epoch [78/100], train_loss: 0.8356409651991604, train_accuracy: 0.6801291473673926, time: 10.524s\n",
      "Epoch [79/100], train_loss: 0.8316751690076435, train_accuracy: 0.6783757394679608, time: 11.736s\n",
      "Epoch [80/100], train_loss: 0.826530852796678, train_accuracy: 0.6762443611568186, time: 11.781s\n",
      "Epoch [81/100], train_loss: 0.8173908683336029, train_accuracy: 0.6724448697391467, time: 11.886s\n",
      "Epoch [82/100], train_loss: 0.8167432812726383, train_accuracy: 0.6720911556232546, time: 10.703s\n",
      "Epoch [83/100], train_loss: 0.8045838361017984, train_accuracy: 0.6673698521256946, time: 11.314s\n",
      "Epoch [84/100], train_loss: 0.8011125860939334, train_accuracy: 0.6655957513693594, time: 12.3s\n",
      "Epoch [85/100], train_loss: 0.8008198106467511, train_accuracy: 0.6650678439778206, time: 11.85s\n",
      "Epoch [86/100], train_loss: 0.7960718331799161, train_accuracy: 0.6636656847768196, time: 12.39s\n",
      "Epoch [87/100], train_loss: 0.7905088587377141, train_accuracy: 0.6611037924676098, time: 12.82s\n",
      "Epoch [88/100], train_loss: 0.7829857860348398, train_accuracy: 0.6575685382451437, time: 11.592s\n",
      "Epoch [89/100], train_loss: 0.7778000220349283, train_accuracy: 0.6556912634352584, time: 11.494s\n",
      "Epoch [90/100], train_loss: 0.7738067629840657, train_accuracy: 0.6541394063030979, time: 11.634s\n",
      "Epoch [91/100], train_loss: 0.7716124223111582, train_accuracy: 0.6527505749051077, time: 10.615s\n",
      "Epoch [92/100], train_loss: 0.7693259451249062, train_accuracy: 0.6521968783802093, time: 12.616s\n",
      "Epoch [93/100], train_loss: 0.761968048627553, train_accuracy: 0.6490952280032081, time: 12.327s\n",
      "Epoch [94/100], train_loss: 0.7595830553996263, train_accuracy: 0.6477680416993473, time: 12.924s\n",
      "Epoch [95/100], train_loss: 0.7549203394760114, train_accuracy: 0.6460843097167247, time: 12.531s\n",
      "Epoch [96/100], train_loss: 0.7516961806477208, train_accuracy: 0.6446016393752051, time: 12.86s\n",
      "Epoch [97/100], train_loss: 0.7450848270282155, train_accuracy: 0.6415213888131563, time: 10.741s\n",
      "Epoch [98/100], train_loss: 0.7397475430734965, train_accuracy: 0.6389200214841392, time: 12.493s\n",
      "Epoch [99/100], train_loss: 0.7382549545841349, train_accuracy: 0.6384258443402269, time: 11.373s\n",
      "Epoch [100/100], train_loss: 0.7338795036891176, train_accuracy: 0.636415271088056, time: 10.645s\n"
     ]
    }
   ],
   "execution_count": 11
  },
  {
   "metadata": {
    "ExecuteTime": {
     "end_time": "2024-11-10T18:15:49.206070Z",
     "start_time": "2024-11-10T18:15:48.356011Z"
    }
   },
   "cell_type": "code",
   "source": "test(test_dataset, BATCH_SIZE, model, nn.MSELoss(), accuracy)",
   "id": "dfc37b04d4ae7fea",
   "outputs": [
    {
     "name": "stdout",
     "output_type": "stream",
     "text": [
      "Dataset size: 3287\n",
      "test_loss: 11.239357554879927, test_accuracy: 2.518847796885772, time: 0.846s\n"
     ]
    }
   ],
   "execution_count": 12
  },
  {
   "metadata": {
    "ExecuteTime": {
     "end_time": "2024-11-10T18:15:52.599002Z",
     "start_time": "2024-11-10T18:15:49.206070Z"
    }
   },
   "cell_type": "code",
   "source": "test(train_dataset, BATCH_SIZE, model, nn.MSELoss(), accuracy)",
   "id": "2bea0613ee7f39bc",
   "outputs": [
    {
     "name": "stdout",
     "output_type": "stream",
     "text": [
      "Dataset size: 13149\n",
      "test_loss: 7.408099949826795, test_accuracy: 1.915594685817909, time: 3.389s\n"
     ]
    }
   ],
   "execution_count": 13
  },
  {
   "metadata": {},
   "cell_type": "code",
   "source": "torch.save(dict(model.state_dict()), 'model.pt')",
   "id": "40372181fbaea4e",
   "outputs": [],
   "execution_count": null
  },
  {
   "metadata": {
    "ExecuteTime": {
     "end_time": "2024-11-10T18:24:29.241733Z",
     "start_time": "2024-11-10T18:24:29.236546Z"
    }
   },
   "cell_type": "code",
   "source": [
    "import time\n",
    "import math\n",
    "\n",
    "\n",
    "def debug(data, batch_size, optimizer, model, criterion, accuracy):\n",
    "    model.cuda()\n",
    "    model.eval()\n",
    "    criterion.cuda()\n",
    "    size = len(data)\n",
    "    print(\"Dataset size:\", size)\n",
    "    time_started = time.time() * 1000\n",
    "    loss_sum = 0.0\n",
    "    accuracy_sum = 0.0\n",
    "    for batch, truth in data:\n",
    "        out = model.forward(batch).reshape(batch_size)\n",
    "        loss = criterion(out, truth)\n",
    "        accuracy_value = accuracy(out, truth).sum() / batch_size\n",
    "\n",
    "        loss_sum += loss.item()\n",
    "        accuracy_sum += accuracy_value.item()\n",
    "\n",
    "    passed_time = math.ceil(time.time() * 1000 - time_started)\n",
    "    loss_average = loss_sum / size\n",
    "    accuracy_average = accuracy_sum / size\n",
    "    print(\n",
    "        f\"test_loss: {loss_average}, test_accuracy: {accuracy_average}, time: {passed_time / 1000}s\")"
   ],
   "id": "4bc1b5df467d2272",
   "outputs": [],
   "execution_count": 14
  },
  {
   "metadata": {
    "ExecuteTime": {
     "end_time": "2024-11-10T18:24:33.372738Z",
     "start_time": "2024-11-10T18:24:29.613695Z"
    }
   },
   "cell_type": "code",
   "source": "debug(train_dataset, BATCH_SIZE, optimizer, model, nn.MSELoss(), accuracy)",
   "id": "af0d192ca2f6e0e5",
   "outputs": [
    {
     "name": "stdout",
     "output_type": "stream",
     "text": [
      "Dataset size: 13149\n",
      "test_loss: 7.408099949826795, test_accuracy: 1.915594685817909, time: 3.756s\n"
     ]
    }
   ],
   "execution_count": 15
  }
 ],
 "metadata": {
  "kernelspec": {
   "display_name": "Python 3",
   "language": "python",
   "name": "python3"
  },
  "language_info": {
   "codemirror_mode": {
    "name": "ipython",
    "version": 2
   },
   "file_extension": ".py",
   "mimetype": "text/x-python",
   "name": "python",
   "nbconvert_exporter": "python",
   "pygments_lexer": "ipython2",
   "version": "2.7.6"
  }
 },
 "nbformat": 4,
 "nbformat_minor": 5
}
