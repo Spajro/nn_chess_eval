{
 "cells": [
  {
   "cell_type": "code",
   "id": "initial_id",
   "metadata": {
    "collapsed": true,
    "ExecuteTime": {
     "end_time": "2024-11-10T17:20:18.138472Z",
     "start_time": "2024-11-10T17:20:18.135474Z"
    }
   },
   "source": [
    "import torch\n",
    "from torch import nn\n",
    "\n",
    "from src.data_loading import load_dataset_1d\n",
    "\n",
    "from src.core import train, test"
   ],
   "outputs": [],
   "execution_count": 15
  },
  {
   "metadata": {
    "ExecuteTime": {
     "end_time": "2024-11-10T17:20:18.152458Z",
     "start_time": "2024-11-10T17:20:18.139133Z"
    }
   },
   "cell_type": "code",
   "source": "BATCH_SIZE = 64",
   "id": "c4e57db20592e918",
   "outputs": [],
   "execution_count": 16
  },
  {
   "metadata": {
    "ExecuteTime": {
     "end_time": "2024-11-10T17:21:14.719282Z",
     "start_time": "2024-11-10T17:20:18.152458Z"
    }
   },
   "cell_type": "code",
   "source": [
    "dataset = load_dataset_1d('games_dataset.csv', BATCH_SIZE)\n",
    "len(dataset)"
   ],
   "id": "8e97fb789fb2cd08",
   "outputs": [
    {
     "data": {
      "text/plain": [
       "9117"
      ]
     },
     "execution_count": 17,
     "metadata": {},
     "output_type": "execute_result"
    }
   ],
   "execution_count": 17
  },
  {
   "metadata": {
    "ExecuteTime": {
     "end_time": "2024-11-10T17:21:14.723181Z",
     "start_time": "2024-11-10T17:21:14.720286Z"
    }
   },
   "cell_type": "code",
   "source": "dataset[0][0].shape",
   "id": "5500893dfd3f5e97",
   "outputs": [
    {
     "data": {
      "text/plain": [
       "torch.Size([64, 512])"
      ]
     },
     "execution_count": 18,
     "metadata": {},
     "output_type": "execute_result"
    }
   ],
   "execution_count": 18
  },
  {
   "metadata": {
    "ExecuteTime": {
     "end_time": "2024-11-10T17:21:14.728343Z",
     "start_time": "2024-11-10T17:21:14.723181Z"
    }
   },
   "cell_type": "code",
   "source": "DATASET_SIZE = 8000",
   "id": "f5a087b84350d9c6",
   "outputs": [],
   "execution_count": 19
  },
  {
   "metadata": {
    "ExecuteTime": {
     "end_time": "2024-11-10T17:21:14.745221Z",
     "start_time": "2024-11-10T17:21:14.728343Z"
    }
   },
   "cell_type": "code",
   "source": [
    "train_dataset = dataset[:DATASET_SIZE]\n",
    "test_dataset = dataset[DATASET_SIZE:]\n",
    "len(train_dataset), len(test_dataset)"
   ],
   "id": "f7cf8457fd6e36a1",
   "outputs": [
    {
     "data": {
      "text/plain": [
       "(8000, 1117)"
      ]
     },
     "execution_count": 20,
     "metadata": {},
     "output_type": "execute_result"
    }
   ],
   "execution_count": 20
  },
  {
   "metadata": {
    "ExecuteTime": {
     "end_time": "2024-11-10T17:21:57.583880Z",
     "start_time": "2024-11-10T17:21:14.745221Z"
    }
   },
   "cell_type": "code",
   "source": [
    "validation_dataset = load_dataset_1d('puzzle_dataset.csv', BATCH_SIZE)\n",
    "len(validation_dataset)"
   ],
   "id": "171421ee173075d9",
   "outputs": [
    {
     "data": {
      "text/plain": [
       "7318"
      ]
     },
     "execution_count": 21,
     "metadata": {},
     "output_type": "execute_result"
    }
   ],
   "execution_count": 21
  },
  {
   "metadata": {
    "ExecuteTime": {
     "end_time": "2024-11-10T17:21:57.587083Z",
     "start_time": "2024-11-10T17:21:57.583880Z"
    }
   },
   "cell_type": "code",
   "source": [
    "def accuracy(out, truth):\n",
    "    return torch.abs(truth - out)"
   ],
   "id": "86644199c105ea3e",
   "outputs": [],
   "execution_count": 22
  },
  {
   "metadata": {
    "ExecuteTime": {
     "end_time": "2024-11-10T17:21:57.603340Z",
     "start_time": "2024-11-10T17:21:57.587589Z"
    }
   },
   "cell_type": "code",
   "source": [
    "x0 = 512\n",
    "x1 = 2 ** 10\n",
    "x2 = 2 ** 5\n",
    "x3 = 2 ** 3\n",
    "\n",
    "\n",
    "class Model(nn.Module):\n",
    "    def __init__(self):\n",
    "        super(Model, self).__init__()\n",
    "        self.layer1 = nn.Linear(x0, x1)\n",
    "        self.layer2 = nn.Linear(x1, x2)\n",
    "        self.layer3 = nn.Linear(x2, x3)\n",
    "        self.layer4 = nn.Linear(x3, 1)\n",
    "        self.classifier = nn.Sequential(self.layer1,\n",
    "                                        nn.ReLU(),\n",
    "                                        self.layer2,\n",
    "                                        nn.ReLU(),\n",
    "                                        self.layer3,\n",
    "                                        nn.ReLU(),\n",
    "                                        self.layer4)\n",
    "\n",
    "    def forward(self, X):\n",
    "        return self.classifier.forward(X)\n",
    "\n",
    "\n",
    "model = Model()"
   ],
   "id": "40d5321f8631f8a8",
   "outputs": [],
   "execution_count": 23
  },
  {
   "metadata": {
    "ExecuteTime": {
     "end_time": "2024-11-10T17:33:04.963987Z",
     "start_time": "2024-11-10T17:21:57.604343Z"
    }
   },
   "cell_type": "code",
   "source": [
    "train(train_dataset,\n",
    "      BATCH_SIZE,\n",
    "      model,\n",
    "      nn.MSELoss(),\n",
    "      torch.optim.SGD(model.classifier.parameters(), lr=0.05),\n",
    "      accuracy,\n",
    "      100)"
   ],
   "id": "86e2b6dcc72b0656",
   "outputs": [
    {
     "name": "stdout",
     "output_type": "stream",
     "text": [
      "Dataset size: 8000\n",
      "Epoch [1/100], train_loss: 6.418233809739351, train_accuracy: 1.8785780140310526, time: 6.42s\n",
      "Epoch [2/100], train_loss: 3.891790317773819, train_accuracy: 1.4449316529035567, time: 6.624s\n",
      "Epoch [3/100], train_loss: 2.914921775408089, train_accuracy: 1.2474415203258395, time: 6.497s\n",
      "Epoch [4/100], train_loss: 2.37084598056972, train_accuracy: 1.1235895558223128, time: 6.675s\n",
      "Epoch [5/100], train_loss: 2.0305103674158453, train_accuracy: 1.0380273125320674, time: 6.445s\n",
      "Epoch [6/100], train_loss: 1.7980657447054982, train_accuracy: 0.9782051668986678, time: 6.294s\n",
      "Epoch [7/100], train_loss: 1.6116149662658572, train_accuracy: 0.9262188586443663, time: 6.541s\n",
      "Epoch [8/100], train_loss: 1.4639298454783858, train_accuracy: 0.8833762713745237, time: 6.657s\n",
      "Epoch [9/100], train_loss: 1.3538724211677908, train_accuracy: 0.8505016731396318, time: 6.619s\n",
      "Epoch [10/100], train_loss: 1.2659078379422426, train_accuracy: 0.8229015044383705, time: 6.658s\n",
      "Epoch [11/100], train_loss: 1.1864287085570395, train_accuracy: 0.7977230340130628, time: 6.394s\n",
      "Epoch [12/100], train_loss: 1.1298448837623, train_accuracy: 0.7785881898067891, time: 6.867s\n",
      "Epoch [13/100], train_loss: 1.068829636115581, train_accuracy: 0.7582743419781327, time: 6.352s\n",
      "Epoch [14/100], train_loss: 1.016208542354405, train_accuracy: 0.7393124558068812, time: 6.753s\n",
      "Epoch [15/100], train_loss: 0.9711343570724129, train_accuracy: 0.7232130717411638, time: 6.56s\n",
      "Epoch [16/100], train_loss: 0.9287619842030108, train_accuracy: 0.7077379718907177, time: 6.541s\n",
      "Epoch [17/100], train_loss: 0.8987289809063077, train_accuracy: 0.6967155982144176, time: 6.776s\n",
      "Epoch [18/100], train_loss: 0.8593000459894538, train_accuracy: 0.6822309321127832, time: 6.266s\n",
      "Epoch [19/100], train_loss: 0.8307671279273927, train_accuracy: 0.670827885556966, time: 6.734s\n",
      "Epoch [20/100], train_loss: 0.8089637474156917, train_accuracy: 0.6622352778539061, time: 6.241s\n",
      "Epoch [21/100], train_loss: 0.7845914275012911, train_accuracy: 0.6525797529928387, time: 6.222s\n",
      "Epoch [22/100], train_loss: 0.7599227820187807, train_accuracy: 0.6425904006175697, time: 6.407s\n",
      "Epoch [23/100], train_loss: 0.7383839725963771, train_accuracy: 0.6332828641347588, time: 6.517s\n",
      "Epoch [24/100], train_loss: 0.7173815312795341, train_accuracy: 0.6248528912812471, time: 6.587s\n",
      "Epoch [25/100], train_loss: 0.7013553768396378, train_accuracy: 0.6179061783999205, time: 6.692s\n",
      "Epoch [26/100], train_loss: 0.682864535998553, train_accuracy: 0.6102944355979562, time: 6.576s\n",
      "Epoch [27/100], train_loss: 0.6656840350385755, train_accuracy: 0.6028169529363513, time: 6.491s\n",
      "Epoch [28/100], train_loss: 0.652900711812079, train_accuracy: 0.5968355485349893, time: 7.12s\n",
      "Epoch [29/100], train_loss: 0.6381161536872387, train_accuracy: 0.5902770259268582, time: 7.742s\n",
      "Epoch [30/100], train_loss: 0.6216153589859604, train_accuracy: 0.5827596868276597, time: 8.636s\n",
      "Epoch [31/100], train_loss: 0.6071045745220035, train_accuracy: 0.5762172536812723, time: 8.878s\n",
      "Epoch [32/100], train_loss: 0.596492917496711, train_accuracy: 0.5709790643267334, time: 7.048s\n",
      "Epoch [33/100], train_loss: 0.5888401610180736, train_accuracy: 0.5675021278895438, time: 6.491s\n",
      "Epoch [34/100], train_loss: 0.575875178406015, train_accuracy: 0.5614367045983673, time: 6.546s\n",
      "Epoch [35/100], train_loss: 0.5648454016931355, train_accuracy: 0.556029525835067, time: 6.524s\n",
      "Epoch [36/100], train_loss: 0.5574438444767147, train_accuracy: 0.5523213844262064, time: 6.495s\n",
      "Epoch [37/100], train_loss: 0.5496711444407701, train_accuracy: 0.5486217823289334, time: 6.694s\n",
      "Epoch [38/100], train_loss: 0.5374395326152444, train_accuracy: 0.5426644358634949, time: 6.93s\n",
      "Epoch [39/100], train_loss: 0.5279307593498379, train_accuracy: 0.5376563885733485, time: 7.367s\n",
      "Epoch [40/100], train_loss: 0.5190034541599452, train_accuracy: 0.5329369825348258, time: 6.882s\n",
      "Epoch [41/100], train_loss: 0.511412193428725, train_accuracy: 0.5288870098739863, time: 6.651s\n",
      "Epoch [42/100], train_loss: 0.49885405131429433, train_accuracy: 0.5225385046377778, time: 6.359s\n",
      "Epoch [43/100], train_loss: 0.4920287305302918, train_accuracy: 0.5192800479047001, time: 6.415s\n",
      "Epoch [44/100], train_loss: 0.48476672095060347, train_accuracy: 0.5152247419953346, time: 6.457s\n",
      "Epoch [45/100], train_loss: 0.4805487923119217, train_accuracy: 0.5131168391630053, time: 6.492s\n",
      "Epoch [46/100], train_loss: 0.47501814548112453, train_accuracy: 0.5100845459140837, time: 6.522s\n",
      "Epoch [47/100], train_loss: 0.4695619930811226, train_accuracy: 0.5072188499160111, time: 6.483s\n",
      "Epoch [48/100], train_loss: 0.4644136691186577, train_accuracy: 0.5042609490677714, time: 6.551s\n",
      "Epoch [49/100], train_loss: 0.4611777795962989, train_accuracy: 0.5023299429118633, time: 6.635s\n",
      "Epoch [50/100], train_loss: 0.4587564445026219, train_accuracy: 0.5010502729527653, time: 6.491s\n",
      "Epoch [51/100], train_loss: 0.44780045630037785, train_accuracy: 0.49537947975471613, time: 6.507s\n",
      "Epoch [52/100], train_loss: 0.43874432980269196, train_accuracy: 0.49022221126779914, time: 6.531s\n",
      "Epoch [53/100], train_loss: 0.43399932399764657, train_accuracy: 0.48773631899058817, time: 6.53s\n",
      "Epoch [54/100], train_loss: 0.43011059127561746, train_accuracy: 0.485245888993144, time: 6.488s\n",
      "Epoch [55/100], train_loss: 0.4264222296066582, train_accuracy: 0.4832291756086051, time: 6.343s\n",
      "Epoch [56/100], train_loss: 0.4207210464179516, train_accuracy: 0.4797779671065509, time: 6.466s\n",
      "Epoch [57/100], train_loss: 0.4178512073215097, train_accuracy: 0.47826911632344127, time: 6.462s\n",
      "Epoch [58/100], train_loss: 0.4157290390022099, train_accuracy: 0.47717575082555413, time: 6.496s\n",
      "Epoch [59/100], train_loss: 0.4109715007096529, train_accuracy: 0.47424638440459965, time: 6.428s\n",
      "Epoch [60/100], train_loss: 0.40746831078827384, train_accuracy: 0.4724988195374608, time: 6.508s\n",
      "Epoch [61/100], train_loss: 0.4073357096333057, train_accuracy: 0.4723757093138993, time: 6.499s\n",
      "Epoch [62/100], train_loss: 0.4009209549613297, train_accuracy: 0.4684438028894365, time: 6.535s\n",
      "Epoch [63/100], train_loss: 0.3941929916534573, train_accuracy: 0.46470001036673786, time: 6.527s\n",
      "Epoch [64/100], train_loss: 0.3889418459329754, train_accuracy: 0.4612663650996983, time: 6.5s\n",
      "Epoch [65/100], train_loss: 0.38443821895867586, train_accuracy: 0.4586481805630028, time: 6.573s\n",
      "Epoch [66/100], train_loss: 0.38255004766583445, train_accuracy: 0.4571569376438856, time: 6.528s\n",
      "Epoch [67/100], train_loss: 0.38360022129677235, train_accuracy: 0.45780474795773624, time: 6.553s\n",
      "Epoch [68/100], train_loss: 0.38024020808562636, train_accuracy: 0.4562478455752134, time: 6.546s\n",
      "Epoch [69/100], train_loss: 0.37292680132947864, train_accuracy: 0.451496312007308, time: 6.446s\n",
      "Epoch [70/100], train_loss: 0.37154869419522585, train_accuracy: 0.4504758557341993, time: 6.434s\n",
      "Epoch [71/100], train_loss: 0.36979721443727614, train_accuracy: 0.44946253951638937, time: 6.526s\n",
      "Epoch [72/100], train_loss: 0.36498047947697343, train_accuracy: 0.4464739818237722, time: 6.421s\n",
      "Epoch [73/100], train_loss: 0.3600256250426173, train_accuracy: 0.44296215383708476, time: 6.459s\n",
      "Epoch [74/100], train_loss: 0.35786165469139813, train_accuracy: 0.44190452275797726, time: 6.418s\n",
      "Epoch [75/100], train_loss: 0.35710107774846256, train_accuracy: 0.4414773368909955, time: 6.421s\n",
      "Epoch [76/100], train_loss: 0.3542670947480947, train_accuracy: 0.4394726251512766, time: 6.477s\n",
      "Epoch [77/100], train_loss: 0.35182967269793153, train_accuracy: 0.43804938074201344, time: 6.427s\n",
      "Epoch [78/100], train_loss: 0.3483651523720473, train_accuracy: 0.4358553610891104, time: 6.46s\n",
      "Epoch [79/100], train_loss: 0.3461458044517785, train_accuracy: 0.4343649078384042, time: 6.438s\n",
      "Epoch [80/100], train_loss: 0.34441378332022576, train_accuracy: 0.4332521150186658, time: 6.512s\n",
      "Epoch [81/100], train_loss: 0.3414248352404684, train_accuracy: 0.43110081319510934, time: 6.525s\n",
      "Epoch [82/100], train_loss: 0.34038157970644534, train_accuracy: 0.4304582794196904, time: 7.152s\n",
      "Epoch [83/100], train_loss: 0.3369781424496323, train_accuracy: 0.4285130175165832, time: 8.864s\n",
      "Epoch [84/100], train_loss: 0.33581163738667963, train_accuracy: 0.42740204407274723, time: 7.935s\n",
      "Epoch [85/100], train_loss: 0.33157168988324703, train_accuracy: 0.4246473077312112, time: 7.673s\n",
      "Epoch [86/100], train_loss: 0.3294696322120726, train_accuracy: 0.4230556090846658, time: 7.223s\n",
      "Epoch [87/100], train_loss: 0.32649639442563055, train_accuracy: 0.42125216717645525, time: 6.458s\n",
      "Epoch [88/100], train_loss: 0.3243778998758644, train_accuracy: 0.4199278134815395, time: 6.554s\n",
      "Epoch [89/100], train_loss: 0.32221721118874846, train_accuracy: 0.41853073984012007, time: 6.574s\n",
      "Epoch [90/100], train_loss: 0.31982081704307347, train_accuracy: 0.4168235166296363, time: 6.613s\n",
      "Epoch [91/100], train_loss: 0.3185118845123798, train_accuracy: 0.4157031745873392, time: 7.175s\n",
      "Epoch [92/100], train_loss: 0.3186604687124491, train_accuracy: 0.41594566938839855, time: 7.315s\n",
      "Epoch [93/100], train_loss: 0.3186942907925695, train_accuracy: 0.41618503655306993, time: 7.175s\n",
      "Epoch [94/100], train_loss: 0.31466253580898046, train_accuracy: 0.41317129488289356, time: 6.387s\n",
      "Epoch [95/100], train_loss: 0.30931796026974917, train_accuracy: 0.4096490834839642, time: 6.423s\n",
      "Epoch [96/100], train_loss: 0.3059731633160263, train_accuracy: 0.4068610482867807, time: 6.395s\n",
      "Epoch [97/100], train_loss: 0.30632275897357614, train_accuracy: 0.40715685990266504, time: 6.414s\n",
      "Epoch [98/100], train_loss: 0.304053855988197, train_accuracy: 0.40571280870959164, time: 6.364s\n",
      "Epoch [99/100], train_loss: 0.30194045541528614, train_accuracy: 0.40432574940472843, time: 6.362s\n",
      "Epoch [100/100], train_loss: 0.30166575449053196, train_accuracy: 0.40416395591944454, time: 6.525s\n"
     ]
    }
   ],
   "execution_count": 24
  },
  {
   "metadata": {
    "ExecuteTime": {
     "end_time": "2024-11-10T17:33:05.305331Z",
     "start_time": "2024-11-10T17:33:04.963987Z"
    }
   },
   "cell_type": "code",
   "source": "test(test_dataset, BATCH_SIZE, model, nn.MSELoss(), accuracy)",
   "id": "dfc37b04d4ae7fea",
   "outputs": [
    {
     "name": "stdout",
     "output_type": "stream",
     "text": [
      "Dataset size: 1117\n",
      "test_loss: 2.2645393526756883, test_accuracy: 1.0157604236205775, time: 0.337s\n"
     ]
    }
   ],
   "execution_count": 25
  },
  {
   "metadata": {
    "ExecuteTime": {
     "end_time": "2024-11-10T17:33:07.542689Z",
     "start_time": "2024-11-10T17:33:05.305331Z"
    }
   },
   "cell_type": "code",
   "source": "test(train_dataset, BATCH_SIZE, model, nn.MSELoss(), accuracy)",
   "id": "2bea0613ee7f39bc",
   "outputs": [
    {
     "name": "stdout",
     "output_type": "stream",
     "text": [
      "Dataset size: 8000\n",
      "test_loss: 0.5259334992729128, test_accuracy: 0.5336011244058609, time: 2.234s\n"
     ]
    }
   ],
   "execution_count": 26
  },
  {
   "metadata": {
    "ExecuteTime": {
     "end_time": "2024-11-10T17:33:09.578445Z",
     "start_time": "2024-11-10T17:33:07.542689Z"
    }
   },
   "cell_type": "code",
   "source": "test(validation_dataset, BATCH_SIZE, model, nn.MSELoss(), accuracy)",
   "id": "a2e5accf2b6cb263",
   "outputs": [
    {
     "name": "stdout",
     "output_type": "stream",
     "text": [
      "Dataset size: 7318\n",
      "test_loss: 22.470364613101665, test_accuracy: 3.88891692020164, time: 2.032s\n"
     ]
    }
   ],
   "execution_count": 27
  },
  {
   "metadata": {
    "ExecuteTime": {
     "end_time": "2024-11-10T17:33:09.627053Z",
     "start_time": "2024-11-10T17:33:09.578445Z"
    }
   },
   "cell_type": "code",
   "source": "torch.save(dict(model.state_dict()), 'model.pt')",
   "id": "40372181fbaea4e",
   "outputs": [],
   "execution_count": 28
  }
 ],
 "metadata": {
  "kernelspec": {
   "display_name": "Python 3",
   "language": "python",
   "name": "python3"
  },
  "language_info": {
   "codemirror_mode": {
    "name": "ipython",
    "version": 2
   },
   "file_extension": ".py",
   "mimetype": "text/x-python",
   "name": "python",
   "nbconvert_exporter": "python",
   "pygments_lexer": "ipython2",
   "version": "2.7.6"
  }
 },
 "nbformat": 4,
 "nbformat_minor": 5
}
