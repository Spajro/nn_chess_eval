{
 "cells": [
  {
   "cell_type": "code",
   "id": "initial_id",
   "metadata": {
    "collapsed": true,
    "ExecuteTime": {
     "end_time": "2024-10-23T12:38:39.009051Z",
     "start_time": "2024-10-23T12:38:35.037334Z"
    }
   },
   "source": [
    "import torch\n",
    "from torch import nn\n",
    "\n",
    "from data_loading import load_dataset_3d\n",
    "\n",
    "from core import train, test"
   ],
   "outputs": [],
   "execution_count": 1
  },
  {
   "metadata": {
    "ExecuteTime": {
     "end_time": "2024-10-23T12:39:02.134690Z",
     "start_time": "2024-10-23T12:39:02.131875Z"
    }
   },
   "cell_type": "code",
   "source": "BATCH_SIZE = 64",
   "id": "c4e57db20592e918",
   "outputs": [],
   "execution_count": 4
  },
  {
   "metadata": {
    "ExecuteTime": {
     "end_time": "2024-10-23T12:40:06.519541Z",
     "start_time": "2024-10-23T12:39:02.465891Z"
    }
   },
   "cell_type": "code",
   "source": [
    "dataset = load_dataset_3d('games_dataset.csv', BATCH_SIZE)\n",
    "len(dataset)"
   ],
   "id": "8e97fb789fb2cd08",
   "outputs": [
    {
     "data": {
      "text/plain": [
       "9117"
      ]
     },
     "execution_count": 5,
     "metadata": {},
     "output_type": "execute_result"
    }
   ],
   "execution_count": 5
  },
  {
   "metadata": {
    "ExecuteTime": {
     "end_time": "2024-10-23T12:40:20.559198Z",
     "start_time": "2024-10-23T12:40:20.556423Z"
    }
   },
   "cell_type": "code",
   "source": "DATASET_SIZE = 8000",
   "id": "f5a087b84350d9c6",
   "outputs": [],
   "execution_count": 6
  },
  {
   "metadata": {
    "ExecuteTime": {
     "end_time": "2024-10-23T12:40:21.616851Z",
     "start_time": "2024-10-23T12:40:21.612839Z"
    }
   },
   "cell_type": "code",
   "source": [
    "train_dataset = dataset[:DATASET_SIZE]\n",
    "test_dataset = dataset[DATASET_SIZE:]\n",
    "len(train_dataset),len(test_dataset)"
   ],
   "id": "f7cf8457fd6e36a1",
   "outputs": [
    {
     "data": {
      "text/plain": [
       "(8000, 1117)"
      ]
     },
     "execution_count": 7,
     "metadata": {},
     "output_type": "execute_result"
    }
   ],
   "execution_count": 7
  },
  {
   "metadata": {
    "ExecuteTime": {
     "end_time": "2024-10-23T12:40:27.803358Z",
     "start_time": "2024-10-23T12:40:22.878108Z"
    }
   },
   "cell_type": "code",
   "source": [
    "validation_dataset = load_dataset_3d('puzzle_dataset.csv', BATCH_SIZE)\n",
    "len(validation_dataset)"
   ],
   "id": "171421ee173075d9",
   "outputs": [
    {
     "data": {
      "text/plain": [
       "727"
      ]
     },
     "execution_count": 8,
     "metadata": {},
     "output_type": "execute_result"
    }
   ],
   "execution_count": 8
  },
  {
   "metadata": {
    "ExecuteTime": {
     "end_time": "2024-10-23T12:40:27.805967Z",
     "start_time": "2024-10-23T12:40:27.803358Z"
    }
   },
   "cell_type": "code",
   "source": [
    "def accuracy(out, truth):\n",
    "    return torch.abs(truth - out)"
   ],
   "id": "86644199c105ea3e",
   "outputs": [],
   "execution_count": 9
  },
  {
   "metadata": {
    "ExecuteTime": {
     "end_time": "2024-10-23T12:40:27.829248Z",
     "start_time": "2024-10-23T12:40:27.805967Z"
    }
   },
   "cell_type": "code",
   "source": [
    "class Model(nn.Module):\n",
    "    def __init__(self, *args, **kwargs):\n",
    "        super(Model, self).__init__()\n",
    "        self.classifier = nn.Sequential(*args, **kwargs)\n",
    "\n",
    "    def forward(self, X):\n",
    "        return self.classifier.forward(X)\n",
    "\n",
    "\n",
    "model = Model(nn.Conv2d(8, 32, kernel_size=4, stride=2, padding=4),\n",
    "              nn.ReLU(),\n",
    "              nn.Conv2d(32, 128, kernel_size=6, stride=2, padding=4),\n",
    "              nn.ReLU(),\n",
    "              nn.Conv2d(128, 512, kernel_size=6, stride=2, padding=2),\n",
    "              nn.ReLU(),\n",
    "              nn.MaxPool2d(kernel_size=2, stride=1),\n",
    "              nn.Conv2d(512, 64, kernel_size=1, stride=2),\n",
    "              nn.ReLU(),\n",
    "              nn.Flatten(),\n",
    "              nn.Linear(64, 16),\n",
    "              nn.ReLU(),\n",
    "              nn.Linear(16, 1),\n",
    "              )"
   ],
   "id": "40d5321f8631f8a8",
   "outputs": [],
   "execution_count": 10
  },
  {
   "metadata": {
    "ExecuteTime": {
     "end_time": "2024-10-23T12:53:15.865367Z",
     "start_time": "2024-10-23T12:40:27.829248Z"
    }
   },
   "cell_type": "code",
   "source": [
    "train(train_dataset,\n",
    "      BATCH_SIZE,\n",
    "      model,\n",
    "      nn.MSELoss(),\n",
    "      torch.optim.SGD(model.classifier.parameters(), lr=0.02),\n",
    "      accuracy,\n",
    "      60)"
   ],
   "id": "86e2b6dcc72b0656",
   "outputs": [
    {
     "name": "stdout",
     "output_type": "stream",
     "text": [
      "Dataset size: 8000\n",
      "Epoch [1/60], train_loss: 8.046044450700283, train_accuracy: 2.115641266465187, time: 13.483s\n",
      "Epoch [2/60], train_loss: 5.268648249477148, train_accuracy: 1.6906509106904268, time: 11.913s\n",
      "Epoch [3/60], train_loss: 4.2897482251822945, train_accuracy: 1.51181783477962, time: 13.314s\n",
      "Epoch [4/60], train_loss: 3.603443098142743, train_accuracy: 1.3728560545891524, time: 13.482s\n",
      "Epoch [5/60], train_loss: 3.0720151232779025, train_accuracy: 1.260908000074327, time: 13.447s\n",
      "Epoch [6/60], train_loss: 2.612149955585599, train_accuracy: 1.1584448065906763, time: 13.353s\n",
      "Epoch [7/60], train_loss: 2.2324160010516643, train_accuracy: 1.0684453205391764, time: 13.445s\n",
      "Epoch [8/60], train_loss: 1.9164180358573795, train_accuracy: 0.9907294827252626, time: 13.356s\n",
      "Epoch [9/60], train_loss: 1.6389805299937725, train_accuracy: 0.9163037165552378, time: 13.4s\n",
      "Epoch [10/60], train_loss: 1.4107889053560794, train_accuracy: 0.8516696571409702, time: 13.416s\n",
      "Epoch [11/60], train_loss: 1.228667937863618, train_accuracy: 0.7959662110619247, time: 13.084s\n",
      "Epoch [12/60], train_loss: 1.075725072029978, train_accuracy: 0.7463065872639417, time: 12.423s\n",
      "Epoch [13/60], train_loss: 0.949244017932564, train_accuracy: 0.702227375485003, time: 12.35s\n",
      "Epoch [14/60], train_loss: 0.8294155737534166, train_accuracy: 0.6577854269891977, time: 11.611s\n",
      "Epoch [15/60], train_loss: 0.7359245607294143, train_accuracy: 0.6216734316833318, time: 11.684s\n",
      "Epoch [16/60], train_loss: 0.6506459519937634, train_accuracy: 0.5858531119227409, time: 11.739s\n",
      "Epoch [17/60], train_loss: 0.572557387938723, train_accuracy: 0.5508833288699388, time: 13.265s\n",
      "Epoch [18/60], train_loss: 0.5128237088099122, train_accuracy: 0.5218633861206472, time: 13.17s\n",
      "Epoch [19/60], train_loss: 0.4591172704268247, train_accuracy: 0.49545940432325003, time: 12.874s\n",
      "Epoch [20/60], train_loss: 0.41737140601314604, train_accuracy: 0.4723160005398095, time: 12.936s\n",
      "Epoch [21/60], train_loss: 0.37349965622089804, train_accuracy: 0.44826733637601135, time: 12.164s\n",
      "Epoch [22/60], train_loss: 0.339495105182752, train_accuracy: 0.427762913197279, time: 12.748s\n",
      "Epoch [23/60], train_loss: 0.31356800213363023, train_accuracy: 0.4109485450424254, time: 11.821s\n",
      "Epoch [24/60], train_loss: 0.28670403420180085, train_accuracy: 0.39423553098738195, time: 11.097s\n",
      "Epoch [25/60], train_loss: 0.2633185380203649, train_accuracy: 0.3778207425363362, time: 10.962s\n",
      "Epoch [26/60], train_loss: 0.24179518751148135, train_accuracy: 0.3626421241369098, time: 11.991s\n",
      "Epoch [27/60], train_loss: 0.22002510061394423, train_accuracy: 0.3463568101134151, time: 13.425s\n",
      "Epoch [28/60], train_loss: 0.20455533828772604, train_accuracy: 0.3338364555872977, time: 13.247s\n",
      "Epoch [29/60], train_loss: 0.18849333301000298, train_accuracy: 0.32057963830977676, time: 12.657s\n",
      "Epoch [30/60], train_loss: 0.17492660062760115, train_accuracy: 0.3087660458665341, time: 13.055s\n",
      "Epoch [31/60], train_loss: 0.1625928309923038, train_accuracy: 0.29818811833113434, time: 13.226s\n",
      "Epoch [32/60], train_loss: 0.1527983519001864, train_accuracy: 0.2889354028534144, time: 13.175s\n",
      "Epoch [33/60], train_loss: 0.1416024424964562, train_accuracy: 0.2784545790553093, time: 13.31s\n",
      "Epoch [34/60], train_loss: 0.13344922654656693, train_accuracy: 0.2703114327676594, time: 13.392s\n",
      "Epoch [35/60], train_loss: 0.12604302608640863, train_accuracy: 0.2625788199156523, time: 12.883s\n",
      "Epoch [36/60], train_loss: 0.11886163544189185, train_accuracy: 0.25482775866612795, time: 12.525s\n",
      "Epoch [37/60], train_loss: 0.11333804628439248, train_accuracy: 0.24851641513220965, time: 12.929s\n",
      "Epoch [38/60], train_loss: 0.10638418306689709, train_accuracy: 0.24089597472175955, time: 12.801s\n",
      "Epoch [39/60], train_loss: 0.09918493561074138, train_accuracy: 0.23301114362850786, time: 13.06s\n",
      "Epoch [40/60], train_loss: 0.09598093081545085, train_accuracy: 0.2285970564316958, time: 13.546s\n",
      "Epoch [41/60], train_loss: 0.08987337271263823, train_accuracy: 0.22129156191833319, time: 13.116s\n",
      "Epoch [42/60], train_loss: 0.08458950498979538, train_accuracy: 0.21479666603170336, time: 12.947s\n",
      "Epoch [43/60], train_loss: 0.07987114360975102, train_accuracy: 0.2090535490643233, time: 12.56s\n",
      "Epoch [44/60], train_loss: 0.07583228248008526, train_accuracy: 0.20307003170065582, time: 12.706s\n",
      "Epoch [45/60], train_loss: 0.0725106365501415, train_accuracy: 0.19883162860013545, time: 12.536s\n",
      "Epoch [46/60], train_loss: 0.07071184132876807, train_accuracy: 0.19636645792983473, time: 12.65s\n",
      "Epoch [47/60], train_loss: 0.06814351572841405, train_accuracy: 0.19268711584992707, time: 12.547s\n",
      "Epoch [48/60], train_loss: 0.0653065223605372, train_accuracy: 0.18866708324197679, time: 12.705s\n",
      "Epoch [49/60], train_loss: 0.06265501515101642, train_accuracy: 0.18458091955725103, time: 12.522s\n",
      "Epoch [50/60], train_loss: 0.061201974964234976, train_accuracy: 0.18223509216308595, time: 12.393s\n",
      "Epoch [51/60], train_loss: 0.059271633374970406, train_accuracy: 0.1794891281882301, time: 12.204s\n",
      "Epoch [52/60], train_loss: 0.056192493302281946, train_accuracy: 0.17487682304158808, time: 12.244s\n",
      "Epoch [53/60], train_loss: 0.05396367413108237, train_accuracy: 0.17114726846199482, time: 12.24s\n",
      "Epoch [54/60], train_loss: 0.05196071293670684, train_accuracy: 0.16788604632671922, time: 12.871s\n",
      "Epoch [55/60], train_loss: 0.050143603111617266, train_accuracy: 0.1646388552999124, time: 13.726s\n",
      "Epoch [56/60], train_loss: 0.048368400864768776, train_accuracy: 0.16183368781395258, time: 13.38s\n",
      "Epoch [57/60], train_loss: 0.04666817879374139, train_accuracy: 0.15899245109502227, time: 12.812s\n",
      "Epoch [58/60], train_loss: 0.04558839112985879, train_accuracy: 0.15715104284882545, time: 12.797s\n",
      "Epoch [59/60], train_loss: 0.044718029458774254, train_accuracy: 0.15557328250538557, time: 12.985s\n",
      "Epoch [60/60], train_loss: 0.044332344755530356, train_accuracy: 0.15463202301599085, time: 13.295s\n"
     ]
    }
   ],
   "execution_count": 11
  },
  {
   "metadata": {
    "ExecuteTime": {
     "end_time": "2024-10-23T12:53:16.366457Z",
     "start_time": "2024-10-23T12:53:15.865367Z"
    }
   },
   "cell_type": "code",
   "source": "test(test_dataset, BATCH_SIZE, model, nn.MSELoss(), accuracy)",
   "id": "dfc37b04d4ae7fea",
   "outputs": [
    {
     "name": "stdout",
     "output_type": "stream",
     "text": [
      "Dataset size: 1117\n",
      "test_loss: 2.163027650934303, test_accuracy: 0.9684234375172464, time: 0.498s\n"
     ]
    }
   ],
   "execution_count": 12
  },
  {
   "metadata": {
    "ExecuteTime": {
     "end_time": "2024-10-23T12:53:19.721184Z",
     "start_time": "2024-10-23T12:53:16.366457Z"
    }
   },
   "cell_type": "code",
   "source": "test(train_dataset, BATCH_SIZE, model, nn.MSELoss(), accuracy)",
   "id": "2bea0613ee7f39bc",
   "outputs": [
    {
     "name": "stdout",
     "output_type": "stream",
     "text": [
      "Dataset size: 8000\n",
      "test_loss: 0.26817318103602156, test_accuracy: 0.37172700846008955, time: 3.351s\n"
     ]
    }
   ],
   "execution_count": 13
  },
  {
   "metadata": {
    "ExecuteTime": {
     "end_time": "2024-10-23T12:53:20.056733Z",
     "start_time": "2024-10-23T12:53:19.721184Z"
    }
   },
   "cell_type": "code",
   "source": "test(validation_dataset, BATCH_SIZE, model, nn.MSELoss(), accuracy)",
   "id": "a2e5accf2b6cb263",
   "outputs": [
    {
     "name": "stdout",
     "output_type": "stream",
     "text": [
      "Dataset size: 727\n",
      "test_loss: 21.260763609097783, test_accuracy: 3.7825891942072767, time: 0.333s\n"
     ]
    }
   ],
   "execution_count": 14
  }
 ],
 "metadata": {
  "kernelspec": {
   "display_name": "Python 3",
   "language": "python",
   "name": "python3"
  },
  "language_info": {
   "codemirror_mode": {
    "name": "ipython",
    "version": 2
   },
   "file_extension": ".py",
   "mimetype": "text/x-python",
   "name": "python",
   "nbconvert_exporter": "python",
   "pygments_lexer": "ipython2",
   "version": "2.7.6"
  }
 },
 "nbformat": 4,
 "nbformat_minor": 5
}
