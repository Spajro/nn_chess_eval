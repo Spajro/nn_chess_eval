{
 "cells": [
  {
   "cell_type": "code",
   "id": "initial_id",
   "metadata": {
    "collapsed": true,
    "ExecuteTime": {
     "end_time": "2024-10-23T00:54:37.204745Z",
     "start_time": "2024-10-23T00:54:36.163393Z"
    }
   },
   "source": [
    "import torch\n",
    "from torch import nn\n",
    "\n",
    "from data_loading import load_dataset\n",
    "\n",
    "from core import train, test"
   ],
   "outputs": [],
   "execution_count": 1
  },
  {
   "metadata": {
    "ExecuteTime": {
     "end_time": "2024-10-23T00:54:37.207952Z",
     "start_time": "2024-10-23T00:54:37.204745Z"
    }
   },
   "cell_type": "code",
   "source": [
    "BATCH_SIZE = 64\n",
    "DATASET_SIZE = 800"
   ],
   "id": "c4e57db20592e918",
   "outputs": [],
   "execution_count": 2
  },
  {
   "metadata": {
    "ExecuteTime": {
     "end_time": "2024-10-23T00:54:43.764384Z",
     "start_time": "2024-10-23T00:54:37.207952Z"
    }
   },
   "cell_type": "code",
   "source": [
    "dataset = load_dataset('games_dataset.csv', BATCH_SIZE)\n",
    "train_dataset = dataset[:DATASET_SIZE]\n",
    "test_dataset = dataset[DATASET_SIZE:]"
   ],
   "id": "f7cf8457fd6e36a1",
   "outputs": [],
   "execution_count": 3
  },
  {
   "metadata": {
    "ExecuteTime": {
     "end_time": "2024-10-23T00:54:43.766924Z",
     "start_time": "2024-10-23T00:54:43.764384Z"
    }
   },
   "cell_type": "code",
   "source": [
    "def accuracy(out, truth):\n",
    "    return torch.abs(truth - out)"
   ],
   "id": "86644199c105ea3e",
   "outputs": [],
   "execution_count": 4
  },
  {
   "metadata": {
    "ExecuteTime": {
     "end_time": "2024-10-23T00:54:43.786024Z",
     "start_time": "2024-10-23T00:54:43.766924Z"
    }
   },
   "cell_type": "code",
   "source": [
    "class Model(nn.Module):\n",
    "    def __init__(self, *args, **kwargs):\n",
    "        super(Model, self).__init__()\n",
    "        self.classifier = nn.Sequential(*args, **kwargs)\n",
    "\n",
    "    def forward(self, X):\n",
    "        return self.classifier.forward(X)\n",
    "\n",
    "\n",
    "model = Model(nn.Conv2d(8, 32, kernel_size=4, stride=2, padding=4),\n",
    "              nn.ReLU(),\n",
    "              nn.Conv2d(32, 128, kernel_size=6, stride=2, padding=4),\n",
    "              nn.ReLU(),\n",
    "              nn.Conv2d(128, 512, kernel_size=6, stride=2, padding=2),\n",
    "              nn.ReLU(),\n",
    "              nn.MaxPool2d(kernel_size=2, stride=1),\n",
    "              nn.Conv2d(512, 64, kernel_size=1, stride=2),\n",
    "              nn.ReLU(),\n",
    "              nn.Flatten(),\n",
    "              nn.Linear(64, 16),\n",
    "              nn.ReLU(),\n",
    "              nn.Linear(16, 1),\n",
    "              )"
   ],
   "id": "40d5321f8631f8a8",
   "outputs": [],
   "execution_count": 5
  },
  {
   "metadata": {
    "ExecuteTime": {
     "end_time": "2024-10-23T00:55:54.467257Z",
     "start_time": "2024-10-23T00:54:43.789032Z"
    }
   },
   "cell_type": "code",
   "source": [
    "train(train_dataset,\n",
    "      BATCH_SIZE,\n",
    "      model,\n",
    "      nn.MSELoss(),\n",
    "      torch.optim.SGD(model.classifier.parameters(), lr=0.02),\n",
    "      accuracy,\n",
    "      60)"
   ],
   "id": "86e2b6dcc72b0656",
   "outputs": [
    {
     "name": "stdout",
     "output_type": "stream",
     "text": [
      "Dataset size: 800\n",
      "Epoch [1/60], train_loss: 12.095031643509865, train_accuracy: 2.6194998218119143, time: 1.441s\n",
      "Epoch [2/60], train_loss: 11.266295641064644, train_accuracy: 2.550138873755932, time: 1.207s\n",
      "Epoch [3/60], train_loss: 7.70222268551588, train_accuracy: 2.0847493118047713, time: 1.171s\n",
      "Epoch [4/60], train_loss: 5.697461593747139, train_accuracy: 1.7648500618338585, time: 1.213s\n",
      "Epoch [5/60], train_loss: 4.353302395045757, train_accuracy: 1.52568773239851, time: 1.214s\n",
      "Epoch [6/60], train_loss: 3.1159750169515608, train_accuracy: 1.2800856804847718, time: 1.164s\n",
      "Epoch [7/60], train_loss: 2.263608800545335, train_accuracy: 1.086095750182867, time: 1.156s\n",
      "Epoch [8/60], train_loss: 1.7289207847416401, train_accuracy: 0.9443839327245951, time: 1.18s\n",
      "Epoch [9/60], train_loss: 1.3629781926423312, train_accuracy: 0.834900007173419, time: 1.165s\n",
      "Epoch [10/60], train_loss: 1.1152136020734906, train_accuracy: 0.7565511754155159, time: 1.178s\n",
      "Epoch [11/60], train_loss: 0.8921486155316234, train_accuracy: 0.6782560615986586, time: 1.19s\n",
      "Epoch [12/60], train_loss: 0.7567760241776704, train_accuracy: 0.6235365471243859, time: 1.177s\n",
      "Epoch [13/60], train_loss: 0.6564599703997374, train_accuracy: 0.5819863263517618, time: 1.177s\n",
      "Epoch [14/60], train_loss: 0.561788668911904, train_accuracy: 0.5399037676304579, time: 1.172s\n",
      "Epoch [15/60], train_loss: 0.47588206455111504, train_accuracy: 0.4952878237888217, time: 1.174s\n",
      "Epoch [16/60], train_loss: 0.4094770599529147, train_accuracy: 0.45901492062956095, time: 1.169s\n",
      "Epoch [17/60], train_loss: 0.36350448230281474, train_accuracy: 0.4338763182237744, time: 1.146s\n",
      "Epoch [18/60], train_loss: 0.3186555323190987, train_accuracy: 0.40613900758326055, time: 1.151s\n",
      "Epoch [19/60], train_loss: 0.27830747778527437, train_accuracy: 0.38129074208438396, time: 1.143s\n",
      "Epoch [20/60], train_loss: 0.23955004470422864, train_accuracy: 0.35432893224060535, time: 1.159s\n",
      "Epoch [21/60], train_loss: 0.21226397017017007, train_accuracy: 0.33239479022100565, time: 1.151s\n",
      "Epoch [22/60], train_loss: 0.20433633006177843, train_accuracy: 0.32229581989347933, time: 1.148s\n",
      "Epoch [23/60], train_loss: 0.17696439310908318, train_accuracy: 0.30277400054037573, time: 1.187s\n",
      "Epoch [24/60], train_loss: 0.1541270807571709, train_accuracy: 0.28465804670006034, time: 1.171s\n",
      "Epoch [25/60], train_loss: 0.13858886742964388, train_accuracy: 0.2703397951647639, time: 1.172s\n",
      "Epoch [26/60], train_loss: 0.12600345593877138, train_accuracy: 0.25903697503730655, time: 1.153s\n",
      "Epoch [27/60], train_loss: 0.11960891080554575, train_accuracy: 0.24914180301129818, time: 1.17s\n",
      "Epoch [28/60], train_loss: 0.10534819690044969, train_accuracy: 0.2361357387341559, time: 1.173s\n",
      "Epoch [29/60], train_loss: 0.09581095969770104, train_accuracy: 0.22582549219951034, time: 1.168s\n",
      "Epoch [30/60], train_loss: 0.08509764556773007, train_accuracy: 0.21441103909164666, time: 1.168s\n",
      "Epoch [31/60], train_loss: 0.07380929948063568, train_accuracy: 0.19915695369243622, time: 1.152s\n",
      "Epoch [32/60], train_loss: 0.06544558581430465, train_accuracy: 0.1875076321698725, time: 1.162s\n",
      "Epoch [33/60], train_loss: 0.06021590868709609, train_accuracy: 0.1814243156928569, time: 1.151s\n",
      "Epoch [34/60], train_loss: 0.05523443564306944, train_accuracy: 0.1729168798867613, time: 1.168s\n",
      "Epoch [35/60], train_loss: 0.05548955287784338, train_accuracy: 0.17191131298430265, time: 1.159s\n",
      "Epoch [36/60], train_loss: 0.053921826316509394, train_accuracy: 0.17079839303158223, time: 1.162s\n",
      "Epoch [37/60], train_loss: 0.04978018116904423, train_accuracy: 0.16428555014543236, time: 1.166s\n",
      "Epoch [38/60], train_loss: 0.044875760404393075, train_accuracy: 0.15665903443470597, time: 1.154s\n",
      "Epoch [39/60], train_loss: 0.04038569126045331, train_accuracy: 0.1482123554032296, time: 1.164s\n",
      "Epoch [40/60], train_loss: 0.03597977738361806, train_accuracy: 0.13943360249511896, time: 1.158s\n",
      "Epoch [41/60], train_loss: 0.0332549811725039, train_accuracy: 0.1345107149798423, time: 1.162s\n",
      "Epoch [42/60], train_loss: 0.031912168465787545, train_accuracy: 0.1313504912238568, time: 1.155s\n",
      "Epoch [43/60], train_loss: 0.030580668079201134, train_accuracy: 0.1283484777994454, time: 1.153s\n",
      "Epoch [44/60], train_loss: 0.02899153792997822, train_accuracy: 0.12564544221386315, time: 1.176s\n",
      "Epoch [45/60], train_loss: 0.02766033214982599, train_accuracy: 0.12209776603616775, time: 1.194s\n",
      "Epoch [46/60], train_loss: 0.026622105163987726, train_accuracy: 0.12006006801500917, time: 1.165s\n",
      "Epoch [47/60], train_loss: 0.02525955733144656, train_accuracy: 0.1169086402002722, time: 1.18s\n",
      "Epoch [48/60], train_loss: 0.02255795565666631, train_accuracy: 0.11049440599977971, time: 1.156s\n",
      "Epoch [49/60], train_loss: 0.020627366242697464, train_accuracy: 0.1061535916198045, time: 1.166s\n",
      "Epoch [50/60], train_loss: 0.019569295796682127, train_accuracy: 0.10307426370680332, time: 1.149s\n",
      "Epoch [51/60], train_loss: 0.019343708197120578, train_accuracy: 0.10228658366017043, time: 1.169s\n",
      "Epoch [52/60], train_loss: 0.019473202876397408, train_accuracy: 0.10286657610908151, time: 1.146s\n",
      "Epoch [53/60], train_loss: 0.018649591554421932, train_accuracy: 0.10019293423742055, time: 1.156s\n",
      "Epoch [54/60], train_loss: 0.01726082962413784, train_accuracy: 0.09637416661716998, time: 1.156s\n",
      "Epoch [55/60], train_loss: 0.016942398987011983, train_accuracy: 0.0956845888029784, time: 1.15s\n",
      "Epoch [56/60], train_loss: 0.01639809382671956, train_accuracy: 0.09405788796953857, time: 1.157s\n",
      "Epoch [57/60], train_loss: 0.016401507304399276, train_accuracy: 0.09394449944607913, time: 1.179s\n",
      "Epoch [58/60], train_loss: 0.016268306478741577, train_accuracy: 0.09284826082177461, time: 1.199s\n",
      "Epoch [59/60], train_loss: 0.015500040843035095, train_accuracy: 0.09111545162741094, time: 1.184s\n",
      "Epoch [60/60], train_loss: 0.015447953653638252, train_accuracy: 0.09050407209899276, time: 1.166s\n"
     ]
    }
   ],
   "execution_count": 6
  },
  {
   "metadata": {
    "ExecuteTime": {
     "end_time": "2024-10-23T00:55:54.529655Z",
     "start_time": "2024-10-23T00:55:54.467257Z"
    }
   },
   "cell_type": "code",
   "source": "test(test_dataset, BATCH_SIZE, model, nn.MSELoss(), accuracy)",
   "id": "dfc37b04d4ae7fea",
   "outputs": [
    {
     "name": "stdout",
     "output_type": "stream",
     "text": [
      "Dataset size: 131\n",
      "test_loss: 1.3569791867532803, test_accuracy: 0.7366140514384699, time: 0.059s\n"
     ]
    }
   ],
   "execution_count": 7
  },
  {
   "metadata": {
    "ExecuteTime": {
     "end_time": "2024-10-23T00:55:54.881188Z",
     "start_time": "2024-10-23T00:55:54.529655Z"
    }
   },
   "cell_type": "code",
   "source": "test(train_dataset, BATCH_SIZE, model, nn.MSELoss(), accuracy)",
   "id": "2bea0613ee7f39bc",
   "outputs": [
    {
     "name": "stdout",
     "output_type": "stream",
     "text": [
      "Dataset size: 800\n",
      "test_loss: 0.10407889988040551, test_accuracy: 0.2333738158456981, time: 0.349s\n"
     ]
    }
   ],
   "execution_count": 8
  }
 ],
 "metadata": {
  "kernelspec": {
   "display_name": "Python 3",
   "language": "python",
   "name": "python3"
  },
  "language_info": {
   "codemirror_mode": {
    "name": "ipython",
    "version": 2
   },
   "file_extension": ".py",
   "mimetype": "text/x-python",
   "name": "python",
   "nbconvert_exporter": "python",
   "pygments_lexer": "ipython2",
   "version": "2.7.6"
  }
 },
 "nbformat": 4,
 "nbformat_minor": 5
}
