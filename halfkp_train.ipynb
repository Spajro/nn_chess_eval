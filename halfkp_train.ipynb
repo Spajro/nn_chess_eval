{
 "cells": [
  {
   "cell_type": "code",
   "id": "initial_id",
   "metadata": {
    "collapsed": true,
    "ExecuteTime": {
     "end_time": "2024-12-17T12:58:29.645714Z",
     "start_time": "2024-12-17T12:58:26.754121Z"
    }
   },
   "source": [
    "import torch\n",
    "from torch import nn\n",
    "\n",
    "from src.data_loading import wdl_to_cp\n",
    "from src.data_loading_halfkp import HalfKpDataset, M\n",
    "\n",
    "from src.core import train, test"
   ],
   "outputs": [],
   "execution_count": 1
  },
  {
   "metadata": {
    "ExecuteTime": {
     "end_time": "2024-12-17T12:58:29.649158Z",
     "start_time": "2024-12-17T12:58:29.645714Z"
    }
   },
   "cell_type": "code",
   "source": "BATCH_SIZE = 64",
   "id": "c4e57db20592e918",
   "outputs": [],
   "execution_count": 2
  },
  {
   "metadata": {
    "ExecuteTime": {
     "end_time": "2024-12-17T12:59:19.807604Z",
     "start_time": "2024-12-17T12:58:29.649158Z"
    }
   },
   "cell_type": "code",
   "source": [
    "from src.patches import TRAIN_DATASET_PATCH, TEST_DATASET_PATCH\n",
    "\n",
    "train_dataset = HalfKpDataset(TRAIN_DATASET_PATCH, BATCH_SIZE)\n",
    "test_dataset = HalfKpDataset(TEST_DATASET_PATCH, BATCH_SIZE)\n",
    "len(train_dataset), len(test_dataset)"
   ],
   "id": "8e97fb789fb2cd08",
   "outputs": [
    {
     "data": {
      "text/plain": [
       "(13149, 3287)"
      ]
     },
     "execution_count": 3,
     "metadata": {},
     "output_type": "execute_result"
    }
   ],
   "execution_count": 3
  },
  {
   "metadata": {
    "ExecuteTime": {
     "end_time": "2024-12-17T12:59:19.811108Z",
     "start_time": "2024-12-17T12:59:19.807604Z"
    }
   },
   "cell_type": "code",
   "source": [
    "def accuracy(out, truth):\n",
    "    return wdl_to_cp(torch.abs(truth - out))"
   ],
   "id": "86644199c105ea3e",
   "outputs": [],
   "execution_count": 4
  },
  {
   "metadata": {
    "ExecuteTime": {
     "end_time": "2024-12-17T12:59:19.893859Z",
     "start_time": "2024-12-17T12:59:19.811614Z"
    }
   },
   "cell_type": "code",
   "source": [
    "x0 = 2 * M\n",
    "x1 = 2 ** 8\n",
    "x2 = 2 ** 5\n",
    "\n",
    "\n",
    "class Model(nn.Module):\n",
    "    def __init__(self):\n",
    "        super(Model, self).__init__()\n",
    "        self.layer1 = nn.Linear(x0, x1)\n",
    "        self.layer2 = nn.Linear(x1, x2)\n",
    "        self.layer3 = nn.Linear(x2, 1)\n",
    "        self.classifier = nn.Sequential(self.layer1,\n",
    "                                        nn.ReLU(),\n",
    "                                        self.layer2,\n",
    "                                        nn.ReLU(),\n",
    "                                        self.layer3)\n",
    "\n",
    "    def forward(self, X):\n",
    "        return self.classifier.forward(X)\n",
    "\n",
    "\n",
    "model = Model()"
   ],
   "id": "40d5321f8631f8a8",
   "outputs": [],
   "execution_count": 5
  },
  {
   "metadata": {
    "ExecuteTime": {
     "end_time": "2024-12-17T13:16:41.073727Z",
     "start_time": "2024-12-17T13:15:15.209635Z"
    }
   },
   "cell_type": "code",
   "source": "test(test_dataset, model, nn.MSELoss(), accuracy)",
   "id": "ecd672809ad3ad77",
   "outputs": [
    {
     "name": "stdout",
     "output_type": "stream",
     "text": [
      "Dataset size: 3287\n"
     ]
    },
    {
     "ename": "KeyboardInterrupt",
     "evalue": "",
     "output_type": "error",
     "traceback": [
      "\u001B[1;31m---------------------------------------------------------------------------\u001B[0m",
      "\u001B[1;31mKeyboardInterrupt\u001B[0m                         Traceback (most recent call last)",
      "Cell \u001B[1;32mIn[9], line 1\u001B[0m\n\u001B[1;32m----> 1\u001B[0m \u001B[43mtest\u001B[49m\u001B[43m(\u001B[49m\u001B[43mtest_dataset\u001B[49m\u001B[43m,\u001B[49m\u001B[43m \u001B[49m\u001B[43mBATCH_SIZE\u001B[49m\u001B[43m,\u001B[49m\u001B[43m \u001B[49m\u001B[43mmodel\u001B[49m\u001B[43m,\u001B[49m\u001B[43m \u001B[49m\u001B[43mnn\u001B[49m\u001B[38;5;241;43m.\u001B[39;49m\u001B[43mMSELoss\u001B[49m\u001B[43m(\u001B[49m\u001B[43m)\u001B[49m\u001B[43m,\u001B[49m\u001B[43m \u001B[49m\u001B[43maccuracy\u001B[49m\u001B[43m)\u001B[49m\n",
      "File \u001B[1;32mD:\\Projekty\\nn_chess_eval\\src\\core.py:75\u001B[0m, in \u001B[0;36mtest\u001B[1;34m(data, batch_size, model, criterion, accuracy)\u001B[0m\n\u001B[0;32m     73\u001B[0m accuracy_sum \u001B[38;5;241m=\u001B[39m \u001B[38;5;241m0.0\u001B[39m\n\u001B[0;32m     74\u001B[0m \u001B[38;5;28;01mwith\u001B[39;00m torch\u001B[38;5;241m.\u001B[39mno_grad():\n\u001B[1;32m---> 75\u001B[0m \u001B[43m    \u001B[49m\u001B[38;5;28;43;01mfor\u001B[39;49;00m\u001B[43m \u001B[49m\u001B[43mbatch\u001B[49m\u001B[43m,\u001B[49m\u001B[43m \u001B[49m\u001B[43mtruth\u001B[49m\u001B[43m \u001B[49m\u001B[38;5;129;43;01min\u001B[39;49;00m\u001B[43m \u001B[49m\u001B[43mdata\u001B[49m\u001B[43m:\u001B[49m\n\u001B[0;32m     76\u001B[0m \u001B[43m        \u001B[49m\u001B[43mout\u001B[49m\u001B[43m \u001B[49m\u001B[38;5;241;43m=\u001B[39;49m\u001B[43m \u001B[49m\u001B[43mmodel\u001B[49m\u001B[38;5;241;43m.\u001B[39;49m\u001B[43mforward\u001B[49m\u001B[43m(\u001B[49m\u001B[43mbatch\u001B[49m\u001B[43m)\u001B[49m\u001B[38;5;241;43m.\u001B[39;49m\u001B[43mreshape\u001B[49m\u001B[43m(\u001B[49m\u001B[43mbatch_size\u001B[49m\u001B[43m)\u001B[49m\n\u001B[0;32m     77\u001B[0m \u001B[43m        \u001B[49m\u001B[43mloss\u001B[49m\u001B[43m \u001B[49m\u001B[38;5;241;43m=\u001B[39;49m\u001B[43m \u001B[49m\u001B[43mcriterion\u001B[49m\u001B[43m(\u001B[49m\u001B[43mout\u001B[49m\u001B[43m,\u001B[49m\u001B[43m \u001B[49m\u001B[43mtruth\u001B[49m\u001B[43m)\u001B[49m\n",
      "File \u001B[1;32mD:\\Projekty\\nn_chess_eval\\src\\data_loading_halfkp.py:15\u001B[0m, in \u001B[0;36mHalfKpDataset.__iter__\u001B[1;34m(self)\u001B[0m\n\u001B[0;32m     13\u001B[0m \u001B[38;5;28;01mdef\u001B[39;00m \u001B[38;5;21m__iter__\u001B[39m(\u001B[38;5;28mself\u001B[39m):\n\u001B[0;32m     14\u001B[0m     \u001B[38;5;28;01mfor\u001B[39;00m batch, truth \u001B[38;5;129;01min\u001B[39;00m \u001B[38;5;28mself\u001B[39m\u001B[38;5;241m.\u001B[39mdata:\n\u001B[1;32m---> 15\u001B[0m         \u001B[38;5;28;01myield\u001B[39;00m \u001B[43mbatch_to_tensors\u001B[49m\u001B[43m(\u001B[49m\u001B[43mbatch\u001B[49m\u001B[43m)\u001B[49m, truth\n",
      "File \u001B[1;32mD:\\Projekty\\nn_chess_eval\\src\\data_loading_halfkp.py:85\u001B[0m, in \u001B[0;36mbatch_to_tensors\u001B[1;34m(batch)\u001B[0m\n\u001B[0;32m     83\u001B[0m result \u001B[38;5;241m=\u001B[39m []\n\u001B[0;32m     84\u001B[0m \u001B[38;5;28;01mfor\u001B[39;00m features \u001B[38;5;129;01min\u001B[39;00m batch:\n\u001B[1;32m---> 85\u001B[0m     result\u001B[38;5;241m.\u001B[39mappend(\u001B[43mfeature_set_to_tensor\u001B[49m\u001B[43m(\u001B[49m\u001B[43mfeatures\u001B[49m\u001B[43m)\u001B[49m)\n\u001B[0;32m     86\u001B[0m \u001B[38;5;28;01mreturn\u001B[39;00m torch\u001B[38;5;241m.\u001B[39mstack(result)\u001B[38;5;241m.\u001B[39mcuda()\n",
      "File \u001B[1;32mD:\\Projekty\\nn_chess_eval\\src\\data_loading_halfkp.py:57\u001B[0m, in \u001B[0;36mfeature_set_to_tensor\u001B[1;34m(features)\u001B[0m\n\u001B[0;32m     55\u001B[0m tensor \u001B[38;5;241m=\u001B[39m torch\u001B[38;5;241m.\u001B[39mzeros(\u001B[38;5;241m2\u001B[39m \u001B[38;5;241m*\u001B[39m M)\u001B[38;5;241m.\u001B[39mcuda()\n\u001B[0;32m     56\u001B[0m \u001B[38;5;28;01mfor\u001B[39;00m feature \u001B[38;5;129;01min\u001B[39;00m features:\n\u001B[1;32m---> 57\u001B[0m     tensor[feature] \u001B[38;5;241m=\u001B[39m \u001B[38;5;241m1\u001B[39m\n\u001B[0;32m     58\u001B[0m \u001B[38;5;28;01mreturn\u001B[39;00m tensor\n",
      "\u001B[1;31mKeyboardInterrupt\u001B[0m: "
     ]
    }
   ],
   "execution_count": 9
  },
  {
   "metadata": {
    "ExecuteTime": {
     "end_time": "2024-12-17T13:14:35.672180Z",
     "start_time": "2024-12-17T13:02:21.909641Z"
    }
   },
   "cell_type": "code",
   "source": "test(train_dataset, model, nn.MSELoss(), accuracy)",
   "id": "be061743cbf7cad4",
   "outputs": [
    {
     "name": "stdout",
     "output_type": "stream",
     "text": [
      "Dataset size: 13149\n",
      "test_loss: 0.7432454234951394, test_accuracy: 291.39394797875553, time: 733.759s\n"
     ]
    }
   ],
   "execution_count": 7
  },
  {
   "metadata": {
    "ExecuteTime": {
     "end_time": "2024-12-17T13:14:40.926639Z",
     "start_time": "2024-12-17T13:14:35.672180Z"
    }
   },
   "cell_type": "code",
   "source": [
    "train(train_dataset,\n",
    "      test_dataset,\n",
    "      model,\n",
    "      nn.MSELoss(),\n",
    "      torch.optim.SGD(model.classifier.parameters(), lr=0.001),\n",
    "      accuracy,\n",
    "      300)"
   ],
   "id": "86e2b6dcc72b0656",
   "outputs": [
    {
     "name": "stdout",
     "output_type": "stream",
     "text": [
      "Dataset size: 13149\n"
     ]
    },
    {
     "ename": "KeyboardInterrupt",
     "evalue": "",
     "output_type": "error",
     "traceback": [
      "\u001B[1;31m---------------------------------------------------------------------------\u001B[0m",
      "\u001B[1;31mKeyboardInterrupt\u001B[0m                         Traceback (most recent call last)",
      "Cell \u001B[1;32mIn[8], line 1\u001B[0m\n\u001B[1;32m----> 1\u001B[0m \u001B[43mtrain\u001B[49m\u001B[43m(\u001B[49m\u001B[43mtrain_dataset\u001B[49m\u001B[43m,\u001B[49m\n\u001B[0;32m      2\u001B[0m \u001B[43m      \u001B[49m\u001B[43mtest_dataset\u001B[49m\u001B[43m,\u001B[49m\n\u001B[0;32m      3\u001B[0m \u001B[43m      \u001B[49m\u001B[43mBATCH_SIZE\u001B[49m\u001B[43m,\u001B[49m\n\u001B[0;32m      4\u001B[0m \u001B[43m      \u001B[49m\u001B[43mmodel\u001B[49m\u001B[43m,\u001B[49m\n\u001B[0;32m      5\u001B[0m \u001B[43m      \u001B[49m\u001B[43mnn\u001B[49m\u001B[38;5;241;43m.\u001B[39;49m\u001B[43mMSELoss\u001B[49m\u001B[43m(\u001B[49m\u001B[43m)\u001B[49m\u001B[43m,\u001B[49m\n\u001B[0;32m      6\u001B[0m \u001B[43m      \u001B[49m\u001B[43mtorch\u001B[49m\u001B[38;5;241;43m.\u001B[39;49m\u001B[43moptim\u001B[49m\u001B[38;5;241;43m.\u001B[39;49m\u001B[43mSGD\u001B[49m\u001B[43m(\u001B[49m\u001B[43mmodel\u001B[49m\u001B[38;5;241;43m.\u001B[39;49m\u001B[43mclassifier\u001B[49m\u001B[38;5;241;43m.\u001B[39;49m\u001B[43mparameters\u001B[49m\u001B[43m(\u001B[49m\u001B[43m)\u001B[49m\u001B[43m,\u001B[49m\u001B[43m \u001B[49m\u001B[43mlr\u001B[49m\u001B[38;5;241;43m=\u001B[39;49m\u001B[38;5;241;43m0.001\u001B[39;49m\u001B[43m)\u001B[49m\u001B[43m,\u001B[49m\n\u001B[0;32m      7\u001B[0m \u001B[43m      \u001B[49m\u001B[43maccuracy\u001B[49m\u001B[43m,\u001B[49m\n\u001B[0;32m      8\u001B[0m \u001B[43m      \u001B[49m\u001B[38;5;241;43m300\u001B[39;49m\u001B[43m)\u001B[49m\n",
      "File \u001B[1;32mD:\\Projekty\\nn_chess_eval\\src\\core.py:25\u001B[0m, in \u001B[0;36mtrain\u001B[1;34m(train_data, test_data, batch_size, model, criterion, optimizer, accuracy, epoch)\u001B[0m\n\u001B[0;32m     22\u001B[0m     loss\u001B[38;5;241m.\u001B[39mbackward()\n\u001B[0;32m     23\u001B[0m     optimizer\u001B[38;5;241m.\u001B[39mstep()\n\u001B[1;32m---> 25\u001B[0m     loss_sum \u001B[38;5;241m+\u001B[39m\u001B[38;5;241m=\u001B[39m \u001B[43mloss\u001B[49m\u001B[38;5;241;43m.\u001B[39;49m\u001B[43mitem\u001B[49m\u001B[43m(\u001B[49m\u001B[43m)\u001B[49m\n\u001B[0;32m     26\u001B[0m     accuracy_sum \u001B[38;5;241m+\u001B[39m\u001B[38;5;241m=\u001B[39m accuracy_value\u001B[38;5;241m.\u001B[39mitem()\n\u001B[0;32m     28\u001B[0m loss_average \u001B[38;5;241m=\u001B[39m loss_sum \u001B[38;5;241m/\u001B[39m size\n",
      "\u001B[1;31mKeyboardInterrupt\u001B[0m: "
     ]
    }
   ],
   "execution_count": 8
  },
  {
   "metadata": {},
   "cell_type": "code",
   "source": "test(test_dataset, model, nn.MSELoss(), accuracy)",
   "id": "dfc37b04d4ae7fea",
   "outputs": [],
   "execution_count": null
  },
  {
   "metadata": {},
   "cell_type": "code",
   "source": "test(train_dataset, model, nn.MSELoss(), accuracy)",
   "id": "2bea0613ee7f39bc",
   "outputs": [],
   "execution_count": null
  },
  {
   "metadata": {},
   "cell_type": "code",
   "source": "torch.save(dict(model.state_dict()), 'halfkp_state.pt')",
   "id": "40372181fbaea4e",
   "outputs": [],
   "execution_count": null
  },
  {
   "metadata": {},
   "cell_type": "code",
   "source": [
    "torch.save([[model.layer1.weight.tolist(), model.layer1.bias.tolist()],\n",
    "            [model.layer2.weight.tolist(), model.layer2.bias.tolist()],\n",
    "            [model.layer3.weight.tolist(), model.layer3.bias.tolist()]],\n",
    "           \"halfkp_wb.pt\")"
   ],
   "id": "214b17d40a3fa18b",
   "outputs": [],
   "execution_count": null
  }
 ],
 "metadata": {
  "kernelspec": {
   "display_name": "Python 3",
   "language": "python",
   "name": "python3"
  },
  "language_info": {
   "codemirror_mode": {
    "name": "ipython",
    "version": 2
   },
   "file_extension": ".py",
   "mimetype": "text/x-python",
   "name": "python",
   "nbconvert_exporter": "python",
   "pygments_lexer": "ipython2",
   "version": "2.7.6"
  }
 },
 "nbformat": 4,
 "nbformat_minor": 5
}
