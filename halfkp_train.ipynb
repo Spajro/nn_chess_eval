{
 "cells": [
  {
   "cell_type": "code",
   "id": "initial_id",
   "metadata": {
    "collapsed": true,
    "ExecuteTime": {
     "end_time": "2024-12-09T14:49:57.268772Z",
     "start_time": "2024-12-09T14:49:56.142993Z"
    }
   },
   "source": [
    "import torch\n",
    "from torch import nn\n",
    "\n",
    "from src.data_loading import wdl_to_cp\n",
    "from src.data_loading_halfkp import HalfKpDataset, M\n",
    "\n",
    "from src.core import train, test"
   ],
   "outputs": [],
   "execution_count": 1
  },
  {
   "metadata": {
    "ExecuteTime": {
     "end_time": "2024-12-09T14:50:03.225272Z",
     "start_time": "2024-12-09T14:50:03.221931Z"
    }
   },
   "cell_type": "code",
   "source": "BATCH_SIZE = 64",
   "id": "c4e57db20592e918",
   "outputs": [],
   "execution_count": 2
  },
  {
   "metadata": {
    "ExecuteTime": {
     "end_time": "2024-12-09T14:50:53.420709Z",
     "start_time": "2024-12-09T14:50:03.488435Z"
    }
   },
   "cell_type": "code",
   "source": [
    "from src.patches import TRAIN_DATASET_PATCH, TEST_DATASET_PATCH\n",
    "\n",
    "train_dataset = HalfKpDataset(TRAIN_DATASET_PATCH, BATCH_SIZE)\n",
    "test_dataset = HalfKpDataset(TEST_DATASET_PATCH, BATCH_SIZE)\n",
    "len(train_dataset), len(test_dataset)"
   ],
   "id": "8e97fb789fb2cd08",
   "outputs": [
    {
     "data": {
      "text/plain": [
       "(13149, 3287)"
      ]
     },
     "execution_count": 3,
     "metadata": {},
     "output_type": "execute_result"
    }
   ],
   "execution_count": 3
  },
  {
   "metadata": {
    "ExecuteTime": {
     "end_time": "2024-12-09T14:57:01.504952Z",
     "start_time": "2024-12-09T14:57:01.501442Z"
    }
   },
   "cell_type": "code",
   "source": [
    "def accuracy(out, truth):\n",
    "    return wdl_to_cp(torch.abs(truth - out))"
   ],
   "id": "86644199c105ea3e",
   "outputs": [],
   "execution_count": 6
  },
  {
   "metadata": {
    "ExecuteTime": {
     "end_time": "2024-12-09T14:57:01.830346Z",
     "start_time": "2024-12-09T14:57:01.766604Z"
    }
   },
   "cell_type": "code",
   "source": [
    "x0 = 2 * M\n",
    "x1 = 2 ** 8\n",
    "x2 = 2 ** 5\n",
    "\n",
    "\n",
    "class Model(nn.Module):\n",
    "    def __init__(self):\n",
    "        super(Model, self).__init__()\n",
    "        self.layer1 = nn.Linear(x0, x1)\n",
    "        self.layer2 = nn.Linear(x1, x2)\n",
    "        self.layer3 = nn.Linear(x2, 1)\n",
    "        self.classifier = nn.Sequential(self.layer1,\n",
    "                                        nn.ReLU(),\n",
    "                                        self.layer2,\n",
    "                                        nn.ReLU(),\n",
    "                                        self.layer3)\n",
    "\n",
    "    def forward(self, X):\n",
    "        return self.classifier.forward(X)\n",
    "\n",
    "\n",
    "model = Model()"
   ],
   "id": "40d5321f8631f8a8",
   "outputs": [],
   "execution_count": 7
  },
  {
   "metadata": {
    "jupyter": {
     "is_executing": true
    },
    "ExecuteTime": {
     "start_time": "2024-12-09T14:57:02.434285Z"
    }
   },
   "cell_type": "code",
   "source": "test(test_dataset, BATCH_SIZE, model, nn.MSELoss(), accuracy)",
   "id": "ecd672809ad3ad77",
   "outputs": [
    {
     "name": "stdout",
     "output_type": "stream",
     "text": [
      "Dataset size: 3287\n"
     ]
    }
   ],
   "execution_count": null
  },
  {
   "metadata": {
    "ExecuteTime": {
     "end_time": "2024-12-09T14:49:35.632606Z",
     "start_time": "2024-12-09T14:49:35.632606Z"
    }
   },
   "cell_type": "code",
   "source": "test(train_dataset, BATCH_SIZE, model, nn.MSELoss(), accuracy)",
   "id": "be061743cbf7cad4",
   "outputs": [],
   "execution_count": null
  },
  {
   "metadata": {
    "ExecuteTime": {
     "end_time": "2024-12-09T14:49:35.633606Z",
     "start_time": "2024-12-09T14:49:35.633606Z"
    }
   },
   "cell_type": "code",
   "source": [
    "train(train_dataset,\n",
    "      test_dataset,\n",
    "      BATCH_SIZE,\n",
    "      model,\n",
    "      nn.MSELoss(),\n",
    "      torch.optim.SGD(model.classifier.parameters(), lr=0.001),\n",
    "      accuracy,\n",
    "      300)"
   ],
   "id": "86e2b6dcc72b0656",
   "outputs": [],
   "execution_count": null
  },
  {
   "metadata": {
    "ExecuteTime": {
     "end_time": "2024-12-09T14:49:35.633606Z",
     "start_time": "2024-12-09T14:49:35.633606Z"
    }
   },
   "cell_type": "code",
   "source": "test(test_dataset, BATCH_SIZE, model, nn.MSELoss(), accuracy)",
   "id": "dfc37b04d4ae7fea",
   "outputs": [],
   "execution_count": null
  },
  {
   "metadata": {},
   "cell_type": "code",
   "source": "test(train_dataset, BATCH_SIZE, model, nn.MSELoss(), accuracy)",
   "id": "2bea0613ee7f39bc",
   "outputs": [],
   "execution_count": null
  },
  {
   "metadata": {},
   "cell_type": "code",
   "source": "torch.save(dict(model.state_dict()), 'model.pt')",
   "id": "40372181fbaea4e",
   "outputs": [],
   "execution_count": null
  }
 ],
 "metadata": {
  "kernelspec": {
   "display_name": "Python 3",
   "language": "python",
   "name": "python3"
  },
  "language_info": {
   "codemirror_mode": {
    "name": "ipython",
    "version": 2
   },
   "file_extension": ".py",
   "mimetype": "text/x-python",
   "name": "python",
   "nbconvert_exporter": "python",
   "pygments_lexer": "ipython2",
   "version": "2.7.6"
  }
 },
 "nbformat": 4,
 "nbformat_minor": 5
}
