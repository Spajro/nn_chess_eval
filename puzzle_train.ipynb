{
 "cells": [
  {
   "cell_type": "code",
   "id": "initial_id",
   "metadata": {
    "collapsed": true,
    "ExecuteTime": {
     "end_time": "2024-10-21T22:56:04.716158Z",
     "start_time": "2024-10-21T22:56:01.831624Z"
    }
   },
   "source": [
    "import torch\n",
    "from torch import nn\n",
    "\n",
    "from data_loading import load_dataset\n",
    "\n",
    "from core import train, test"
   ],
   "outputs": [],
   "execution_count": 1
  },
  {
   "metadata": {
    "ExecuteTime": {
     "end_time": "2024-10-21T22:56:04.718887Z",
     "start_time": "2024-10-21T22:56:04.716158Z"
    }
   },
   "cell_type": "code",
   "source": [
    "BATCH_SIZE = 64\n",
    "DATASET_SIZE = 6000"
   ],
   "id": "c4e57db20592e918",
   "outputs": [],
   "execution_count": 2
  },
  {
   "metadata": {
    "ExecuteTime": {
     "end_time": "2024-10-21T22:56:53.462994Z",
     "start_time": "2024-10-21T22:56:04.718887Z"
    }
   },
   "cell_type": "code",
   "source": [
    "dataset = load_dataset('dataset.csv', BATCH_SIZE)\n",
    "train_dataset = dataset[:DATASET_SIZE]\n",
    "test_dataset = dataset[DATASET_SIZE:]"
   ],
   "id": "f7cf8457fd6e36a1",
   "outputs": [],
   "execution_count": 3
  },
  {
   "metadata": {
    "ExecuteTime": {
     "end_time": "2024-10-21T22:56:53.466168Z",
     "start_time": "2024-10-21T22:56:53.462994Z"
    }
   },
   "cell_type": "code",
   "source": [
    "def accuracy(out, truth):\n",
    "    return torch.abs(truth - out)"
   ],
   "id": "86644199c105ea3e",
   "outputs": [],
   "execution_count": 4
  },
  {
   "metadata": {
    "ExecuteTime": {
     "end_time": "2024-10-21T22:56:53.509974Z",
     "start_time": "2024-10-21T22:56:53.486098Z"
    }
   },
   "cell_type": "code",
   "source": [
    "class Model(nn.Module):\n",
    "    def __init__(self, *args, **kwargs):\n",
    "        super(Model, self).__init__()\n",
    "        self.classifier = nn.Sequential(*args, **kwargs)\n",
    "\n",
    "    def forward(self, X):\n",
    "        return self.classifier.forward(X)\n",
    "\n",
    "\n",
    "model = Model(nn.Conv2d(8, 32, kernel_size=4, stride=2, padding=4),\n",
    "              nn.ReLU(),\n",
    "              nn.Conv2d(32, 128, kernel_size=6, stride=2, padding=4),\n",
    "              nn.ReLU(),\n",
    "              nn.Conv2d(128, 512, kernel_size=6, stride=2, padding=2),\n",
    "              nn.ReLU(),\n",
    "              nn.MaxPool2d(kernel_size=2, stride=1),\n",
    "              nn.Conv2d(512, 64, kernel_size=1, stride=2),\n",
    "              nn.ReLU(),\n",
    "              nn.Flatten(),\n",
    "              nn.Linear(64, 16),\n",
    "              nn.ReLU(),\n",
    "              nn.Linear(16, 1),\n",
    "              )"
   ],
   "id": "40d5321f8631f8a8",
   "outputs": [],
   "execution_count": 7
  },
  {
   "metadata": {
    "ExecuteTime": {
     "end_time": "2024-10-21T23:06:08.498274Z",
     "start_time": "2024-10-21T22:56:53.509974Z"
    }
   },
   "cell_type": "code",
   "source": [
    "train(train_dataset,\n",
    "      BATCH_SIZE,\n",
    "      model,\n",
    "      nn.MSELoss(),\n",
    "      torch.optim.SGD(model.classifier.parameters(), lr=0.02),\n",
    "      accuracy,\n",
    "      60)"
   ],
   "id": "86e2b6dcc72b0656",
   "outputs": [
    {
     "name": "stdout",
     "output_type": "stream",
     "text": [
      "Dataset size: 6000\n",
      "Epoch [1/60], train_loss: 12.442231094439824, train_accuracy: 3.1871006928284964, time: 9.233s\n",
      "Epoch [2/60], train_loss: 11.626251641670862, train_accuracy: 3.020935908575853, time: 8.814s\n",
      "Epoch [3/60], train_loss: 11.393395974318187, train_accuracy: 2.973004740993182, time: 8.778s\n",
      "Epoch [4/60], train_loss: 11.224926126559575, train_accuracy: 2.9389276150663695, time: 8.488s\n",
      "Epoch [5/60], train_loss: 11.051227978428205, train_accuracy: 2.9034651437997816, time: 8.471s\n",
      "Epoch [6/60], train_loss: 10.849205212632816, train_accuracy: 2.862642190059026, time: 8.257s\n",
      "Epoch [7/60], train_loss: 10.59505006456375, train_accuracy: 2.811749097307523, time: 9.85s\n",
      "Epoch [8/60], train_loss: 10.31093249686559, train_accuracy: 2.7548194851279257, time: 10.138s\n",
      "Epoch [9/60], train_loss: 9.915568418423335, train_accuracy: 2.676684448381265, time: 10.06s\n",
      "Epoch [10/60], train_loss: 9.409877012848854, train_accuracy: 2.5756688130895298, time: 8.95s\n",
      "Epoch [11/60], train_loss: 8.808504574815432, train_accuracy: 2.457128430366516, time: 9.129s\n",
      "Epoch [12/60], train_loss: 8.133892292380333, train_accuracy: 2.3250015285809833, time: 9.473s\n",
      "Epoch [13/60], train_loss: 7.366697780013085, train_accuracy: 2.176683933814367, time: 9.172s\n",
      "Epoch [14/60], train_loss: 6.5254353694518406, train_accuracy: 2.014370252251625, time: 9.467s\n",
      "Epoch [15/60], train_loss: 5.773234736363093, train_accuracy: 1.8660149254997571, time: 9.691s\n",
      "Epoch [16/60], train_loss: 5.093507674078147, train_accuracy: 1.730195912351211, time: 9.324s\n",
      "Epoch [17/60], train_loss: 4.475604435741902, train_accuracy: 1.6076558572947979, time: 9.198s\n",
      "Epoch [18/60], train_loss: 3.9502588731447856, train_accuracy: 1.4978801555534205, time: 8.857s\n",
      "Epoch [19/60], train_loss: 3.490557383219401, train_accuracy: 1.4010546261568864, time: 8.424s\n",
      "Epoch [20/60], train_loss: 3.0814640209674837, train_accuracy: 1.3109881978332996, time: 8.63s\n",
      "Epoch [21/60], train_loss: 2.746283503015836, train_accuracy: 1.2351694903075694, time: 8.644s\n",
      "Epoch [22/60], train_loss: 2.428283206174771, train_accuracy: 1.1606840121348698, time: 8.454s\n",
      "Epoch [23/60], train_loss: 2.16283066624403, train_accuracy: 1.0945054978529611, time: 8.281s\n",
      "Epoch [24/60], train_loss: 1.9334860109885534, train_accuracy: 1.0347374402781329, time: 8.45s\n",
      "Epoch [25/60], train_loss: 1.7089092725614707, train_accuracy: 0.9745755411982536, time: 8.519s\n",
      "Epoch [26/60], train_loss: 1.4883281711041927, train_accuracy: 0.9110480256776015, time: 8.405s\n",
      "Epoch [27/60], train_loss: 1.3108262275060019, train_accuracy: 0.856403953909874, time: 8.71s\n",
      "Epoch [28/60], train_loss: 1.1701455197532973, train_accuracy: 0.8101088363081217, time: 8.789s\n",
      "Epoch [29/60], train_loss: 1.033547119687001, train_accuracy: 0.763113645106554, time: 8.458s\n",
      "Epoch [30/60], train_loss: 0.9164807342737913, train_accuracy: 0.7196238057166338, time: 8.662s\n",
      "Epoch [31/60], train_loss: 0.8179556631445885, train_accuracy: 0.6796303776701291, time: 8.695s\n",
      "Epoch [32/60], train_loss: 0.7266836085170507, train_accuracy: 0.6420495554308097, time: 8.623s\n",
      "Epoch [33/60], train_loss: 0.6513604371373852, train_accuracy: 0.6084576776276032, time: 8.845s\n",
      "Epoch [34/60], train_loss: 0.5933853910341859, train_accuracy: 0.580773283859094, time: 9.388s\n",
      "Epoch [35/60], train_loss: 0.5292810097485781, train_accuracy: 0.5488950577874978, time: 9.825s\n",
      "Epoch [36/60], train_loss: 0.47939256284137566, train_accuracy: 0.5227810547500849, time: 10.184s\n",
      "Epoch [37/60], train_loss: 0.4439104992747307, train_accuracy: 0.5029968312184016, time: 8.865s\n",
      "Epoch [38/60], train_loss: 0.4066629049281279, train_accuracy: 0.4813830825686455, time: 8.439s\n",
      "Epoch [39/60], train_loss: 0.37360596636931104, train_accuracy: 0.461572329406937, time: 9.798s\n",
      "Epoch [40/60], train_loss: 0.3520753926485777, train_accuracy: 0.4472374355991681, time: 10.046s\n",
      "Epoch [41/60], train_loss: 0.32971588206539554, train_accuracy: 0.43317902633547783, time: 10.031s\n",
      "Epoch [42/60], train_loss: 0.31030413195615014, train_accuracy: 0.41986733388652403, time: 9.123s\n",
      "Epoch [43/60], train_loss: 0.2916229187113543, train_accuracy: 0.4062688312927882, time: 8.897s\n",
      "Epoch [44/60], train_loss: 0.27351400899638734, train_accuracy: 0.3937918025503556, time: 8.678s\n",
      "Epoch [45/60], train_loss: 0.2563031111359596, train_accuracy: 0.38099173869689307, time: 8.77s\n",
      "Epoch [46/60], train_loss: 0.2431300404816866, train_accuracy: 0.3703237204477191, time: 8.871s\n",
      "Epoch [47/60], train_loss: 0.23196632419526578, train_accuracy: 0.3619662571549416, time: 10.121s\n",
      "Epoch [48/60], train_loss: 0.221053068091472, train_accuracy: 0.3530246116295457, time: 10.063s\n",
      "Epoch [49/60], train_loss: 0.21266756867369016, train_accuracy: 0.345716048464179, time: 9.91s\n",
      "Epoch [50/60], train_loss: 0.2034638443874816, train_accuracy: 0.3382356101423502, time: 8.735s\n",
      "Epoch [51/60], train_loss: 0.19486914325132967, train_accuracy: 0.33082141913225255, time: 9.23s\n",
      "Epoch [52/60], train_loss: 0.1934527018678685, train_accuracy: 0.3284613960782687, time: 9.91s\n",
      "Epoch [53/60], train_loss: 0.1870202042342474, train_accuracy: 0.32295815165092545, time: 10.13s\n",
      "Epoch [54/60], train_loss: 0.18054350068792702, train_accuracy: 0.3176326018248995, time: 10.113s\n",
      "Epoch [55/60], train_loss: 0.1715354493788133, train_accuracy: 0.3098878443862001, time: 10.099s\n",
      "Epoch [56/60], train_loss: 0.16578543553935984, train_accuracy: 0.3041797216037909, time: 10.095s\n",
      "Epoch [57/60], train_loss: 0.16333525691429773, train_accuracy: 0.30165010357648137, time: 10.11s\n",
      "Epoch [58/60], train_loss: 0.1602887740507722, train_accuracy: 0.298453688805302, time: 10.113s\n",
      "Epoch [59/60], train_loss: 0.15491865599900484, train_accuracy: 0.2938013242408633, time: 10.191s\n",
      "Epoch [60/60], train_loss: 0.1522650752644986, train_accuracy: 0.2904269971748193, time: 10.209s\n"
     ]
    }
   ],
   "execution_count": 8
  },
  {
   "metadata": {
    "ExecuteTime": {
     "end_time": "2024-10-21T23:06:09.077304Z",
     "start_time": "2024-10-21T23:06:08.498274Z"
    }
   },
   "cell_type": "code",
   "source": "test(test_dataset, BATCH_SIZE, model, nn.MSELoss(), accuracy)",
   "id": "dfc37b04d4ae7fea",
   "outputs": [
    {
     "name": "stdout",
     "output_type": "stream",
     "text": [
      "Dataset size: 1318\n",
      "test_loss: 15.756175054946691, test_accuracy: 3.196338030655214, time: 0.575s\n"
     ]
    }
   ],
   "execution_count": 9
  },
  {
   "metadata": {
    "ExecuteTime": {
     "end_time": "2024-10-21T23:06:11.714891Z",
     "start_time": "2024-10-21T23:06:09.077304Z"
    }
   },
   "cell_type": "code",
   "source": "test(train_dataset, BATCH_SIZE, model, nn.MSELoss(), accuracy)",
   "id": "2bea0613ee7f39bc",
   "outputs": [
    {
     "name": "stdout",
     "output_type": "stream",
     "text": [
      "Dataset size: 6000\n",
      "test_loss: 4.827922497974088, test_accuracy: 1.577408754410843, time: 2.636s\n"
     ]
    }
   ],
   "execution_count": 10
  }
 ],
 "metadata": {
  "kernelspec": {
   "display_name": "Python 3",
   "language": "python",
   "name": "python3"
  },
  "language_info": {
   "codemirror_mode": {
    "name": "ipython",
    "version": 2
   },
   "file_extension": ".py",
   "mimetype": "text/x-python",
   "name": "python",
   "nbconvert_exporter": "python",
   "pygments_lexer": "ipython2",
   "version": "2.7.6"
  }
 },
 "nbformat": 4,
 "nbformat_minor": 5
}
