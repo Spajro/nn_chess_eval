{
 "cells": [
  {
   "metadata": {
    "ExecuteTime": {
     "end_time": "2024-11-10T17:24:11.839535Z",
     "start_time": "2024-11-10T17:24:11.836526Z"
    }
   },
   "cell_type": "code",
   "source": [
    "from random import shuffle\n",
    "\n",
    "from src.data_loading import load_data_from_file\n",
    "from src.data_loading import save_dataset_to_csv\n",
    "\n"
   ],
   "id": "b376c6af67e4858d",
   "outputs": [],
   "execution_count": 2
  },
  {
   "cell_type": "code",
   "id": "initial_id",
   "metadata": {
    "collapsed": true,
    "ExecuteTime": {
     "end_time": "2024-11-10T17:24:12.411566Z",
     "start_time": "2024-11-10T17:24:11.839535Z"
    }
   },
   "source": [
    "games_dataset=load_data_from_file(\"games_dataset.csv\")\n",
    "puzzle_dataset=load_data_from_file(\"puzzle_dataset.csv\")\n",
    "len(games_dataset),len(puzzle_dataset)"
   ],
   "outputs": [
    {
     "data": {
      "text/plain": [
       "(583544, 468403)"
      ]
     },
     "execution_count": 3,
     "metadata": {},
     "output_type": "execute_result"
    }
   ],
   "execution_count": 3
  },
  {
   "metadata": {
    "ExecuteTime": {
     "end_time": "2024-11-10T17:24:12.667685Z",
     "start_time": "2024-11-10T17:24:12.411566Z"
    }
   },
   "cell_type": "code",
   "source": [
    "shuffle(games_dataset)\n",
    "shuffle(puzzle_dataset)"
   ],
   "id": "e3c88cc2e0fc3c8c",
   "outputs": [],
   "execution_count": 4
  },
  {
   "metadata": {
    "ExecuteTime": {
     "end_time": "2024-11-10T17:24:12.671610Z",
     "start_time": "2024-11-10T17:24:12.668689Z"
    }
   },
   "cell_type": "code",
   "source": "TEST_SIZE=0.2",
   "id": "fde386531438dc11",
   "outputs": [],
   "execution_count": 5
  },
  {
   "metadata": {
    "ExecuteTime": {
     "end_time": "2024-11-10T17:24:12.686617Z",
     "start_time": "2024-11-10T17:24:12.672614Z"
    }
   },
   "cell_type": "code",
   "source": [
    "games_index=int((1-TEST_SIZE)*len(games_dataset))\n",
    "puzzle_index=int((1-TEST_SIZE)*len(puzzle_dataset))"
   ],
   "id": "8965e58d8f2d234",
   "outputs": [],
   "execution_count": 6
  },
  {
   "metadata": {
    "ExecuteTime": {
     "end_time": "2024-11-10T17:24:12.720364Z",
     "start_time": "2024-11-10T17:24:12.687621Z"
    }
   },
   "cell_type": "code",
   "source": [
    "train_dataset=games_dataset[:games_index]+puzzle_dataset[:puzzle_index]\n",
    "test_dataset=games_dataset[games_index:]+puzzle_dataset[puzzle_index:]\n",
    "len(train_dataset),len(test_dataset)"
   ],
   "id": "4257add3dbbe8da2",
   "outputs": [
    {
     "data": {
      "text/plain": [
       "(841557, 210390)"
      ]
     },
     "execution_count": 7,
     "metadata": {},
     "output_type": "execute_result"
    }
   ],
   "execution_count": 7
  },
  {
   "metadata": {
    "ExecuteTime": {
     "end_time": "2024-11-10T17:24:14.003130Z",
     "start_time": "2024-11-10T17:24:12.720364Z"
    }
   },
   "cell_type": "code",
   "source": [
    "save_dataset_to_csv(train_dataset, \"train_dataset.csv\")\n",
    "save_dataset_to_csv(test_dataset, \"test_dataset.csv\")"
   ],
   "id": "5d0c548082498611",
   "outputs": [],
   "execution_count": 8
  }
 ],
 "metadata": {
  "kernelspec": {
   "display_name": "Python 3",
   "language": "python",
   "name": "python3"
  },
  "language_info": {
   "codemirror_mode": {
    "name": "ipython",
    "version": 2
   },
   "file_extension": ".py",
   "mimetype": "text/x-python",
   "name": "python",
   "nbconvert_exporter": "python",
   "pygments_lexer": "ipython2",
   "version": "2.7.6"
  }
 },
 "nbformat": 4,
 "nbformat_minor": 5
}
