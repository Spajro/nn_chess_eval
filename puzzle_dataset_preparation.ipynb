{
 "cells": [
  {
   "metadata": {
    "ExecuteTime": {
     "end_time": "2024-11-05T00:47:33.137667Z",
     "start_time": "2024-11-05T00:47:33.094695Z"
    }
   },
   "cell_type": "code",
   "source": [
    "import chess\n",
    "import concurrent\n",
    "from src.data_loading import save_dataset_to_csv\n",
    "from src.raw_data_gather import gather\n",
    "from src.patches import PUZZLE_DATASET_PATCH, PUZZLE_PATCH, STOCKFISH_PATH\n",
    "from stockfish import Stockfish\n",
    "from concurrent.futures import ThreadPoolExecutor"
   ],
   "id": "ccf722dcf7ea1ab0",
   "outputs": [],
   "execution_count": 2
  },
  {
   "metadata": {},
   "cell_type": "markdown",
   "source": "Download data",
   "id": "51551be61dc1fafa"
  },
  {
   "metadata": {
    "ExecuteTime": {
     "end_time": "2024-11-05T00:47:33.140176Z",
     "start_time": "2024-11-05T00:47:33.137667Z"
    }
   },
   "cell_type": "code",
   "source": "gather(\"https://database.lichess.org\", \"lichess_db_puzzle.csv.zst\", PUZZLE_PATCH)",
   "id": "916a5d434196028b",
   "outputs": [],
   "execution_count": 3
  },
  {
   "metadata": {},
   "cell_type": "markdown",
   "source": "Load puzzles",
   "id": "ba99e44f495ed461"
  },
  {
   "metadata": {
    "ExecuteTime": {
     "end_time": "2024-11-05T00:47:33.145619Z",
     "start_time": "2024-11-05T00:47:33.140176Z"
    }
   },
   "cell_type": "code",
   "source": [
    "class Puzzle:\n",
    "    def __init__(self, row: str):\n",
    "        fields = row.split(',')\n",
    "        self.fen = fields[1]\n",
    "        self.moves = fields[2].split(\" \")\n",
    "        self.tags = fields[7].split(\" \")\n",
    "\n",
    "    def __str__(self):\n",
    "        return \"{fen: \" + self.fen + \" ,tags: [\" + \", \".join(self.tags) + \"],moves: [\" + \",\".join(self.moves) + \"]}\""
   ],
   "id": "efa5b28a3cc337f7",
   "outputs": [],
   "execution_count": 4
  },
  {
   "metadata": {
    "ExecuteTime": {
     "end_time": "2024-11-05T00:47:33.150945Z",
     "start_time": "2024-11-05T00:47:33.145619Z"
    }
   },
   "cell_type": "code",
   "source": [
    "def load(k: int) -> [Puzzle]:\n",
    "    f = open(PUZZLE_PATCH)\n",
    "    f.readline()\n",
    "    result = []\n",
    "    for i in range(k):\n",
    "        result.append(Puzzle(f.readline()))\n",
    "    f.close()\n",
    "    return result"
   ],
   "id": "d194767817a0e530",
   "outputs": [],
   "execution_count": 5
  },
  {
   "metadata": {},
   "cell_type": "markdown",
   "source": "Evaluate positions",
   "id": "d26d119093b4e965"
  },
  {
   "metadata": {
    "ExecuteTime": {
     "end_time": "2024-11-05T00:47:33.156379Z",
     "start_time": "2024-11-05T00:47:33.151949Z"
    }
   },
   "cell_type": "code",
   "source": [
    "def generate_positions_for_puzzle(puzzle: Puzzle) -> [(str, [str])]:\n",
    "    return [(puzzle.fen, puzzle.moves[:i]) for i in range(len(puzzle.moves) + 1)]"
   ],
   "id": "834bf1feddae18a8",
   "outputs": [],
   "execution_count": 6
  },
  {
   "metadata": {
    "ExecuteTime": {
     "end_time": "2024-11-05T00:47:33.163514Z",
     "start_time": "2024-11-05T00:47:33.156379Z"
    }
   },
   "cell_type": "code",
   "source": "generate_positions_for_puzzle(load(1)[0])",
   "id": "a4c03ad3ec659176",
   "outputs": [
    {
     "data": {
      "text/plain": [
       "[('r6k/pp2r2p/4Rp1Q/3p4/8/1N1P2R1/PqP2bPP/7K b - - 0 24', []),\n",
       " ('r6k/pp2r2p/4Rp1Q/3p4/8/1N1P2R1/PqP2bPP/7K b - - 0 24', ['f2g3']),\n",
       " ('r6k/pp2r2p/4Rp1Q/3p4/8/1N1P2R1/PqP2bPP/7K b - - 0 24', ['f2g3', 'e6e7']),\n",
       " ('r6k/pp2r2p/4Rp1Q/3p4/8/1N1P2R1/PqP2bPP/7K b - - 0 24',\n",
       "  ['f2g3', 'e6e7', 'b2b1']),\n",
       " ('r6k/pp2r2p/4Rp1Q/3p4/8/1N1P2R1/PqP2bPP/7K b - - 0 24',\n",
       "  ['f2g3', 'e6e7', 'b2b1', 'b3c1']),\n",
       " ('r6k/pp2r2p/4Rp1Q/3p4/8/1N1P2R1/PqP2bPP/7K b - - 0 24',\n",
       "  ['f2g3', 'e6e7', 'b2b1', 'b3c1', 'b1c1']),\n",
       " ('r6k/pp2r2p/4Rp1Q/3p4/8/1N1P2R1/PqP2bPP/7K b - - 0 24',\n",
       "  ['f2g3', 'e6e7', 'b2b1', 'b3c1', 'b1c1', 'h6c1'])]"
      ]
     },
     "execution_count": 7,
     "metadata": {},
     "output_type": "execute_result"
    }
   ],
   "execution_count": 7
  },
  {
   "metadata": {
    "ExecuteTime": {
     "end_time": "2024-11-05T00:47:33.166786Z",
     "start_time": "2024-11-05T00:47:33.163514Z"
    }
   },
   "cell_type": "code",
   "source": [
    "def generate_fen_for_position(position: (str, [str])) -> str:\n",
    "    board = chess.Board(position[0])\n",
    "    for move in position[1]:\n",
    "        board.push_uci(move)\n",
    "    if board.is_game_over():\n",
    "        return 'FINISHED'\n",
    "    return board.fen()"
   ],
   "id": "523526fee3ff13ca",
   "outputs": [],
   "execution_count": 8
  },
  {
   "metadata": {
    "ExecuteTime": {
     "end_time": "2024-11-05T00:47:33.173189Z",
     "start_time": "2024-11-05T00:47:33.166786Z"
    }
   },
   "cell_type": "code",
   "source": "generate_fen_for_position(generate_positions_for_puzzle(load(1)[0])[0])",
   "id": "ad1bbde3fe479dc3",
   "outputs": [
    {
     "data": {
      "text/plain": [
       "'r6k/pp2r2p/4Rp1Q/3p4/8/1N1P2R1/PqP2bPP/7K b - - 0 24'"
      ]
     },
     "execution_count": 9,
     "metadata": {},
     "output_type": "execute_result"
    }
   ],
   "execution_count": 9
  },
  {
   "metadata": {
    "ExecuteTime": {
     "end_time": "2024-11-05T00:47:33.177746Z",
     "start_time": "2024-11-05T00:47:33.173189Z"
    }
   },
   "cell_type": "code",
   "source": [
    "def puzzles_to_fens(puzzles: [Puzzle]) -> [str]:\n",
    "    return [generate_fen_for_position(position)\n",
    "            for puzzle in puzzles\n",
    "            for position in generate_positions_for_puzzle(puzzle)]"
   ],
   "id": "27552cc7bbf8e1e4",
   "outputs": [],
   "execution_count": 10
  },
  {
   "metadata": {
    "ExecuteTime": {
     "end_time": "2024-11-05T00:47:33.188003Z",
     "start_time": "2024-11-05T00:47:33.177746Z"
    }
   },
   "cell_type": "code",
   "source": "puzzles_to_fens(load(10))",
   "id": "18a4f92e8835b1e2",
   "outputs": [
    {
     "data": {
      "text/plain": [
       "['r6k/pp2r2p/4Rp1Q/3p4/8/1N1P2R1/PqP2bPP/7K b - - 0 24',\n",
       " 'r6k/pp2r2p/4Rp1Q/3p4/8/1N1P2b1/PqP3PP/7K w - - 0 25',\n",
       " 'r6k/pp2R2p/5p1Q/3p4/8/1N1P2b1/PqP3PP/7K b - - 0 25',\n",
       " 'r6k/pp2R2p/5p1Q/3p4/8/1N1P2b1/P1P3PP/1q5K w - - 1 26',\n",
       " 'r6k/pp2R2p/5p1Q/3p4/8/3P2b1/P1P3PP/1qN4K b - - 2 26',\n",
       " 'r6k/pp2R2p/5p1Q/3p4/8/3P2b1/P1P3PP/2q4K w - - 0 27',\n",
       " 'r6k/pp2R2p/5p2/3p4/8/3P2b1/P1P3PP/2Q4K b - - 0 27',\n",
       " '5rk1/1p3ppp/pq3b2/8/8/1P1Q1N2/P4PPP/3R2K1 w - - 2 27',\n",
       " '5rk1/1p3ppp/pq1Q1b2/8/8/1P3N2/P4PPP/3R2K1 b - - 3 27',\n",
       " '3r2k1/1p3ppp/pq1Q1b2/8/8/1P3N2/P4PPP/3R2K1 w - - 4 28',\n",
       " '3Q2k1/1p3ppp/pq3b2/8/8/1P3N2/P4PPP/3R2K1 b - - 0 28',\n",
       " '3b2k1/1p3ppp/pq6/8/8/1P3N2/P4PPP/3R2K1 w - - 0 29',\n",
       " '8/4R3/1p2P3/p4r2/P6p/1P3Pk1/4K3/8 w - - 1 64',\n",
       " '8/5R2/1p2P3/p4r2/P6p/1P3Pk1/4K3/8 b - - 2 64',\n",
       " '8/5R2/1p2P3/p3r3/P6p/1P3Pk1/4K3/8 w - - 3 65',\n",
       " '8/5R2/1p2P3/p3r3/P6p/1P3Pk1/8/5K2 b - - 4 65',\n",
       " '8/5R2/1p2r3/p7/P6p/1P3Pk1/8/5K2 w - - 0 66',\n",
       " 'r2qr1k1/b1p2ppp/pp4n1/P1P1p3/4P1n1/B2P2Pb/3NBP1P/RN1QR1K1 b - - 1 16',\n",
       " 'r2qr1k1/b1p2ppp/p5n1/P1p1p3/4P1n1/B2P2Pb/3NBP1P/RN1QR1K1 w - - 0 17',\n",
       " 'r2qr1k1/b1p2ppp/p5n1/P1p1p3/4P1B1/B2P2Pb/3N1P1P/RN1QR1K1 b - - 0 17',\n",
       " 'r2qr1k1/b1p2ppp/p5n1/P1p1p3/4P1b1/B2P2P1/3N1P1P/RN1QR1K1 w - - 0 18',\n",
       " 'r2qr1k1/b1p2ppp/p5n1/P1p1p3/4P1Q1/B2P2P1/3N1P1P/RN2R1K1 b - - 0 18',\n",
       " '8/8/4k1p1/2KpP2p/5PP1/8/8/8 w - - 0 53',\n",
       " '8/8/4k1p1/2KpP2P/5P2/8/8/8 b - - 0 53',\n",
       " '8/8/4k3/2KpP2p/5P2/8/8/8 w - - 0 54',\n",
       " '8/8/4k3/2KpPP1p/8/8/8/8 b - - 0 54',\n",
       " '8/8/8/2KpkP1p/8/8/8/8 w - - 0 55',\n",
       " '8/8/5P2/2Kpk2p/8/8/8/8 b - - 0 55',\n",
       " '8/8/5k2/2Kp3p/8/8/8/8 w - - 0 56',\n",
       " '4r3/1k6/pp3r2/1b2P2p/3R1p2/P1R2P2/1P4PP/6K1 w - - 0 35',\n",
       " '4r3/1k6/pp3P2/1b5p/3R1p2/P1R2P2/1P4PP/6K1 b - - 0 35',\n",
       " '8/1k6/pp3P2/1b5p/3R1p2/P1R2P2/1P4PP/4r1K1 w - - 1 36',\n",
       " '8/1k6/pp3P2/1b5p/3R1p2/P1R2P2/1P3KPP/4r3 b - - 2 36',\n",
       " 'FINISHED',\n",
       " 'r4rk1/pp3ppp/2n1b3/q1pp2B1/8/P1Q2NP1/1PP1PP1P/2KR3R w - - 0 15',\n",
       " 'r4rk1/pp2Bppp/2n1b3/q1pp4/8/P1Q2NP1/1PP1PP1P/2KR3R b - - 1 15',\n",
       " 'r4rk1/pp2Bppp/2n1b3/2pp4/8/P1q2NP1/1PP1PP1P/2KR3R w - - 0 16',\n",
       " 'r4rk1/pp2Bppp/2n1b3/2pp4/8/P1P2NP1/2P1PP1P/2KR3R b - - 0 16',\n",
       " 'r4rk1/pp2nppp/4b3/2pp4/8/P1P2NP1/2P1PP1P/2KR3R w - - 0 17',\n",
       " 'r1bqk2r/pp1nbNp1/2p1p2p/8/2BP4/1PN3P1/P3QP1P/3R1RK1 b kq - 0 19',\n",
       " 'r1bq3r/pp1nbkp1/2p1p2p/8/2BP4/1PN3P1/P3QP1P/3R1RK1 w - - 0 20',\n",
       " 'r1bq3r/pp1nbkp1/2p1Q2p/8/2BP4/1PN3P1/P4P1P/3R1RK1 b - - 0 20',\n",
       " 'r1bq1k1r/pp1nb1p1/2p1Q2p/8/2BP4/1PN3P1/P4P1P/3R1RK1 w - - 1 21',\n",
       " 'FINISHED',\n",
       " '3r3r/pQNk1ppp/1qnb1n2/1B6/8/8/PPP3PP/3R1R1K w - - 5 19',\n",
       " '3r3r/pQNk1ppp/1qnR1n2/1B6/8/8/PPP3PP/5R1K b - - 0 19',\n",
       " '3r3r/pQN2ppp/1qnk1n2/1B6/8/8/PPP3PP/5R1K w - - 0 20',\n",
       " '3r3r/p1N2ppp/1Qnk1n2/1B6/8/8/PPP3PP/5R1K b - - 0 20',\n",
       " '3r3r/2N2ppp/1pnk1n2/1B6/8/8/PPP3PP/5R1K w - - 0 21',\n",
       " '5r1k/5rp1/p7/1b2B2p/1P1P1Pq1/2R1Q3/P3p1P1/2R3K1 w - - 0 41',\n",
       " '5r1k/5rp1/p7/1b2B2p/1P1P1Pq1/2R3Q1/P3p1P1/2R3K1 b - - 1 41',\n",
       " '5r1k/6p1/p7/1b2B2p/1P1P1rq1/2R3Q1/P3p1P1/2R3K1 w - - 0 42',\n",
       " '5r1k/6p1/p7/1b5p/1P1P1Bq1/2R3Q1/P3p1P1/2R3K1 b - - 0 42',\n",
       " '7k/6p1/p7/1b5p/1P1P1rq1/2R3Q1/P3p1P1/2R3K1 w - - 0 43']"
      ]
     },
     "execution_count": 11,
     "metadata": {},
     "output_type": "execute_result"
    }
   ],
   "execution_count": 11
  },
  {
   "metadata": {
    "ExecuteTime": {
     "end_time": "2024-11-05T00:47:33.192612Z",
     "start_time": "2024-11-05T00:47:33.188003Z"
    }
   },
   "cell_type": "code",
   "source": [
    "def filter_finished_fens(fens: [str]) -> [str]:\n",
    "    return [f for f in fens if f != 'FINISHED']"
   ],
   "id": "88f2fa97eb40fa1c",
   "outputs": [],
   "execution_count": 12
  },
  {
   "metadata": {
    "ExecuteTime": {
     "end_time": "2024-11-05T00:47:33.197810Z",
     "start_time": "2024-11-05T00:47:33.192612Z"
    }
   },
   "cell_type": "code",
   "source": [
    "def evaluate_fen(fen: str, stockfish_path: str, ) -> dict:\n",
    "    stockfish = Stockfish(stockfish_path)\n",
    "    stockfish.set_fen_position(fen)\n",
    "    return stockfish.get_evaluation()"
   ],
   "id": "b1f2da0ff144122b",
   "outputs": [],
   "execution_count": 13
  },
  {
   "metadata": {
    "ExecuteTime": {
     "end_time": "2024-11-05T00:47:33.203073Z",
     "start_time": "2024-11-05T00:47:33.197810Z"
    }
   },
   "cell_type": "code",
   "source": [
    "def evaluate_fens(fens: [str], stockfish_path: str) -> [(str, dict)]:\n",
    "    with concurrent.futures.ThreadPoolExecutor(10) as executor:\n",
    "        futures = [(fen, executor.submit(evaluate_fen, fen, stockfish_path)) for fen in fens]\n",
    "    return [(f, e.result()) for f, e in futures]"
   ],
   "id": "25ba26d4c4768020",
   "outputs": [],
   "execution_count": 14
  },
  {
   "metadata": {},
   "cell_type": "markdown",
   "source": "Generate dataset with evaluated fens",
   "id": "dfb77d0dd9be9810"
  },
  {
   "metadata": {
    "ExecuteTime": {
     "end_time": "2024-11-05T00:47:33.208114Z",
     "start_time": "2024-11-05T00:47:33.203073Z"
    }
   },
   "cell_type": "code",
   "source": [
    "def generate_dataset(size, stockfish_path) -> [(str, float)]:\n",
    "    return [(f, e[\"value\"]) for f, e in\n",
    "            evaluate_fens(filter_finished_fens(puzzles_to_fens(load(size))), stockfish_path) if e[\"type\"] == \"cp\"]"
   ],
   "id": "d8fdcdddd1a1fa55",
   "outputs": [],
   "execution_count": 15
  },
  {
   "metadata": {
    "ExecuteTime": {
     "end_time": "2024-11-05T04:19:20.422619Z",
     "start_time": "2024-11-05T00:47:33.213456Z"
    }
   },
   "cell_type": "code",
   "source": [
    "SIZE = 10 ** 5\n",
    "dataset = generate_dataset(SIZE, STOCKFISH_PATH)\n",
    "print(\"Dataset size: \", len(dataset))"
   ],
   "id": "251970f80a306862",
   "outputs": [
    {
     "name": "stdout",
     "output_type": "stream",
     "text": [
      "Dataset size:  468403\n"
     ]
    }
   ],
   "execution_count": 17
  },
  {
   "metadata": {
    "ExecuteTime": {
     "end_time": "2024-11-05T04:19:20.812315Z",
     "start_time": "2024-11-05T04:19:20.424624Z"
    }
   },
   "cell_type": "code",
   "source": "save_dataset_to_csv(dataset, PUZZLE_DATASET_PATCH)",
   "id": "90addf62e7d94bcb",
   "outputs": [],
   "execution_count": 18
  }
 ],
 "metadata": {
  "kernelspec": {
   "display_name": "Python 3",
   "language": "python",
   "name": "python3"
  },
  "language_info": {
   "codemirror_mode": {
    "name": "ipython",
    "version": 2
   },
   "file_extension": ".py",
   "mimetype": "text/x-python",
   "name": "python",
   "nbconvert_exporter": "python",
   "pygments_lexer": "ipython2",
   "version": "2.7.6"
  }
 },
 "nbformat": 4,
 "nbformat_minor": 5
}
