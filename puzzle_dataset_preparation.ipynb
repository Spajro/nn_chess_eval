{
 "cells": [
  {
   "cell_type": "code",
   "id": "initial_id",
   "metadata": {
    "collapsed": true,
    "ExecuteTime": {
     "end_time": "2024-10-21T23:01:19.497359Z",
     "start_time": "2024-10-21T23:01:15.331071Z"
    }
   },
   "source": [
    "from raw_data_gather import gather\n",
    "!pip install zstandard\n",
    "!pip install stockfish\n",
    "!pip install chess"
   ],
   "outputs": [
    {
     "name": "stdout",
     "output_type": "stream",
     "text": [
      "Requirement already satisfied: zstandard in d:\\projekty\\nn_chess_eval\\.venv\\lib\\site-packages (0.23.0)\n"
     ]
    },
    {
     "name": "stderr",
     "output_type": "stream",
     "text": [
      "\n",
      "[notice] A new release of pip is available: 23.2.1 -> 24.2\n",
      "[notice] To update, run: python.exe -m pip install --upgrade pip\n"
     ]
    },
    {
     "name": "stdout",
     "output_type": "stream",
     "text": [
      "Requirement already satisfied: stockfish in d:\\projekty\\nn_chess_eval\\.venv\\lib\\site-packages (3.28.0)\n"
     ]
    },
    {
     "name": "stderr",
     "output_type": "stream",
     "text": [
      "\n",
      "[notice] A new release of pip is available: 23.2.1 -> 24.2\n",
      "[notice] To update, run: python.exe -m pip install --upgrade pip\n"
     ]
    },
    {
     "name": "stdout",
     "output_type": "stream",
     "text": [
      "Requirement already satisfied: chess in d:\\projekty\\nn_chess_eval\\.venv\\lib\\site-packages (1.10.0)\n"
     ]
    },
    {
     "name": "stderr",
     "output_type": "stream",
     "text": [
      "\n",
      "[notice] A new release of pip is available: 23.2.1 -> 24.2\n",
      "[notice] To update, run: python.exe -m pip install --upgrade pip\n"
     ]
    }
   ],
   "execution_count": 1
  },
  {
   "metadata": {
    "ExecuteTime": {
     "end_time": "2024-10-21T23:01:19.534020Z",
     "start_time": "2024-10-21T23:01:19.497870Z"
    }
   },
   "cell_type": "code",
   "source": [
    "import chess\n",
    "import concurrent\n",
    "import csv\n",
    "from stockfish import Stockfish\n",
    "from concurrent.futures import ThreadPoolExecutor"
   ],
   "id": "ccf722dcf7ea1ab0",
   "outputs": [],
   "execution_count": 2
  },
  {
   "metadata": {},
   "cell_type": "markdown",
   "source": "Download data",
   "id": "51551be61dc1fafa"
  },
  {
   "metadata": {
    "ExecuteTime": {
     "end_time": "2024-10-21T23:01:19.538033Z",
     "start_time": "2024-10-21T23:01:19.534020Z"
    }
   },
   "cell_type": "code",
   "source": "gather(\"https://database.lichess.org\",\"lichess_db_puzzle.csv.zst\",\"lichess_db_puzzle.csv\")",
   "id": "916a5d434196028b",
   "outputs": [],
   "execution_count": 3
  },
  {
   "metadata": {},
   "cell_type": "markdown",
   "source": "Load puzzles",
   "id": "ba99e44f495ed461"
  },
  {
   "metadata": {
    "ExecuteTime": {
     "end_time": "2024-10-21T23:01:19.548802Z",
     "start_time": "2024-10-21T23:01:19.544453Z"
    }
   },
   "cell_type": "code",
   "source": [
    "class Puzzle:\n",
    "    def __init__(self, row: str):\n",
    "        fields = row.split(',')\n",
    "        self.fen = fields[1]\n",
    "        self.moves = fields[2].split(\" \")\n",
    "        self.tags = fields[7].split(\" \")\n",
    "\n",
    "    def __str__(self):\n",
    "        return \"{fen: \" + self.fen + \" ,tags: [\" + \", \".join(self.tags) + \"],moves: [\" + \",\".join(self.moves) + \"]}\""
   ],
   "id": "efa5b28a3cc337f7",
   "outputs": [],
   "execution_count": 5
  },
  {
   "metadata": {
    "ExecuteTime": {
     "end_time": "2024-10-21T23:01:19.553942Z",
     "start_time": "2024-10-21T23:01:19.548802Z"
    }
   },
   "cell_type": "code",
   "source": [
    "def load(k: int) -> [Puzzle]:\n",
    "    f = open(\"lichess_db_puzzle.csv\")\n",
    "    f.readline()\n",
    "    result = []\n",
    "    for i in range(k):\n",
    "        result.append(Puzzle(f.readline()))\n",
    "    f.close()\n",
    "    return result"
   ],
   "id": "d194767817a0e530",
   "outputs": [],
   "execution_count": 6
  },
  {
   "metadata": {},
   "cell_type": "markdown",
   "source": "Evaluate positions",
   "id": "d26d119093b4e965"
  },
  {
   "metadata": {
    "ExecuteTime": {
     "end_time": "2024-10-21T23:01:19.559131Z",
     "start_time": "2024-10-21T23:01:19.553942Z"
    }
   },
   "cell_type": "code",
   "source": [
    "def generate_positions_for_puzzle(puzzle: Puzzle) -> [(str, [str])]:\n",
    "    return [(puzzle.fen, puzzle.moves[:i]) for i in range(len(puzzle.moves) + 1)]"
   ],
   "id": "834bf1feddae18a8",
   "outputs": [],
   "execution_count": 7
  },
  {
   "metadata": {
    "ExecuteTime": {
     "end_time": "2024-10-21T23:01:19.564271Z",
     "start_time": "2024-10-21T23:01:19.559131Z"
    }
   },
   "cell_type": "code",
   "source": [
    "def generate_fen_for_position(position: (str, [str])) -> str:\n",
    "    board = chess.Board(position[0])\n",
    "    for move in position[1]:\n",
    "        board.push_uci(move)\n",
    "    if board.is_game_over():\n",
    "        return 'FINISHED'\n",
    "    return board.fen()"
   ],
   "id": "523526fee3ff13ca",
   "outputs": [],
   "execution_count": 8
  },
  {
   "metadata": {
    "ExecuteTime": {
     "end_time": "2024-10-21T23:01:19.569680Z",
     "start_time": "2024-10-21T23:01:19.564271Z"
    }
   },
   "cell_type": "code",
   "source": [
    "def puzzles_to_fens(puzzles: [Puzzle]) -> [str]:\n",
    "    return [generate_fen_for_position(position)\n",
    "            for puzzle in puzzles\n",
    "            for position in generate_positions_for_puzzle(puzzle)]"
   ],
   "id": "27552cc7bbf8e1e4",
   "outputs": [],
   "execution_count": 9
  },
  {
   "metadata": {
    "ExecuteTime": {
     "end_time": "2024-10-21T23:01:19.574621Z",
     "start_time": "2024-10-21T23:01:19.569680Z"
    }
   },
   "cell_type": "code",
   "source": [
    "def filter_finished_fens(fens: [str]) -> [str]:\n",
    "    return [f for f in fens if f != 'FINISHED']"
   ],
   "id": "88f2fa97eb40fa1c",
   "outputs": [],
   "execution_count": 10
  },
  {
   "metadata": {
    "ExecuteTime": {
     "end_time": "2024-10-21T23:01:19.579818Z",
     "start_time": "2024-10-21T23:01:19.574621Z"
    }
   },
   "cell_type": "code",
   "source": [
    "def evaluate_fen(fen: str, stockfish_path: str, ) -> str:\n",
    "    stockfish = Stockfish(stockfish_path)\n",
    "    stockfish.set_fen_position(fen)\n",
    "    return stockfish.get_evaluation()"
   ],
   "id": "b1f2da0ff144122b",
   "outputs": [],
   "execution_count": 11
  },
  {
   "metadata": {
    "ExecuteTime": {
     "end_time": "2024-10-21T23:01:19.585363Z",
     "start_time": "2024-10-21T23:01:19.579818Z"
    }
   },
   "cell_type": "code",
   "source": [
    "def evaluate_fens(fens: [str], stockfish_path: str) -> [(str, dict)]:\n",
    "    with concurrent.futures.ThreadPoolExecutor(10) as executor:\n",
    "        futures = [(fen, executor.submit(evaluate_fen, fen, stockfish_path)) for fen in fens]\n",
    "    return [(f, e.result()) for f, e in futures]"
   ],
   "id": "25ba26d4c4768020",
   "outputs": [],
   "execution_count": 12
  },
  {
   "metadata": {},
   "cell_type": "markdown",
   "source": "Generate dataset with evaluated fens",
   "id": "dfb77d0dd9be9810"
  },
  {
   "metadata": {
    "ExecuteTime": {
     "end_time": "2024-10-21T23:01:19.590559Z",
     "start_time": "2024-10-21T23:01:19.585363Z"
    }
   },
   "cell_type": "code",
   "source": [
    "MATE_VALUE = 10 ** 7\n",
    "\n",
    "\n",
    "def map_evaluation_to_value(evaluation) -> float | str:\n",
    "    match evaluation[\"type\"]:\n",
    "        case \"cp\":\n",
    "            return evaluation[\"value\"]\n",
    "        case \"mate\":\n",
    "            return \"MATE\""
   ],
   "id": "ab4f9e3e9df2c76e",
   "outputs": [],
   "execution_count": 13
  },
  {
   "metadata": {
    "ExecuteTime": {
     "end_time": "2024-10-21T23:01:19.595955Z",
     "start_time": "2024-10-21T23:01:19.591563Z"
    }
   },
   "cell_type": "code",
   "source": [
    "def generate_dataset(size, stockfish_path) -> [(str, float)]:\n",
    "    return [(f, map_evaluation_to_value(e)) for f, e in\n",
    "            evaluate_fens(filter_finished_fens(puzzles_to_fens(load(size))), stockfish_path) if e != \"MATE\"]"
   ],
   "id": "d8fdcdddd1a1fa55",
   "outputs": [],
   "execution_count": 14
  },
  {
   "metadata": {
    "ExecuteTime": {
     "end_time": "2024-10-21T23:01:19.600931Z",
     "start_time": "2024-10-21T23:01:19.595955Z"
    }
   },
   "cell_type": "code",
   "source": [
    "def save_dataset_to_csv(dataset, filename):\n",
    "    with open(filename, 'w', newline='') as file:\n",
    "        writer = csv.writer(file)\n",
    "        writer.writerows(dataset)"
   ],
   "id": "12170acdd983ca5b",
   "outputs": [],
   "execution_count": 15
  },
  {
   "metadata": {
    "ExecuteTime": {
     "end_time": "2024-10-21T23:01:28.667004Z",
     "start_time": "2024-10-21T23:01:19.600931Z"
    }
   },
   "cell_type": "code",
   "source": [
    "SIZE = 10 ** 5\n",
    "STOCKFISH_PATH = \"D:\\\\Programy\\\\stockfish\\\\stockfish-windows-x86-64-avx2.exe\"\n",
    "dataset = generate_dataset(SIZE, STOCKFISH_PATH)\n",
    "print(\"Dataset size: \", len(dataset))"
   ],
   "id": "251970f80a306862",
   "outputs": [
    {
     "ename": "KeyboardInterrupt",
     "evalue": "",
     "output_type": "error",
     "traceback": [
      "\u001B[1;31m---------------------------------------------------------------------------\u001B[0m",
      "\u001B[1;31mKeyboardInterrupt\u001B[0m                         Traceback (most recent call last)",
      "Cell \u001B[1;32mIn[16], line 3\u001B[0m\n\u001B[0;32m      1\u001B[0m SIZE \u001B[38;5;241m=\u001B[39m \u001B[38;5;241m10\u001B[39m \u001B[38;5;241m*\u001B[39m\u001B[38;5;241m*\u001B[39m \u001B[38;5;241m5\u001B[39m\n\u001B[0;32m      2\u001B[0m STOCKFISH_PATH \u001B[38;5;241m=\u001B[39m \u001B[38;5;124m\"\u001B[39m\u001B[38;5;124mD:\u001B[39m\u001B[38;5;130;01m\\\\\u001B[39;00m\u001B[38;5;124mProgramy\u001B[39m\u001B[38;5;130;01m\\\\\u001B[39;00m\u001B[38;5;124mstockfish\u001B[39m\u001B[38;5;130;01m\\\\\u001B[39;00m\u001B[38;5;124mstockfish-windows-x86-64-avx2.exe\u001B[39m\u001B[38;5;124m\"\u001B[39m\n\u001B[1;32m----> 3\u001B[0m dataset \u001B[38;5;241m=\u001B[39m \u001B[43mgenerate_dataset\u001B[49m\u001B[43m(\u001B[49m\u001B[43mSIZE\u001B[49m\u001B[43m,\u001B[49m\u001B[43m \u001B[49m\u001B[43mSTOCKFISH_PATH\u001B[49m\u001B[43m)\u001B[49m\n\u001B[0;32m      4\u001B[0m \u001B[38;5;28mprint\u001B[39m(\u001B[38;5;124m\"\u001B[39m\u001B[38;5;124mDataset size: \u001B[39m\u001B[38;5;124m\"\u001B[39m, \u001B[38;5;28mlen\u001B[39m(dataset))\n",
      "Cell \u001B[1;32mIn[14], line 3\u001B[0m, in \u001B[0;36mgenerate_dataset\u001B[1;34m(size, stockfish_path)\u001B[0m\n\u001B[0;32m      1\u001B[0m \u001B[38;5;28;01mdef\u001B[39;00m \u001B[38;5;21mgenerate_dataset\u001B[39m(size, stockfish_path) \u001B[38;5;241m-\u001B[39m\u001B[38;5;241m>\u001B[39m [(\u001B[38;5;28mstr\u001B[39m, \u001B[38;5;28mfloat\u001B[39m)]:\n\u001B[0;32m      2\u001B[0m     \u001B[38;5;28;01mreturn\u001B[39;00m [(f, map_evaluation_to_value(e)) \u001B[38;5;28;01mfor\u001B[39;00m f, e \u001B[38;5;129;01min\u001B[39;00m\n\u001B[1;32m----> 3\u001B[0m             evaluate_fens(filter_finished_fens(\u001B[43mpuzzles_to_fens\u001B[49m\u001B[43m(\u001B[49m\u001B[43mload\u001B[49m\u001B[43m(\u001B[49m\u001B[43msize\u001B[49m\u001B[43m)\u001B[49m\u001B[43m)\u001B[49m), stockfish_path) \u001B[38;5;28;01mif\u001B[39;00m e \u001B[38;5;241m!=\u001B[39m \u001B[38;5;124m\"\u001B[39m\u001B[38;5;124mMATE\u001B[39m\u001B[38;5;124m\"\u001B[39m]\n",
      "Cell \u001B[1;32mIn[9], line 2\u001B[0m, in \u001B[0;36mpuzzles_to_fens\u001B[1;34m(puzzles)\u001B[0m\n\u001B[0;32m      1\u001B[0m \u001B[38;5;28;01mdef\u001B[39;00m \u001B[38;5;21mpuzzles_to_fens\u001B[39m(puzzles: [Puzzle]) \u001B[38;5;241m-\u001B[39m\u001B[38;5;241m>\u001B[39m [\u001B[38;5;28mstr\u001B[39m]:\n\u001B[1;32m----> 2\u001B[0m     \u001B[38;5;28;01mreturn\u001B[39;00m [\u001B[43mgenerate_fen_for_position\u001B[49m\u001B[43m(\u001B[49m\u001B[43mposition\u001B[49m\u001B[43m)\u001B[49m\n\u001B[0;32m      3\u001B[0m             \u001B[38;5;28;01mfor\u001B[39;00m puzzle \u001B[38;5;129;01min\u001B[39;00m puzzles\n\u001B[0;32m      4\u001B[0m             \u001B[38;5;28;01mfor\u001B[39;00m position \u001B[38;5;129;01min\u001B[39;00m generate_positions_for_puzzle(puzzle)]\n",
      "Cell \u001B[1;32mIn[8], line 4\u001B[0m, in \u001B[0;36mgenerate_fen_for_position\u001B[1;34m(position)\u001B[0m\n\u001B[0;32m      2\u001B[0m board \u001B[38;5;241m=\u001B[39m chess\u001B[38;5;241m.\u001B[39mBoard(position[\u001B[38;5;241m0\u001B[39m])\n\u001B[0;32m      3\u001B[0m \u001B[38;5;28;01mfor\u001B[39;00m move \u001B[38;5;129;01min\u001B[39;00m position[\u001B[38;5;241m1\u001B[39m]:\n\u001B[1;32m----> 4\u001B[0m     board\u001B[38;5;241m.\u001B[39mpush_uci(move)\n\u001B[0;32m      5\u001B[0m \u001B[38;5;28;01mif\u001B[39;00m board\u001B[38;5;241m.\u001B[39mis_game_over():\n\u001B[0;32m      6\u001B[0m     \u001B[38;5;28;01mreturn\u001B[39;00m \u001B[38;5;124m'\u001B[39m\u001B[38;5;124mFINISHED\u001B[39m\u001B[38;5;124m'\u001B[39m\n",
      "\u001B[1;31mKeyboardInterrupt\u001B[0m: "
     ]
    }
   ],
   "execution_count": 16
  },
  {
   "metadata": {},
   "cell_type": "code",
   "source": "save_dataset_to_csv(dataset, \"puzzle_dataset.csv\")",
   "id": "90addf62e7d94bcb",
   "outputs": [],
   "execution_count": null
  }
 ],
 "metadata": {
  "kernelspec": {
   "display_name": "Python 3",
   "language": "python",
   "name": "python3"
  },
  "language_info": {
   "codemirror_mode": {
    "name": "ipython",
    "version": 2
   },
   "file_extension": ".py",
   "mimetype": "text/x-python",
   "name": "python",
   "nbconvert_exporter": "python",
   "pygments_lexer": "ipython2",
   "version": "2.7.6"
  }
 },
 "nbformat": 4,
 "nbformat_minor": 5
}
