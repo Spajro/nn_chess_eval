{
 "cells": [
  {
   "cell_type": "code",
   "id": "initial_id",
   "metadata": {
    "collapsed": true,
    "ExecuteTime": {
     "end_time": "2024-10-22T22:50:41.661789Z",
     "start_time": "2024-10-22T22:50:38.367344Z"
    }
   },
   "source": [
    "from raw_data_gather import gather\n",
    "!pip install zstandard\n",
    "!pip install stockfish\n",
    "!pip install chess"
   ],
   "outputs": [
    {
     "name": "stdout",
     "output_type": "stream",
     "text": [
      "Requirement already satisfied: zstandard in d:\\projekty\\nn_chess_eval\\.venv\\lib\\site-packages (0.23.0)\n"
     ]
    },
    {
     "name": "stderr",
     "output_type": "stream",
     "text": [
      "\n",
      "[notice] A new release of pip is available: 23.2.1 -> 24.2\n",
      "[notice] To update, run: python.exe -m pip install --upgrade pip\n"
     ]
    },
    {
     "name": "stdout",
     "output_type": "stream",
     "text": [
      "Requirement already satisfied: stockfish in d:\\projekty\\nn_chess_eval\\.venv\\lib\\site-packages (3.28.0)\n"
     ]
    },
    {
     "name": "stderr",
     "output_type": "stream",
     "text": [
      "\n",
      "[notice] A new release of pip is available: 23.2.1 -> 24.2\n",
      "[notice] To update, run: python.exe -m pip install --upgrade pip\n"
     ]
    },
    {
     "name": "stdout",
     "output_type": "stream",
     "text": [
      "Requirement already satisfied: chess in d:\\projekty\\nn_chess_eval\\.venv\\lib\\site-packages (1.10.0)\n"
     ]
    },
    {
     "name": "stderr",
     "output_type": "stream",
     "text": [
      "\n",
      "[notice] A new release of pip is available: 23.2.1 -> 24.2\n",
      "[notice] To update, run: python.exe -m pip install --upgrade pip\n"
     ]
    }
   ],
   "execution_count": 1
  },
  {
   "metadata": {
    "ExecuteTime": {
     "end_time": "2024-10-22T22:50:41.701702Z",
     "start_time": "2024-10-22T22:50:41.661789Z"
    }
   },
   "cell_type": "code",
   "source": [
    "import chess\n",
    "import concurrent\n",
    "import csv\n",
    "from stockfish import Stockfish\n",
    "from concurrent.futures import ThreadPoolExecutor"
   ],
   "id": "ccf722dcf7ea1ab0",
   "outputs": [],
   "execution_count": 2
  },
  {
   "metadata": {},
   "cell_type": "markdown",
   "source": "Download data",
   "id": "51551be61dc1fafa"
  },
  {
   "metadata": {
    "ExecuteTime": {
     "end_time": "2024-10-22T22:50:41.704353Z",
     "start_time": "2024-10-22T22:50:41.701702Z"
    }
   },
   "cell_type": "code",
   "source": "gather(\"https://database.lichess.org\",\"lichess_db_puzzle.csv.zst\",\"lichess_db_puzzle.csv\")",
   "id": "916a5d434196028b",
   "outputs": [],
   "execution_count": 3
  },
  {
   "metadata": {},
   "cell_type": "markdown",
   "source": "Load puzzles",
   "id": "ba99e44f495ed461"
  },
  {
   "metadata": {
    "ExecuteTime": {
     "end_time": "2024-10-22T22:50:41.709951Z",
     "start_time": "2024-10-22T22:50:41.704353Z"
    }
   },
   "cell_type": "code",
   "source": [
    "class Puzzle:\n",
    "    def __init__(self, row: str):\n",
    "        fields = row.split(',')\n",
    "        self.fen = fields[1]\n",
    "        self.moves = fields[2].split(\" \")\n",
    "        self.tags = fields[7].split(\" \")\n",
    "\n",
    "    def __str__(self):\n",
    "        return \"{fen: \" + self.fen + \" ,tags: [\" + \", \".join(self.tags) + \"],moves: [\" + \",\".join(self.moves) + \"]}\""
   ],
   "id": "efa5b28a3cc337f7",
   "outputs": [],
   "execution_count": 4
  },
  {
   "metadata": {
    "ExecuteTime": {
     "end_time": "2024-10-22T22:50:41.714994Z",
     "start_time": "2024-10-22T22:50:41.709951Z"
    }
   },
   "cell_type": "code",
   "source": [
    "def load(k: int) -> [Puzzle]:\n",
    "    f = open(\"lichess_db_puzzle.csv\")\n",
    "    f.readline()\n",
    "    result = []\n",
    "    for i in range(k):\n",
    "        result.append(Puzzle(f.readline()))\n",
    "    f.close()\n",
    "    return result"
   ],
   "id": "d194767817a0e530",
   "outputs": [],
   "execution_count": 5
  },
  {
   "metadata": {},
   "cell_type": "markdown",
   "source": "Evaluate positions",
   "id": "d26d119093b4e965"
  },
  {
   "metadata": {
    "ExecuteTime": {
     "end_time": "2024-10-22T22:50:41.719895Z",
     "start_time": "2024-10-22T22:50:41.714994Z"
    }
   },
   "cell_type": "code",
   "source": [
    "def generate_positions_for_puzzle(puzzle: Puzzle) -> [(str, [str])]:\n",
    "    return [(puzzle.fen, puzzle.moves[:i]) for i in range(len(puzzle.moves) + 1)]"
   ],
   "id": "834bf1feddae18a8",
   "outputs": [],
   "execution_count": 6
  },
  {
   "metadata": {
    "ExecuteTime": {
     "end_time": "2024-10-22T22:50:41.724865Z",
     "start_time": "2024-10-22T22:50:41.719895Z"
    }
   },
   "cell_type": "code",
   "source": [
    "def generate_fen_for_position(position: (str, [str])) -> str:\n",
    "    board = chess.Board(position[0])\n",
    "    for move in position[1]:\n",
    "        board.push_uci(move)\n",
    "    if board.is_game_over():\n",
    "        return 'FINISHED'\n",
    "    return board.fen()"
   ],
   "id": "523526fee3ff13ca",
   "outputs": [],
   "execution_count": 7
  },
  {
   "metadata": {
    "ExecuteTime": {
     "end_time": "2024-10-22T22:50:41.729881Z",
     "start_time": "2024-10-22T22:50:41.724865Z"
    }
   },
   "cell_type": "code",
   "source": [
    "def puzzles_to_fens(puzzles: [Puzzle]) -> [str]:\n",
    "    return [generate_fen_for_position(position)\n",
    "            for puzzle in puzzles\n",
    "            for position in generate_positions_for_puzzle(puzzle)]"
   ],
   "id": "27552cc7bbf8e1e4",
   "outputs": [],
   "execution_count": 8
  },
  {
   "metadata": {
    "ExecuteTime": {
     "end_time": "2024-10-22T22:50:41.735067Z",
     "start_time": "2024-10-22T22:50:41.729881Z"
    }
   },
   "cell_type": "code",
   "source": [
    "def filter_finished_fens(fens: [str]) -> [str]:\n",
    "    return [f for f in fens if f != 'FINISHED']"
   ],
   "id": "88f2fa97eb40fa1c",
   "outputs": [],
   "execution_count": 9
  },
  {
   "metadata": {
    "ExecuteTime": {
     "end_time": "2024-10-22T22:50:41.740686Z",
     "start_time": "2024-10-22T22:50:41.735067Z"
    }
   },
   "cell_type": "code",
   "source": [
    "def evaluate_fen(fen: str, stockfish_path: str, ) -> str:\n",
    "    stockfish = Stockfish(stockfish_path)\n",
    "    stockfish.set_fen_position(fen)\n",
    "    return stockfish.get_evaluation()"
   ],
   "id": "b1f2da0ff144122b",
   "outputs": [],
   "execution_count": 10
  },
  {
   "metadata": {
    "ExecuteTime": {
     "end_time": "2024-10-22T22:50:41.745888Z",
     "start_time": "2024-10-22T22:50:41.740686Z"
    }
   },
   "cell_type": "code",
   "source": [
    "def evaluate_fens(fens: [str], stockfish_path: str) -> [(str, dict)]:\n",
    "    with concurrent.futures.ThreadPoolExecutor(10) as executor:\n",
    "        futures = [(fen, executor.submit(evaluate_fen, fen, stockfish_path)) for fen in fens]\n",
    "    return [(f, e.result()) for f, e in futures]"
   ],
   "id": "25ba26d4c4768020",
   "outputs": [],
   "execution_count": 11
  },
  {
   "metadata": {},
   "cell_type": "markdown",
   "source": "Generate dataset with evaluated fens",
   "id": "dfb77d0dd9be9810"
  },
  {
   "metadata": {
    "ExecuteTime": {
     "end_time": "2024-10-22T22:50:41.756329Z",
     "start_time": "2024-10-22T22:50:41.751003Z"
    }
   },
   "cell_type": "code",
   "source": [
    "def generate_dataset(size, stockfish_path) -> [(str, float)]:\n",
    "    return [(f, e[\"value\"]) for f, e in\n",
    "            evaluate_fens(games_to_unique_fens(load(size)), stockfish_path) if e[\"type\"]==\"cp\"]"
   ],
   "id": "d8fdcdddd1a1fa55",
   "outputs": [],
   "execution_count": 13
  },
  {
   "metadata": {
    "ExecuteTime": {
     "end_time": "2024-10-22T22:50:41.761385Z",
     "start_time": "2024-10-22T22:50:41.757332Z"
    }
   },
   "cell_type": "code",
   "source": [
    "def save_dataset_to_csv(dataset, filename):\n",
    "    with open(filename, 'w', newline='') as file:\n",
    "        writer = csv.writer(file)\n",
    "        writer.writerows(dataset)"
   ],
   "id": "12170acdd983ca5b",
   "outputs": [],
   "execution_count": 14
  },
  {
   "metadata": {
    "jupyter": {
     "is_executing": true
    },
    "ExecuteTime": {
     "start_time": "2024-10-22T22:50:41.761385Z"
    }
   },
   "cell_type": "code",
   "source": [
    "SIZE = 4*(10 ** 5)\n",
    "STOCKFISH_PATH = \"D:\\\\Programy\\\\stockfish\\\\stockfish-windows-x86-64-avx2.exe\"\n",
    "dataset = generate_dataset(SIZE, STOCKFISH_PATH)\n",
    "print(\"Dataset size: \", len(dataset))"
   ],
   "id": "251970f80a306862",
   "outputs": [],
   "execution_count": null
  },
  {
   "metadata": {
    "jupyter": {
     "is_executing": true
    }
   },
   "cell_type": "code",
   "source": "save_dataset_to_csv(dataset, \"puzzle_dataset.csv\")",
   "id": "90addf62e7d94bcb",
   "outputs": [],
   "execution_count": null
  }
 ],
 "metadata": {
  "kernelspec": {
   "display_name": "Python 3",
   "language": "python",
   "name": "python3"
  },
  "language_info": {
   "codemirror_mode": {
    "name": "ipython",
    "version": 2
   },
   "file_extension": ".py",
   "mimetype": "text/x-python",
   "name": "python",
   "nbconvert_exporter": "python",
   "pygments_lexer": "ipython2",
   "version": "2.7.6"
  }
 },
 "nbformat": 4,
 "nbformat_minor": 5
}
