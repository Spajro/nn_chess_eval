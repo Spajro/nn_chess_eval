{
 "cells": [
  {
   "cell_type": "code",
   "id": "initial_id",
   "metadata": {
    "collapsed": true,
    "ExecuteTime": {
     "end_time": "2024-11-16T10:27:35.158767Z",
     "start_time": "2024-11-16T10:27:32.271875Z"
    }
   },
   "source": [
    "import torch\n",
    "from torch import nn\n",
    "\n",
    "from src.data_loading import wdl_to_cp\n",
    "from src.data_loading_1d import Dataset1D\n",
    "\n",
    "from src.core import train, test"
   ],
   "outputs": [],
   "execution_count": 1
  },
  {
   "metadata": {
    "ExecuteTime": {
     "end_time": "2024-11-16T10:27:35.162216Z",
     "start_time": "2024-11-16T10:27:35.158767Z"
    }
   },
   "cell_type": "code",
   "source": "BATCH_SIZE = 64",
   "id": "c4e57db20592e918",
   "outputs": [],
   "execution_count": 2
  },
  {
   "metadata": {
    "ExecuteTime": {
     "end_time": "2024-11-16T10:29:49.355232Z",
     "start_time": "2024-11-16T10:27:35.162216Z"
    }
   },
   "cell_type": "code",
   "source": [
    "from src.patches import TRAIN_DATASET_PATCH, TEST_DATASET_PATCH\n",
    "\n",
    "train_dataset = Dataset1D(TRAIN_DATASET_PATCH, BATCH_SIZE)\n",
    "test_dataset = Dataset1D(TEST_DATASET_PATCH, BATCH_SIZE)\n",
    "len(train_dataset), len(test_dataset)"
   ],
   "id": "8e97fb789fb2cd08",
   "outputs": [
    {
     "data": {
      "text/plain": [
       "(13149, 3287)"
      ]
     },
     "execution_count": 3,
     "metadata": {},
     "output_type": "execute_result"
    }
   ],
   "execution_count": 3
  },
  {
   "metadata": {
    "ExecuteTime": {
     "end_time": "2024-11-16T10:29:49.359236Z",
     "start_time": "2024-11-16T10:29:49.356237Z"
    }
   },
   "cell_type": "code",
   "source": [
    "def accuracy(out, truth):\n",
    "    return wdl_to_cp(torch.abs(truth - out))"
   ],
   "id": "86644199c105ea3e",
   "outputs": [],
   "execution_count": 4
  },
  {
   "metadata": {
    "ExecuteTime": {
     "end_time": "2024-11-16T10:29:49.392920Z",
     "start_time": "2024-11-16T10:29:49.360243Z"
    }
   },
   "cell_type": "code",
   "source": [
    "x0 = 768\n",
    "x1 = 2 ** 12\n",
    "x2 = 2 ** 7\n",
    "x3 = 2 ** 4\n",
    "\n",
    "\n",
    "class Model(nn.Module):\n",
    "    def __init__(self):\n",
    "        super(Model, self).__init__()\n",
    "        self.layer1 = nn.Linear(x0, x1)\n",
    "        self.layer2 = nn.Linear(x1, x2)\n",
    "        self.layer3 = nn.Linear(x2, x3)\n",
    "        self.layer4 = nn.Linear(x3, 1)\n",
    "        self.classifier = nn.Sequential(self.layer1,\n",
    "                                        nn.ReLU(),\n",
    "                                        self.layer2,\n",
    "                                        nn.ReLU(),\n",
    "                                        self.layer3,\n",
    "                                        nn.ReLU(),\n",
    "                                        self.layer4)\n",
    "\n",
    "    def forward(self, X):\n",
    "        return self.classifier.forward(X)\n",
    "\n",
    "\n",
    "model = Model()"
   ],
   "id": "40d5321f8631f8a8",
   "outputs": [],
   "execution_count": 5
  },
  {
   "metadata": {
    "ExecuteTime": {
     "end_time": "2024-11-16T10:29:50.522848Z",
     "start_time": "2024-11-16T10:29:49.392920Z"
    }
   },
   "cell_type": "code",
   "source": "test(test_dataset, model, nn.MSELoss(), accuracy)",
   "id": "ecd672809ad3ad77",
   "outputs": [
    {
     "name": "stdout",
     "output_type": "stream",
     "text": [
      "Dataset size: 3287\n",
      "test_loss: 0.7354396714205288, test_accuracy: 289.0905156891361, time: 1.118s\n"
     ]
    }
   ],
   "execution_count": 6
  },
  {
   "metadata": {
    "ExecuteTime": {
     "end_time": "2024-11-16T10:29:53.706021Z",
     "start_time": "2024-11-16T10:29:50.522848Z"
    }
   },
   "cell_type": "code",
   "source": "test(train_dataset, model, nn.MSELoss(), accuracy)",
   "id": "be061743cbf7cad4",
   "outputs": [
    {
     "name": "stdout",
     "output_type": "stream",
     "text": [
      "Dataset size: 13149\n",
      "test_loss: 0.735663146340391, test_accuracy: 289.3062527217251, time: 3.18s\n"
     ]
    }
   ],
   "execution_count": 7
  },
  {
   "metadata": {
    "ExecuteTime": {
     "end_time": "2024-11-16T10:49:11.260463Z",
     "start_time": "2024-11-16T10:29:53.706021Z"
    }
   },
   "cell_type": "code",
   "source": [
    "train(train_dataset,\n",
    "      test_dataset,\n",
    "      model,\n",
    "      nn.MSELoss(),\n",
    "      torch.optim.SGD(model.classifier.parameters(), lr=0.001),\n",
    "      accuracy,\n",
    "      300)"
   ],
   "id": "86e2b6dcc72b0656",
   "outputs": [
    {
     "name": "stdout",
     "output_type": "stream",
     "text": [
      "Dataset size: 13149\n",
      "Epoch [1/300],  train: 0.73095,288.0    val: 0.72624, 287.0  test: 0.72596,286.7,  time: 15.691s\n",
      "Epoch [2/300],  train: 0.71511,284.7    val: 0.70567, 283.0  test: 0.70590,282.7,  time: 15.408s\n",
      "Epoch [3/300],  train: 0.68958,280.1    val: 0.68972, 279.7  test: 0.69039,279.7,  time: 15.171s\n",
      "Epoch [4/300],  train: 0.65579,272.5    val: 0.67064, 276.2  test: 0.67235,276.4,  time: 14.49s\n",
      "Epoch [5/300],  train: 0.60783,260.7    val: 0.64975, 271.2  test: 0.65304,272.0,  time: 14.324s\n",
      "Epoch [6/300],  train: 0.55599,247.2    val: 0.62042, 264.4  test: 0.62557,265.6,  time: 14.204s\n",
      "Epoch [7/300],  train: 0.50892,234.5    val: 0.59051, 258.0  test: 0.59833,259.8,  time: 14.739s\n",
      "Epoch [8/300],  train: 0.47688,225.3    val: 0.57111, 253.3  test: 0.58177,255.8,  time: 14.423s\n",
      "Epoch [9/300],  train: 0.45843,219.8    val: 0.55743, 250.0  test: 0.57092,253.1,  time: 14.071s\n",
      "Epoch [10/300],  train: 0.44486,215.7    val: 0.54574, 247.0  test: 0.56222,250.9,  time: 13.183s\n",
      "Epoch [11/300],  train: 0.43280,212.1    val: 0.53501, 244.3  test: 0.55457,248.9,  time: 13.588s\n",
      "Epoch [12/300],  train: 0.42082,209.0    val: 0.52835, 242.8  test: 0.55000,247.8,  time: 12.609s\n",
      "Epoch [13/300],  train: 0.40951,205.7    val: 0.51786, 240.0  test: 0.54285,245.9,  time: 12.648s\n",
      "Epoch [14/300],  train: 0.39875,202.6    val: 0.50892, 237.8  test: 0.53716,244.3,  time: 12.598s\n",
      "Epoch [15/300],  train: 0.38822,199.6    val: 0.49820, 234.9  test: 0.53023,242.4,  time: 12.36s\n",
      "Epoch [16/300],  train: 0.37704,196.2    val: 0.48847, 232.3  test: 0.52423,240.6,  time: 12.221s\n",
      "Epoch [17/300],  train: 0.36593,192.7    val: 0.47684, 229.0  test: 0.51740,238.6,  time: 12.234s\n",
      "Epoch [18/300],  train: 0.35512,189.3    val: 0.46686, 226.2  test: 0.51241,237.0,  time: 12.263s\n",
      "Epoch [19/300],  train: 0.34464,186.0    val: 0.45694, 223.4  test: 0.50750,235.4,  time: 12.365s\n",
      "Epoch [20/300],  train: 0.33399,182.4    val: 0.44995, 221.3  test: 0.50567,234.5,  time: 15.507s\n",
      "Epoch [21/300],  train: 0.32419,179.3    val: 0.43739, 217.5  test: 0.49934,232.3,  time: 12.336s\n",
      "Epoch [22/300],  train: 0.31460,176.5    val: 0.42680, 214.3  test: 0.49478,230.7,  time: 12.369s\n",
      "Epoch [23/300],  train: 0.30501,173.5    val: 0.41520, 210.8  test: 0.48954,228.9,  time: 16.682s\n",
      "Epoch [24/300],  train: 0.29558,170.6    val: 0.40379, 207.4  test: 0.48447,227.2,  time: 15.931s\n",
      "Epoch [25/300],  train: 0.28656,167.8    val: 0.39377, 204.4  test: 0.48065,225.8,  time: 16.304s\n",
      "Epoch [26/300],  train: 0.27764,165.0    val: 0.38456, 201.7  test: 0.47763,224.8,  time: 16.855s\n",
      "Epoch [27/300],  train: 0.26875,162.1    val: 0.37575, 198.9  test: 0.47484,223.7,  time: 16.829s\n",
      "Epoch [28/300],  train: 0.25957,158.9    val: 0.36647, 196.2  test: 0.47170,222.7,  time: 16.627s\n",
      "Epoch [29/300],  train: 0.25148,156.3    val: 0.35815, 193.6  test: 0.46934,221.9,  time: 16.747s\n",
      "Epoch [30/300],  train: 0.24307,153.4    val: 0.35025, 191.0  test: 0.46710,220.9,  time: 13.611s\n",
      "Epoch [31/300],  train: 0.23434,150.1    val: 0.34213, 188.3  test: 0.46508,220.0,  time: 12.981s\n",
      "Epoch [32/300],  train: 0.22567,146.7    val: 0.33491, 186.0  test: 0.46363,219.3,  time: 12.857s\n",
      "Epoch [33/300],  train: 0.21810,144.0    val: 0.32773, 183.4  test: 0.46191,218.3,  time: 12.9s\n",
      "Epoch [34/300],  train: 0.21071,141.2    val: 0.32154, 181.3  test: 0.46098,217.7,  time: 14.322s\n",
      "Epoch [35/300],  train: 0.20390,138.8    val: 0.31645, 179.6  test: 0.46071,217.4,  time: 12.593s\n",
      "Epoch [36/300],  train: 0.19734,136.4    val: 0.31113, 177.7  test: 0.46007,216.9,  time: 12.636s\n",
      "Epoch [37/300],  train: 0.19121,134.2    val: 0.30612, 175.8  test: 0.45988,216.4,  time: 12.894s\n",
      "Epoch [38/300],  train: 0.18544,131.9    val: 0.30125, 174.2  test: 0.45895,216.0,  time: 12.678s\n",
      "Epoch [39/300],  train: 0.18074,130.1    val: 0.30614, 175.0  test: 0.46568,217.0,  time: 12.846s\n",
      "Epoch [40/300],  train: 0.17604,128.1    val: 0.29119, 170.9  test: 0.45696,215.1,  time: 13.133s\n",
      "Epoch [41/300],  train: 0.17170,126.3    val: 0.30544, 174.3  test: 0.47139,217.8,  time: 13.862s\n",
      "Epoch [42/300],  train: 0.16804,124.9    val: 0.29268, 170.5  test: 0.46171,215.4,  time: 13.182s\n",
      "Epoch [43/300],  train: 0.16431,123.3    val: 0.30996, 175.1  test: 0.48155,219.7,  time: 14.457s\n",
      "Epoch [44/300],  train: 0.16024,121.7    val: 0.29917, 172.0  test: 0.47185,217.5,  time: 14.785s\n",
      "Epoch [45/300],  train: 0.15643,120.1    val: 0.29872, 171.6  test: 0.47410,217.6,  time: 15.412s\n",
      "Epoch [46/300],  train: 0.15305,118.7    val: 0.28146, 168.3  test: 0.46354,217.4,  time: 12.492s\n",
      "Epoch [47/300],  train: 0.14978,117.4    val: 0.32117, 178.0  test: 0.50336,224.2,  time: 12.989s\n",
      "Epoch [48/300],  train: 0.14611,115.9    val: 0.30848, 174.5  test: 0.49168,221.7,  time: 16.559s\n",
      "Epoch [49/300],  train: 0.14220,114.3    val: 0.31067, 174.9  test: 0.49548,222.4,  time: 14.73s\n",
      "Epoch [50/300],  train: 0.13991,113.3    val: 0.27443, 165.9  test: 0.46334,217.3,  time: 13.919s\n",
      "Epoch [51/300],  train: 0.13632,111.8    val: 0.30497, 173.0  test: 0.49461,221.8,  time: 13.237s\n",
      "Epoch [52/300],  train: 0.13365,110.7    val: 0.26039, 159.8  test: 0.45442,213.0,  time: 14.04s\n",
      "Epoch [53/300],  train: 0.13101,109.5    val: 0.26793, 161.7  test: 0.46157,214.2,  time: 13.589s\n",
      "Epoch [54/300],  train: 0.12745,108.0    val: 0.32036, 177.5  test: 0.51804,226.9,  time: 13.501s\n",
      "Epoch [55/300],  train: 0.12562,107.2    val: 0.29491, 169.8  test: 0.49161,221.0,  time: 13.492s\n",
      "Epoch [56/300],  train: 0.12233,105.8    val: 0.29923, 171.1  test: 0.49596,221.8,  time: 13.293s\n",
      "Epoch [57/300],  train: 0.12047,104.9    val: 0.25316, 157.4  test: 0.45513,213.2,  time: 13.359s\n",
      "Epoch [58/300],  train: 0.11773,103.7    val: 0.30533, 173.0  test: 0.50912,224.8,  time: 13.436s\n",
      "Epoch [59/300],  train: 0.11545,102.7    val: 0.29100, 168.3  test: 0.50000,222.1,  time: 13.055s\n",
      "Epoch [60/300],  train: 0.11350,101.8    val: 0.27686, 163.7  test: 0.48233,218.0,  time: 13.059s\n",
      "Epoch [61/300],  train: 0.11101,100.7    val: 0.25572, 158.4  test: 0.46508,216.2,  time: 13.088s\n",
      "Epoch [62/300],  train: 0.10886,99.7    val: 0.28312, 165.8  test: 0.49248,220.4,  time: 13.209s\n",
      "Epoch [63/300],  train: 0.10680,98.8    val: 0.24667, 153.8  test: 0.45790,211.9,  time: 13.276s\n",
      "Epoch [64/300],  train: 0.10473,97.9    val: 0.27724, 163.9  test: 0.48978,219.5,  time: 13.104s\n",
      "Epoch [65/300],  train: 0.10368,97.3    val: 0.25035, 154.5  test: 0.46458,213.2,  time: 13.095s\n",
      "Epoch [66/300],  train: 0.10113,96.1    val: 0.28050, 165.1  test: 0.49953,221.9,  time: 13.391s\n",
      "Epoch [67/300],  train: 0.09919,95.2    val: 0.28124, 165.3  test: 0.49885,221.7,  time: 13.039s\n",
      "Epoch [68/300],  train: 0.09772,94.5    val: 0.23370, 150.0  test: 0.45507,212.2,  time: 12.976s\n",
      "Epoch [69/300],  train: 0.09664,93.9    val: 0.25016, 154.4  test: 0.46958,214.1,  time: 13.86s\n",
      "Epoch [70/300],  train: 0.09387,92.7    val: 0.32360, 179.4  test: 0.54266,232.9,  time: 14.723s\n",
      "Epoch [71/300],  train: 0.09230,91.9    val: 0.23053, 148.3  test: 0.45452,211.7,  time: 15.623s\n",
      "Epoch [72/300],  train: 0.09177,91.5    val: 0.27483, 163.0  test: 0.50126,222.0,  time: 13.169s\n",
      "Epoch [73/300],  train: 0.08943,90.4    val: 0.24268, 151.9  test: 0.46862,213.4,  time: 13.091s\n",
      "Epoch [74/300],  train: 0.08776,89.6    val: 0.23348, 148.5  test: 0.46171,211.7,  time: 13.675s\n",
      "Epoch [75/300],  train: 0.08695,89.1    val: 0.23388, 148.6  test: 0.46086,211.7,  time: 14.078s\n",
      "Epoch [76/300],  train: 0.08558,88.3    val: 0.24003, 150.7  test: 0.47008,213.5,  time: 13.093s\n",
      "Epoch [77/300],  train: 0.08414,87.7    val: 0.24998, 154.4  test: 0.48084,216.6,  time: 13.385s\n",
      "Epoch [78/300],  train: 0.08256,86.8    val: 0.23377, 148.3  test: 0.46444,212.2,  time: 13.497s\n",
      "Epoch [79/300],  train: 0.08162,86.3    val: 0.23970, 150.5  test: 0.47364,214.3,  time: 13.351s\n",
      "Epoch [80/300],  train: 0.07997,85.5    val: 0.22345, 144.9  test: 0.45976,210.9,  time: 14.398s\n",
      "Epoch [81/300],  train: 0.07887,84.9    val: 0.24296, 151.9  test: 0.47528,215.3,  time: 14.199s\n",
      "Epoch [82/300],  train: 0.07844,84.5    val: 0.24508, 152.2  test: 0.47837,215.3,  time: 13.54s\n",
      "Epoch [83/300],  train: 0.07691,83.8    val: 0.22123, 143.7  test: 0.45954,210.4,  time: 13.504s\n"
     ]
    },
    {
     "name": "stderr",
     "output_type": "stream",
     "text": [
      "\n",
      "KeyboardInterrupt\n",
      "\n"
     ]
    }
   ],
   "execution_count": 8
  },
  {
   "metadata": {
    "ExecuteTime": {
     "end_time": "2024-11-16T10:49:11.260463Z",
     "start_time": "2024-11-16T10:49:11.260463Z"
    }
   },
   "cell_type": "code",
   "source": "test(test_dataset, model, nn.MSELoss(), accuracy)",
   "id": "dfc37b04d4ae7fea",
   "outputs": [],
   "execution_count": null
  },
  {
   "metadata": {},
   "cell_type": "code",
   "source": "test(train_dataset, model, nn.MSELoss(), accuracy)",
   "id": "2bea0613ee7f39bc",
   "outputs": [],
   "execution_count": null
  },
  {
   "metadata": {
    "ExecuteTime": {
     "end_time": "2024-11-16T10:49:11.262467Z",
     "start_time": "2024-11-16T10:49:11.261467Z"
    }
   },
   "cell_type": "code",
   "source": "torch.save(dict(model.state_dict()), 'model.pt')",
   "id": "40372181fbaea4e",
   "outputs": [],
   "execution_count": null
  }
 ],
 "metadata": {
  "kernelspec": {
   "display_name": "Python 3",
   "language": "python",
   "name": "python3"
  },
  "language_info": {
   "codemirror_mode": {
    "name": "ipython",
    "version": 2
   },
   "file_extension": ".py",
   "mimetype": "text/x-python",
   "name": "python",
   "nbconvert_exporter": "python",
   "pygments_lexer": "ipython2",
   "version": "2.7.6"
  }
 },
 "nbformat": 4,
 "nbformat_minor": 5
}
