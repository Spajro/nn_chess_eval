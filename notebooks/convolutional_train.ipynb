{
 "cells": [
  {
   "cell_type": "code",
   "id": "initial_id",
   "metadata": {
    "collapsed": true,
    "ExecuteTime": {
     "end_time": "2024-11-18T11:46:33.677179Z",
     "start_time": "2024-11-18T11:46:32.485996Z"
    }
   },
   "source": [
    "import torch\n",
    "from torch import nn\n",
    "\n",
    "from src.data_loading import wdl_to_cp\n",
    "from src.data_loading_3d import Dataset3D\n",
    "\n",
    "from src.core import train, test\n",
    "from src.patches import TRAIN_DATASET_PATCH, TEST_DATASET_PATCH"
   ],
   "outputs": [],
   "execution_count": 1
  },
  {
   "metadata": {
    "ExecuteTime": {
     "end_time": "2024-11-18T11:46:33.680846Z",
     "start_time": "2024-11-18T11:46:33.677179Z"
    }
   },
   "cell_type": "code",
   "source": "BATCH_SIZE = 64",
   "id": "c4e57db20592e918",
   "outputs": [],
   "execution_count": 2
  },
  {
   "metadata": {
    "ExecuteTime": {
     "end_time": "2024-11-18T11:48:59.599895Z",
     "start_time": "2024-11-18T11:46:33.680846Z"
    }
   },
   "cell_type": "code",
   "source": [
    "train_dataset = Dataset3D(TRAIN_DATASET_PATCH, BATCH_SIZE)\n",
    "test_dataset = Dataset3D(TEST_DATASET_PATCH, BATCH_SIZE)\n",
    "len(train_dataset),len(test_dataset)"
   ],
   "id": "f7cf8457fd6e36a1",
   "outputs": [
    {
     "data": {
      "text/plain": [
       "(13149, 3287)"
      ]
     },
     "execution_count": 3,
     "metadata": {},
     "output_type": "execute_result"
    }
   ],
   "execution_count": 3
  },
  {
   "metadata": {
    "ExecuteTime": {
     "end_time": "2024-11-18T11:48:59.603506Z",
     "start_time": "2024-11-18T11:48:59.599895Z"
    }
   },
   "cell_type": "code",
   "source": [
    "def accuracy(out, truth):\n",
    "    return wdl_to_cp(torch.abs(truth - out))"
   ],
   "id": "86644199c105ea3e",
   "outputs": [],
   "execution_count": 4
  },
  {
   "metadata": {
    "ExecuteTime": {
     "end_time": "2024-11-18T11:49:21.232781Z",
     "start_time": "2024-11-18T11:49:21.222909Z"
    }
   },
   "cell_type": "code",
   "source": [
    "class Model(nn.Module):\n",
    "    def __init__(self, *args, **kwargs):\n",
    "        super(Model, self).__init__()\n",
    "        self.classifier = nn.Sequential(*args, **kwargs)\n",
    "\n",
    "    def forward(self, X):\n",
    "        return self.classifier.forward(X)\n",
    "\n",
    "\n",
    "model = Model(nn.Conv2d(12, 32, kernel_size=4, stride=2, padding=4),\n",
    "              nn.ReLU(),\n",
    "              nn.Conv2d(32, 128, kernel_size=6, stride=2, padding=4),\n",
    "              nn.ReLU(),\n",
    "              nn.Conv2d(128, 512, kernel_size=6, stride=2, padding=2),\n",
    "              nn.ReLU(),\n",
    "              nn.MaxPool2d(kernel_size=2, stride=1),\n",
    "              nn.Conv2d(512, 64, kernel_size=1, stride=2),\n",
    "              nn.ReLU(),\n",
    "              nn.Flatten(),\n",
    "              nn.Linear(64, 16),\n",
    "              nn.ReLU(),\n",
    "              nn.Linear(16, 1),\n",
    "              )"
   ],
   "id": "40d5321f8631f8a8",
   "outputs": [],
   "execution_count": 7
  },
  {
   "metadata": {
    "ExecuteTime": {
     "end_time": "2024-11-18T11:49:27.154544Z",
     "start_time": "2024-11-18T11:49:21.633987Z"
    }
   },
   "cell_type": "code",
   "source": "test(train_dataset, model, nn.MSELoss(), accuracy)",
   "id": "7bc679e2f1ed286f",
   "outputs": [
    {
     "name": "stdout",
     "output_type": "stream",
     "text": [
      "Dataset size: 13149\n",
      "test_loss: 0.7366759070938318, test_accuracy: 289.75068232398297, time: 5.477s\n"
     ]
    }
   ],
   "execution_count": 8
  },
  {
   "metadata": {
    "ExecuteTime": {
     "end_time": "2024-11-18T11:49:30.803309Z",
     "start_time": "2024-11-18T11:49:29.304384Z"
    }
   },
   "cell_type": "code",
   "source": "test(test_dataset, model, nn.MSELoss(), accuracy)",
   "id": "fc39bf2edaa8b7da",
   "outputs": [
    {
     "name": "stdout",
     "output_type": "stream",
     "text": [
      "Dataset size: 3287\n",
      "test_loss: 0.7361266386610489, test_accuracy: 289.39922680693775, time: 1.495s\n"
     ]
    }
   ],
   "execution_count": 9
  },
  {
   "metadata": {
    "ExecuteTime": {
     "end_time": "2024-11-18T12:16:47.394348Z",
     "start_time": "2024-11-18T11:49:30.803309Z"
    }
   },
   "cell_type": "code",
   "source": [
    "train(train_dataset,\n",
    "      test_dataset,\n",
    "      model,\n",
    "      nn.MSELoss(),\n",
    "      torch.optim.SGD(model.classifier.parameters(), lr=0.02),\n",
    "      accuracy,\n",
    "      60)"
   ],
   "id": "86e2b6dcc72b0656",
   "outputs": [
    {
     "name": "stdout",
     "output_type": "stream",
     "text": [
      "Dataset size: 13149\n",
      "Epoch [1/60],  train: 0.68134,275.2    val: 0.73586, 286.7  test: 0.73612,286.9,  time: 28.643s\n",
      "Epoch [2/60],  train: 0.46506,223.3    val: 0.69375, 278.5  test: 0.69479,278.9,  time: 27.628s\n",
      "Epoch [3/60],  train: 0.42095,208.1    val: 0.66198, 272.0  test: 0.66496,272.8,  time: 25.408s\n",
      "Epoch [4/60],  train: 0.40236,201.3    val: 0.63894, 266.4  test: 0.64436,267.7,  time: 25.201s\n",
      "Epoch [5/60],  train: 0.39185,197.5    val: 0.62501, 263.6  test: 0.63303,265.5,  time: 26.629s\n",
      "Epoch [6/60],  train: 0.37892,192.9    val: 0.62963, 263.4  test: 0.64078,266.0,  time: 29.283s\n",
      "Epoch [7/60],  train: 0.36740,188.8    val: 0.62271, 261.0  test: 0.63885,264.6,  time: 26.754s\n",
      "Epoch [8/60],  train: 0.35519,184.7    val: 0.61546, 258.0  test: 0.63713,262.9,  time: 27.686s\n",
      "Epoch [9/60],  train: 0.34199,180.2    val: 0.59585, 252.6  test: 0.62485,259.2,  time: 26.643s\n",
      "Epoch [10/60],  train: 0.32743,175.3    val: 0.57846, 247.3  test: 0.61570,256.0,  time: 25.85s\n",
      "Epoch [11/60],  train: 0.31112,169.8    val: 0.57624, 244.9  test: 0.62136,255.5,  time: 28.269s\n",
      "Epoch [12/60],  train: 0.29292,163.7    val: 0.57236, 242.0  test: 0.62663,254.9,  time: 26.808s\n",
      "Epoch [13/60],  train: 0.27296,157.0    val: 0.56537, 242.3  test: 0.62671,257.0,  time: 26.138s\n",
      "Epoch [14/60],  train: 0.25307,150.3    val: 0.55526, 235.9  test: 0.62945,253.8,  time: 25.993s\n",
      "Epoch [15/60],  train: 0.23283,143.4    val: 0.54491, 231.7  test: 0.62903,252.0,  time: 27.847s\n",
      "Epoch [16/60],  train: 0.21255,136.3    val: 0.54899, 230.4  test: 0.64216,253.0,  time: 25.603s\n",
      "Epoch [17/60],  train: 0.19281,129.4    val: 0.50819, 221.6  test: 0.61184,247.4,  time: 25.096s\n",
      "Epoch [18/60],  train: 0.17483,122.9    val: 0.51311, 222.3  test: 0.62146,249.3,  time: 24.738s\n",
      "Epoch [19/60],  train: 0.15722,116.4    val: 0.51431, 220.7  test: 0.63173,250.0,  time: 25.726s\n",
      "Epoch [20/60],  train: 0.14137,110.5    val: 0.50187, 217.9  test: 0.62341,248.3,  time: 29.144s\n",
      "Epoch [21/60],  train: 0.12807,105.3    val: 0.53782, 223.5  test: 0.66476,255.1,  time: 25.397s\n",
      "Epoch [22/60],  train: 0.11555,100.3    val: 0.52007, 217.5  test: 0.65561,251.2,  time: 29.387s\n",
      "Epoch [23/60],  train: 0.10477,95.7    val: 0.49829, 213.6  test: 0.63848,249.3,  time: 29.604s\n",
      "Epoch [24/60],  train: 0.09545,91.7    val: 0.51935, 213.7  test: 0.66500,250.1,  time: 29.699s\n",
      "Epoch [25/60],  train: 0.08651,87.7    val: 0.53199, 216.9  test: 0.68259,254.4,  time: 29.77s\n",
      "Epoch [26/60],  train: 0.07938,84.2    val: 0.55492, 222.2  test: 0.71004,260.7,  time: 26.365s\n",
      "Epoch [27/60],  train: 0.07280,80.9    val: 0.52949, 214.6  test: 0.69132,254.7,  time: 25.048s\n",
      "Epoch [28/60],  train: 0.06636,77.7    val: 0.52332, 211.6  test: 0.69058,253.7,  time: 28.005s\n",
      "Epoch [29/60],  train: 0.06129,74.8    val: 0.50424, 208.5  test: 0.67520,251.8,  time: 26.919s\n",
      "Epoch [30/60],  train: 0.05657,72.1    val: 0.50684, 207.4  test: 0.68147,251.8,  time: 25.482s\n",
      "Epoch [31/60],  train: 0.05235,69.5    val: 0.48855, 203.4  test: 0.66377,248.3,  time: 26.116s\n",
      "Epoch [32/60],  train: 0.04842,67.1    val: 0.50487, 207.5  test: 0.68136,252.7,  time: 25.375s\n",
      "Epoch [33/60],  train: 0.04494,64.8    val: 0.47676, 201.8  test: 0.65634,248.5,  time: 29.646s\n",
      "Epoch [34/60],  train: 0.04187,62.7    val: 0.49313, 204.4  test: 0.67306,251.0,  time: 27.255s\n",
      "Epoch [35/60],  train: 0.03911,60.7    val: 0.49534, 204.5  test: 0.67805,251.7,  time: 29.623s\n",
      "Epoch [36/60],  train: 0.03670,58.9    val: 0.48632, 201.8  test: 0.66907,249.5,  time: 29.186s\n",
      "Epoch [37/60],  train: 0.03474,57.3    val: 0.49306, 203.1  test: 0.67947,251.6,  time: 28.392s\n",
      "Epoch [38/60],  train: 0.03277,55.8    val: 0.47138, 198.6  test: 0.65763,247.3,  time: 28.564s\n",
      "Epoch [39/60],  train: 0.03105,54.4    val: 0.48607, 200.9  test: 0.67655,250.2,  time: 25.898s\n",
      "Epoch [40/60],  train: 0.02954,53.1    val: 0.48303, 200.5  test: 0.67085,249.9,  time: 26.028s\n",
      "Epoch [41/60],  train: 0.02817,51.8    val: 0.46540, 196.4  test: 0.65695,247.0,  time: 26.981s\n",
      "Epoch [42/60],  train: 0.02683,50.6    val: 0.47580, 198.2  test: 0.66838,249.0,  time: 27.727s\n",
      "Epoch [43/60],  train: 0.02562,49.5    val: 0.46913, 196.8  test: 0.66099,247.7,  time: 29.008s\n",
      "Epoch [44/60],  train: 0.02444,48.4    val: 0.46785, 196.6  test: 0.66307,248.1,  time: 29.462s\n",
      "Epoch [45/60],  train: 0.02309,47.1    val: 0.46891, 195.8  test: 0.66706,248.3,  time: 28.968s\n",
      "Epoch [46/60],  train: 0.02202,46.1    val: 0.47584, 197.5  test: 0.67130,249.4,  time: 28.664s\n",
      "Epoch [47/60],  train: 0.02136,45.4    val: 0.46884, 196.2  test: 0.66671,248.5,  time: 25.848s\n",
      "Epoch [48/60],  train: 0.02066,44.6    val: 0.45494, 193.2  test: 0.65215,246.3,  time: 26.337s\n",
      "Epoch [49/60],  train: 0.01984,43.7    val: 0.47024, 196.4  test: 0.66944,249.5,  time: 26.033s\n",
      "Epoch [50/60],  train: 0.01915,43.0    val: 0.47076, 196.0  test: 0.66935,248.8,  time: 28.084s\n",
      "Epoch [51/60],  train: 0.01842,42.1    val: 0.45979, 193.8  test: 0.65865,246.8,  time: 29.921s\n",
      "Epoch [52/60],  train: 0.01779,41.4    val: 0.47264, 196.2  test: 0.67324,250.0,  time: 26.657s\n",
      "Epoch [53/60],  train: 0.01711,40.6    val: 0.46989, 195.7  test: 0.67114,249.4,  time: 25.834s\n",
      "Epoch [54/60],  train: 0.01665,40.1    val: 0.45993, 193.1  test: 0.66239,247.6,  time: 27.014s\n",
      "Epoch [55/60],  train: 0.01606,39.4    val: 0.46616, 195.2  test: 0.66744,249.0,  time: 27.128s\n",
      "Epoch [56/60],  train: 0.01553,38.7    val: 0.45905, 192.8  test: 0.66166,247.3,  time: 25.851s\n",
      "Epoch [57/60],  train: 0.01505,38.1    val: 0.46903, 195.1  test: 0.67229,249.5,  time: 25.827s\n",
      "Epoch [58/60],  train: 0.01473,37.7    val: 0.45687, 192.6  test: 0.65920,247.4,  time: 26.516s\n",
      "Epoch [59/60],  train: 0.01432,37.2    val: 0.45070, 190.6  test: 0.65527,245.8,  time: 30.382s\n",
      "Epoch [60/60],  train: 0.01394,36.7    val: 0.45723, 192.3  test: 0.66250,247.7,  time: 26.248s\n"
     ]
    }
   ],
   "execution_count": 10
  },
  {
   "metadata": {
    "ExecuteTime": {
     "end_time": "2024-11-18T12:16:48.751987Z",
     "start_time": "2024-11-18T12:16:47.394348Z"
    }
   },
   "cell_type": "code",
   "source": "test(test_dataset, model, nn.MSELoss(), accuracy)",
   "id": "dfc37b04d4ae7fea",
   "outputs": [
    {
     "name": "stdout",
     "output_type": "stream",
     "text": [
      "Dataset size: 3287\n",
      "test_loss: 0.6624998499420881, test_accuracy: 247.70778778791066, time: 1.354s\n"
     ]
    }
   ],
   "execution_count": 11
  },
  {
   "metadata": {
    "ExecuteTime": {
     "end_time": "2024-11-18T12:16:54.024422Z",
     "start_time": "2024-11-18T12:16:48.751987Z"
    }
   },
   "cell_type": "code",
   "source": "test(train_dataset, model, nn.MSELoss(), accuracy)",
   "id": "2bea0613ee7f39bc",
   "outputs": [
    {
     "name": "stdout",
     "output_type": "stream",
     "text": [
      "Dataset size: 13149\n",
      "test_loss: 0.4572316542652681, test_accuracy: 192.2754278035751, time: 5.268s\n"
     ]
    }
   ],
   "execution_count": 12
  }
 ],
 "metadata": {
  "kernelspec": {
   "display_name": "Python 3",
   "language": "python",
   "name": "python3"
  },
  "language_info": {
   "codemirror_mode": {
    "name": "ipython",
    "version": 2
   },
   "file_extension": ".py",
   "mimetype": "text/x-python",
   "name": "python",
   "nbconvert_exporter": "python",
   "pygments_lexer": "ipython2",
   "version": "2.7.6"
  }
 },
 "nbformat": 4,
 "nbformat_minor": 5
}
